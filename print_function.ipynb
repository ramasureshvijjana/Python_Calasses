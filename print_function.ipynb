{
 "cells": [
  {
   "cell_type": "markdown",
   "id": "1e8e76d6",
   "metadata": {},
   "source": [
    "## Print() function"
   ]
  },
  {
   "cell_type": "code",
   "execution_count": null,
   "id": "7a574076",
   "metadata": {},
   "outputs": [],
   "source": [
    "print(\"Sureshvj\")  Print a string\n",
    "print(x)  Print a variable “x”\n",
    "print(x,y)  Print two variables.\n",
    "print(f\"Suresh, {0}, {1}\".format(x,y))  Print format str way-1\n",
    "print(f\"Suresh, {}, {}\".format(x,y))  Print format str way-2\n",
    "print(f\"Suresh {x}\")  Print format str way-3\n",
    "print(\"Python\", end='@')  end concatenate 2 print  function messages with end value\n",
    "print('09','12','2016', sep='-')  sep will separate different values with sep value."
   ]
  },
  {
   "cell_type": "markdown",
   "id": "82679826",
   "metadata": {},
   "source": [
    "#### print(\"Sureshvj\") ----------- Print a string"
   ]
  },
  {
   "cell_type": "code",
   "execution_count": 1,
   "id": "c7a579fc",
   "metadata": {},
   "outputs": [
    {
     "name": "stdout",
     "output_type": "stream",
     "text": [
      "Murthy Mutyala\n"
     ]
    }
   ],
   "source": [
    "# Way -1\n",
    "print(\"Murthy Mutyala\")"
   ]
  },
  {
   "cell_type": "markdown",
   "id": "b073bfd2",
   "metadata": {},
   "source": [
    "#### print(x) ----------- Print a variable “x”"
   ]
  },
  {
   "cell_type": "code",
   "execution_count": 5,
   "id": "612b135c",
   "metadata": {},
   "outputs": [
    {
     "name": "stdout",
     "output_type": "stream",
     "text": [
      "10\n"
     ]
    }
   ],
   "source": [
    "# Way -2\n",
    "x = 10\n",
    "\n",
    "print(x)"
   ]
  },
  {
   "cell_type": "markdown",
   "id": "1af088ac",
   "metadata": {},
   "source": [
    "#### print(x,y) -------------- Print two variables."
   ]
  },
  {
   "cell_type": "code",
   "execution_count": 8,
   "id": "24a9bb76",
   "metadata": {},
   "outputs": [
    {
     "name": "stdout",
     "output_type": "stream",
     "text": [
      "Rama Pandu\n"
     ]
    }
   ],
   "source": [
    "# Way -3\n",
    "x = \"Pandu\"\n",
    "y = \"Rama\"\n",
    "\n",
    "print(y, x)"
   ]
  },
  {
   "cell_type": "markdown",
   "id": "ada2facf",
   "metadata": {},
   "source": [
    "#### print(f\"Suresh, {0}, {1}\".format(x,y)) ---------------- Print format str way-1"
   ]
  },
  {
   "cell_type": "code",
   "execution_count": 12,
   "id": "d0c35212",
   "metadata": {},
   "outputs": [
    {
     "name": "stdout",
     "output_type": "stream",
     "text": [
      "This is Murthy and I am 24 years old\n"
     ]
    }
   ],
   "source": [
    "# Way -4\n",
    "\n",
    "age = 24\n",
    "name = \"Murthy\"\n",
    "\n",
    "# This is murthy and I am 24 years old.\n",
    "\n",
    "print(\"This is {0} and I am {1} years old\".format(name, age))"
   ]
  },
  {
   "cell_type": "code",
   "execution_count": 13,
   "id": "c1043671",
   "metadata": {},
   "outputs": [
    {
     "name": "stdout",
     "output_type": "stream",
     "text": [
      "This is Murthy and I am 24 years old\n"
     ]
    }
   ],
   "source": [
    "age = 24\n",
    "name = \"Murthy\"\n",
    "\n",
    "# This is murthy and I am 24 years old.\n",
    "\n",
    "print(\"This is {1} and I am {0} years old\".format(age, name))"
   ]
  },
  {
   "cell_type": "code",
   "execution_count": 14,
   "id": "6edeed26",
   "metadata": {},
   "outputs": [
    {
     "name": "stdout",
     "output_type": "stream",
     "text": [
      "This is 24 and I am 24 years old\n"
     ]
    }
   ],
   "source": [
    "print(\"This is {1} and I am {0} years old\".format(age, age))"
   ]
  },
  {
   "cell_type": "markdown",
   "id": "ce758b28",
   "metadata": {},
   "source": [
    "#### print(f\"Suresh, {}, {}\".format(x,y)) -------------- Print format str way-2"
   ]
  },
  {
   "cell_type": "code",
   "execution_count": 15,
   "id": "e87c06da",
   "metadata": {},
   "outputs": [
    {
     "name": "stdout",
     "output_type": "stream",
     "text": [
      "This is Murthy and I am 24 years old\n"
     ]
    }
   ],
   "source": [
    "# Way -4 - Without index numbers\n",
    "\n",
    "print(\"This is {} and I am {} years old\".format(name, age))"
   ]
  },
  {
   "cell_type": "markdown",
   "id": "ac1cbb28",
   "metadata": {},
   "source": [
    "#### print(f\"Suresh {x}\") ------------ Print format str way-3"
   ]
  },
  {
   "cell_type": "code",
   "execution_count": 16,
   "id": "9572cf84",
   "metadata": {},
   "outputs": [
    {
     "name": "stdout",
     "output_type": "stream",
     "text": [
      "This is Murthy and I am 24 years old\n"
     ]
    }
   ],
   "source": [
    "print(f\"This is {name} and I am {age} years old\")"
   ]
  },
  {
   "cell_type": "markdown",
   "id": "87131fc5",
   "metadata": {},
   "source": [
    "#### print(\"Python\", end='@') -------------- end concatenate 2 print  function messages with end value"
   ]
  },
  {
   "cell_type": "code",
   "execution_count": 22,
   "id": "33e066bd",
   "metadata": {},
   "outputs": [
    {
     "name": "stdout",
     "output_type": "stream",
     "text": [
      "Pandu @ Ramu @ "
     ]
    }
   ],
   "source": [
    "#Way- 5\n",
    "\n",
    "print(\"Pandu\", end=\" @ \")\n",
    "print(\"Ramu\", end=\" @ \")"
   ]
  },
  {
   "cell_type": "markdown",
   "id": "4a1605a9",
   "metadata": {},
   "source": [
    "#### print('09','12','2016', sep='-') ---------- sep will separate different values with sep value."
   ]
  },
  {
   "cell_type": "code",
   "execution_count": 26,
   "id": "581b0932",
   "metadata": {},
   "outputs": [
    {
     "name": "stdout",
     "output_type": "stream",
     "text": [
      "Pandu_24_1999_Rama\n"
     ]
    }
   ],
   "source": [
    "name = \"Pandu\"\n",
    "age = 24\n",
    "dob = \"1999\"\n",
    "friend = \"Rama\"\n",
    "\n",
    "print(name, age, dob, friend, sep=\"_\")"
   ]
  },
  {
   "cell_type": "code",
   "execution_count": 5,
   "id": "c1fff4d2",
   "metadata": {},
   "outputs": [
    {
     "name": "stdout",
     "output_type": "stream",
     "text": [
      "Hellow world\n",
      "Kiran kumar\n"
     ]
    }
   ],
   "source": [
    "print(\"Hellow world\")\n",
    "print(\"Kiran kumar\")"
   ]
  },
  {
   "cell_type": "code",
   "execution_count": 7,
   "id": "65a0d6e4",
   "metadata": {},
   "outputs": [
    {
     "name": "stdout",
     "output_type": "stream",
     "text": [
      "Kiran kumar\n"
     ]
    }
   ],
   "source": [
    "x = \"Kiran kumar\"\n",
    "\n",
    "print(x)"
   ]
  },
  {
   "cell_type": "code",
   "execution_count": 9,
   "id": "c4aa135d",
   "metadata": {},
   "outputs": [
    {
     "name": "stdout",
     "output_type": "stream",
     "text": [
      "Kiran kumar 26\n"
     ]
    }
   ],
   "source": [
    "x = \"Kiran kumar\"\n",
    "age = 26\n",
    "\n",
    "print(x, age)"
   ]
  },
  {
   "cell_type": "code",
   "execution_count": 10,
   "id": "b648243c",
   "metadata": {},
   "outputs": [
    {
     "name": "stdout",
     "output_type": "stream",
     "text": [
      "Hi, This is kiran kumar and my age is 26\n"
     ]
    }
   ],
   "source": [
    "name = \"kiran kumar\"\n",
    "age = 26\n",
    "print('Hi, This is {0} and my age is {1}'.format(name, age))"
   ]
  },
  {
   "cell_type": "code",
   "execution_count": 12,
   "id": "a60a0144",
   "metadata": {},
   "outputs": [
    {
     "name": "stdout",
     "output_type": "stream",
     "text": [
      "Hi, This is kiran kumar and my age is 26\n",
      "Hi, This is 26 and my age is kiran kumar\n"
     ]
    }
   ],
   "source": [
    "print('Hi, This is {} and my age is {}'.format(name, age))\n",
    "print('Hi, This is {} and my age is {}'.format(age, name))"
   ]
  },
  {
   "cell_type": "code",
   "execution_count": 14,
   "id": "840290be",
   "metadata": {},
   "outputs": [
    {
     "name": "stdout",
     "output_type": "stream",
     "text": [
      "Hi, This is kiran kumar and my age is 26\n"
     ]
    }
   ],
   "source": [
    "print(f'Hi, This is {name} and my age is {age}')"
   ]
  },
  {
   "cell_type": "code",
   "execution_count": 18,
   "id": "950b0fe4",
   "metadata": {},
   "outputs": [
    {
     "name": "stdout",
     "output_type": "stream",
     "text": [
      "Kiran Kumar @ B.tech\n"
     ]
    }
   ],
   "source": [
    "print(\"Kiran Kumar \", end = \"@\")\n",
    "print(\" B.tech\")"
   ]
  },
  {
   "cell_type": "code",
   "execution_count": 21,
   "id": "976eecf5",
   "metadata": {},
   "outputs": [
    {
     "name": "stdout",
     "output_type": "stream",
     "text": [
      "kiran kumar-26\n",
      "17-01-1996\n"
     ]
    }
   ],
   "source": [
    "print(name, age, sep = \"-\")\n",
    "print(\"17\", \"01\", \"1996\", sep = \"-\")"
   ]
  },
  {
   "cell_type": "code",
   "execution_count": null,
   "id": "fa6bfb1c",
   "metadata": {},
   "outputs": [],
   "source": []
  }
 ],
 "metadata": {
  "kernelspec": {
   "display_name": "Python 3",
   "language": "python",
   "name": "python3"
  },
  "language_info": {
   "codemirror_mode": {
    "name": "ipython",
    "version": 3
   },
   "file_extension": ".py",
   "mimetype": "text/x-python",
   "name": "python",
   "nbconvert_exporter": "python",
   "pygments_lexer": "ipython3",
   "version": "3.8.3"
  }
 },
 "nbformat": 4,
 "nbformat_minor": 5
}
