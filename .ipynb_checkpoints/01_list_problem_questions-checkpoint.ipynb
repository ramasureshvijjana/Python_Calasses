{
 "cells": [
  {
   "cell_type": "markdown",
   "id": "18dc6f77-2115-489f-b37c-9b116b781529",
   "metadata": {},
   "source": [
    "### Problem-1:\n",
    "You are given a 2D list (a list of lists) containing integers. Your task is to identify the index numbers of the sublists whose average value is greater than 20.\n",
    "\n",
    "#### Detailed Requirements:  \n",
    "##### Input:  \n",
    "> A 2D list of integers, where each element is a list of integers.  \n",
    "\n",
    "##### Output:\n",
    "> A list of index numbers of the sublists whose average is greater than 20.\n",
    "\n",
    "##### Edge Cases:\n",
    "> If a sublist is empty, it should be skipped.  \n",
    "> If no sublist has an average greater than 20, the output should be an empty list.\n",
    "\n",
    "##### Constraints:\n",
    "> The elements of the sublists are integers.  \n",
    "> The 2D list can have varying lengths of sublists.  \n",
    "> The 2D list can have empty sublists.\n",
    "\n",
    "##### Example-1:\n",
    "INPUT: two_d_list = [\n",
    "    [10, 30, 50],\n",
    "    [5, 10, 15],\n",
    "    [25, 30],\n",
    "    [20],\n",
    "    [21, 22]\n",
    "]  \n",
    "OUTPUT: [0, 2, 4]  \n",
    "##### Example-2:  \n",
    "INPUT: two_d_list = [\n",
    "    [10, 15, 20],\n",
    "    [5, 10, 10],\n",
    "    [5, 5],\n",
    "    [],\n",
    "    [10, 10, 10, 10]\n",
    "]  \n",
    "\n",
    "OUTPUT: []"
   ]
  },
  {
   "cell_type": "code",
   "execution_count": 2,
   "id": "71673342-37bf-4a75-a434-78aa6a3d9725",
   "metadata": {},
   "outputs": [
    {
     "name": "stdout",
     "output_type": "stream",
     "text": [
      "[]\n"
     ]
    }
   ],
   "source": [
    "two_dim_data = [ [10, 15, 20], [5, 10, 10], [5, 5], [], [10, 10, 10, 10] ]\n",
    "avg_greater_than_20_idxs = []\n",
    "for idx, value in enumerate(two_dim_data):\n",
    "    if len(value) != 0:\n",
    "        avg = sum(value)/len(value)\n",
    "        if avg > 20:\n",
    "            avg_greater_than_20_idxs.append(idx)\n",
    "print(avg_greater_than_20_idxs)"
   ]
  },
  {
   "cell_type": "code",
   "execution_count": 11,
   "id": "91cf918a-319c-4830-9542-aaf8b764ade6",
   "metadata": {},
   "outputs": [
    {
     "name": "stdout",
     "output_type": "stream",
     "text": [
      "[]\n"
     ]
    }
   ],
   "source": [
    "two_dim_data = [ [10, 15, 20], [5, 10, 10], [5, 5], [], [ 10, 10, 10] ]\n",
    "avg_greater_than_20_idxs = []\n",
    "is_process_success = True\n",
    "\n",
    "for idx, value in enumerate(two_dim_data):\n",
    "    # Checking Constraints\n",
    "    if all([type(element) == int for element in value]):\n",
    "        if len(value) != 0:\n",
    "            if sum(value)/len(value) > 20:\n",
    "                avg_greater_than_20_idxs.append(idx)\n",
    "    else: \n",
    "        print(f\"ERROR: The data contains invalid datatype at index {idx} with value {value}.\")\n",
    "        is_process_success = False\n",
    "        \n",
    "if is_process_success: print(avg_greater_than_20_idxs)"
   ]
  },
  {
   "cell_type": "code",
   "execution_count": null,
   "id": "bdeb5810-12f4-4844-8b38-ab1cb0c50f28",
   "metadata": {},
   "outputs": [],
   "source": []
  }
 ],
 "metadata": {
  "kernelspec": {
   "display_name": "Python 3 (ipykernel)",
   "language": "python",
   "name": "python3"
  },
  "language_info": {
   "codemirror_mode": {
    "name": "ipython",
    "version": 3
   },
   "file_extension": ".py",
   "mimetype": "text/x-python",
   "name": "python",
   "nbconvert_exporter": "python",
   "pygments_lexer": "ipython3",
   "version": "3.11.7"
  }
 },
 "nbformat": 4,
 "nbformat_minor": 5
}
