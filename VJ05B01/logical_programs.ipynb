{
 "cells": [
  {
   "cell_type": "markdown",
   "id": "b5fd9786-ae27-42d8-bf43-02691d3fe6eb",
   "metadata": {},
   "source": [
    "#### Check the given number is even or odd?"
   ]
  },
  {
   "cell_type": "code",
   "execution_count": 7,
   "id": "084ad3df-c4ca-40b5-b674-6e6cec13a57e",
   "metadata": {},
   "outputs": [
    {
     "name": "stdin",
     "output_type": "stream",
     "text": [
      "Enter an integer value: 1\n"
     ]
    },
    {
     "name": "stdout",
     "output_type": "stream",
     "text": [
      "1 is a odd number.\n"
     ]
    }
   ],
   "source": [
    "number = int(input(\"Enter an integer value:\"))\n",
    "\n",
    "if number % 2 == 0:\n",
    "    print(f\"{number} is an even number.\")\n",
    "else: print(f\"{number} is a odd number.\")"
   ]
  },
  {
   "cell_type": "code",
   "execution_count": 8,
   "id": "c6b3b9c5-dc75-4355-9478-cbcd9d9f0e0a",
   "metadata": {},
   "outputs": [
    {
     "name": "stdin",
     "output_type": "stream",
     "text": [
      "Enter an integer value: 44\n"
     ]
    },
    {
     "name": "stdout",
     "output_type": "stream",
     "text": [
      "44 is an even number.\n"
     ]
    }
   ],
   "source": [
    "number = int(input(\"Enter an integer value:\"))\n",
    "print(f\"{number} is an even number.\" if number % 2 == 0 else f\"{number} is a odd number.\")"
   ]
  },
  {
   "cell_type": "code",
   "execution_count": null,
   "id": "24c8974f-95b9-45c5-b80a-b94b9ceb60fe",
   "metadata": {},
   "outputs": [],
   "source": []
  }
 ],
 "metadata": {
  "kernelspec": {
   "display_name": "Python 3 (ipykernel)",
   "language": "python",
   "name": "python3"
  },
  "language_info": {
   "codemirror_mode": {
    "name": "ipython",
    "version": 3
   },
   "file_extension": ".py",
   "mimetype": "text/x-python",
   "name": "python",
   "nbconvert_exporter": "python",
   "pygments_lexer": "ipython3",
   "version": "3.11.7"
  }
 },
 "nbformat": 4,
 "nbformat_minor": 5
}
