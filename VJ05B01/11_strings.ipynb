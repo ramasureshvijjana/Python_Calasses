{
 "cells": [
  {
   "cell_type": "markdown",
   "id": "4de35817-2481-4a0e-99c9-f56523ed98e3",
   "metadata": {},
   "source": [
    "# STRING"
   ]
  },
  {
   "cell_type": "markdown",
   "id": "13001e13-bc77-4872-a1e7-145bd6651702",
   "metadata": {},
   "source": [
    "### 1. Define a String Variable:"
   ]
  },
  {
   "cell_type": "code",
   "execution_count": 1,
   "id": "b03e9513-cf99-4237-b06b-9c5062be81a2",
   "metadata": {},
   "outputs": [
    {
     "name": "stdout",
     "output_type": "stream",
     "text": [
      "VJ Vijjana\n"
     ]
    }
   ],
   "source": [
    "name = 'VJ'\n",
    "surname = \"Vijjana\"\n",
    "print(name, surname)"
   ]
  },
  {
   "cell_type": "code",
   "execution_count": 2,
   "id": "a29760f4-9320-4bb2-8c75-6c99c1e4b581",
   "metadata": {},
   "outputs": [
    {
     "name": "stdout",
     "output_type": "stream",
     "text": [
      "Hyderabad, \n",
      "TCS office\n",
      "Q city, \n",
      "TCS office\n"
     ]
    }
   ],
   "source": [
    "addresss = '''Hyderabad, \n",
    "TCS office'''\n",
    "\n",
    "addresss_1 = \"\"\"Q city, \n",
    "TCS office\"\"\"\n",
    "\n",
    "print(addresss)\n",
    "print(addresss_1)"
   ]
  },
  {
   "cell_type": "markdown",
   "id": "9a9fd40d-6f08-4f35-8c97-9809ea9697d2",
   "metadata": {},
   "source": [
    "### 2. Properties:"
   ]
  },
  {
   "cell_type": "markdown",
   "id": "33a84d1e-69b6-4950-a78f-408fd142a80d",
   "metadata": {},
   "source": [
    "### 2.1. Immutability:"
   ]
  },
  {
   "cell_type": "code",
   "execution_count": 3,
   "id": "d064e36d-c328-43ae-adaf-832da22a04af",
   "metadata": {},
   "outputs": [
    {
     "name": "stdout",
     "output_type": "stream",
     "text": [
      "2246459841584\n"
     ]
    }
   ],
   "source": [
    "message = \"Hi This is VJ\"\n",
    "print(id(message))"
   ]
  },
  {
   "cell_type": "code",
   "execution_count": 4,
   "id": "d457f530-25dd-4e58-b95d-0ff7a35fdd85",
   "metadata": {},
   "outputs": [
    {
     "name": "stdout",
     "output_type": "stream",
     "text": [
      "2246459866720\n"
     ]
    }
   ],
   "source": [
    "message = message+\".And\"\n",
    "print(id(message))"
   ]
  },
  {
   "cell_type": "markdown",
   "id": "aba4f93a-b95f-46e1-a56d-a925d9c8dd32",
   "metadata": {},
   "source": [
    "### 2.2. Slicing:"
   ]
  },
  {
   "cell_type": "code",
   "execution_count": 5,
   "id": "1db3cbd5-5323-4e66-9472-cd29254e3b3f",
   "metadata": {},
   "outputs": [
    {
     "name": "stdout",
     "output_type": "stream",
     "text": [
      "VJ\n"
     ]
    }
   ],
   "source": [
    "message = \"Hi This is VJ\"\n",
    "print(message[11:13])"
   ]
  },
  {
   "cell_type": "code",
   "execution_count": 6,
   "id": "29ee6b04-e532-44a6-99fd-03f26ba0b05b",
   "metadata": {},
   "outputs": [
    {
     "name": "stdout",
     "output_type": "stream",
     "text": [
      "VJ\n"
     ]
    }
   ],
   "source": [
    "print(message[11:])"
   ]
  },
  {
   "cell_type": "code",
   "execution_count": 7,
   "id": "9c91505c-27ab-4a10-b8fb-36c3a442efd9",
   "metadata": {},
   "outputs": [
    {
     "name": "stdout",
     "output_type": "stream",
     "text": [
      "VJ\n"
     ]
    }
   ],
   "source": [
    "print(message[-2:])"
   ]
  },
  {
   "cell_type": "markdown",
   "id": "2904d80d-a50d-4d0f-b74c-1f51631f0d50",
   "metadata": {},
   "source": [
    "### String Function:"
   ]
  },
  {
   "cell_type": "code",
   "execution_count": 8,
   "id": "02b016e8-afae-4a2e-88ac-7cde7f6a961b",
   "metadata": {},
   "outputs": [
    {
     "name": "stdout",
     "output_type": "stream",
     "text": [
      "Hi This is VJ\n"
     ]
    }
   ],
   "source": [
    "message = \"Hi This is VJ\"\n",
    "print(message)"
   ]
  },
  {
   "cell_type": "code",
   "execution_count": 9,
   "id": "60b904d2-c7dc-45da-a163-1c91ff322a23",
   "metadata": {},
   "outputs": [
    {
     "name": "stdout",
     "output_type": "stream",
     "text": [
      "Hi this is vj\n"
     ]
    }
   ],
   "source": [
    "print(message.capitalize())"
   ]
  },
  {
   "cell_type": "code",
   "execution_count": 10,
   "id": "88917654-65ab-4360-9067-de04bdf65a0c",
   "metadata": {},
   "outputs": [
    {
     "name": "stdout",
     "output_type": "stream",
     "text": [
      "Hi This Is Vj\n"
     ]
    }
   ],
   "source": [
    "print(message.title())"
   ]
  },
  {
   "cell_type": "code",
   "execution_count": 11,
   "id": "62412c29-a5c3-45f4-9ed6-9175fe65f614",
   "metadata": {},
   "outputs": [
    {
     "name": "stdout",
     "output_type": "stream",
     "text": [
      "hi this is vj\n"
     ]
    }
   ],
   "source": [
    "print(message.casefold())"
   ]
  },
  {
   "cell_type": "code",
   "execution_count": 12,
   "id": "32ae96b0-0f8d-44f4-a899-e46fb7a15927",
   "metadata": {},
   "outputs": [
    {
     "name": "stdout",
     "output_type": "stream",
     "text": [
      "gross\n"
     ]
    }
   ],
   "source": [
    "d_string= \"Groß\"\n",
    "print(d_string.casefold())"
   ]
  },
  {
   "cell_type": "code",
   "execution_count": 13,
   "id": "c7f09fd4-177b-4683-9469-5f04aa6b0829",
   "metadata": {},
   "outputs": [
    {
     "name": "stdout",
     "output_type": "stream",
     "text": [
      "groß\n",
      "hi this is vj\n"
     ]
    }
   ],
   "source": [
    "d_string= \"Groß\"\n",
    "print(d_string.lower())\n",
    "print(message.lower())"
   ]
  },
  {
   "cell_type": "code",
   "execution_count": 14,
   "id": "31b6d208-3c35-4a7a-b3a0-0f763b61f032",
   "metadata": {},
   "outputs": [
    {
     "name": "stdout",
     "output_type": "stream",
     "text": [
      "HI THIS IS VJ\n"
     ]
    }
   ],
   "source": [
    "\n",
    "print(message.upper())"
   ]
  },
  {
   "cell_type": "code",
   "execution_count": 15,
   "id": "e8b4adc0-8869-4913-8a26-85cdfe9d3536",
   "metadata": {},
   "outputs": [
    {
     "name": "stdout",
     "output_type": "stream",
     "text": [
      "hI tHIS IS vj\n"
     ]
    }
   ],
   "source": [
    "print(message.swapcase())"
   ]
  },
  {
   "cell_type": "code",
   "execution_count": 2,
   "id": "c5318716-66ac-40cf-9d7d-65a98ee9ac4e",
   "metadata": {},
   "outputs": [
    {
     "name": "stdout",
     "output_type": "stream",
     "text": [
      "True\n",
      "False\n"
     ]
    }
   ],
   "source": [
    "title = \"Vj Academy\"\n",
    "print(title.istitle())\n",
    "\n",
    "title = \"Vj academy\"\n",
    "print(title.istitle())\n",
    "\n"
   ]
  },
  {
   "cell_type": "code",
   "execution_count": 2,
   "id": "9eec8f98-10c8-415d-8803-95ef0bbe0821",
   "metadata": {},
   "outputs": [
    {
     "name": "stdin",
     "output_type": "stream",
     "text": [
      "Give a title:  R Y U\n"
     ]
    },
    {
     "name": "stdout",
     "output_type": "stream",
     "text": [
      "The given input R Y U is title\n"
     ]
    }
   ],
   "source": [
    "# Take a runtime input and check input is title or not. print relevent message according to ckeck.\n",
    "user_input = input(\"Give a title: \")\n",
    "if user_input.istitle():\n",
    "    print(f\"The given input {user_input} is title\")\n",
    "else: print(f\"The given input {user_input} not a title\")"
   ]
  },
  {
   "cell_type": "markdown",
   "id": "275a8f36-2063-4d0d-9ee8-1bd9b427cd3b",
   "metadata": {},
   "source": [
    "### Note: We should not use predefined keywords as variable names."
   ]
  },
  {
   "cell_type": "code",
   "execution_count": 2,
   "id": "c756d4ab-a386-411e-aa25-50827ab89276",
   "metadata": {},
   "outputs": [
    {
     "ename": "TypeError",
     "evalue": "'str' object is not callable",
     "output_type": "error",
     "traceback": [
      "\u001b[1;31m---------------------------------------------------------------------------\u001b[0m",
      "\u001b[1;31mTypeError\u001b[0m                                 Traceback (most recent call last)",
      "Cell \u001b[1;32mIn[2], line 2\u001b[0m\n\u001b[0;32m      1\u001b[0m \u001b[38;5;66;03m# We should not use predefined keywords as variable names.\u001b[39;00m\n\u001b[1;32m----> 2\u001b[0m \u001b[38;5;28minput\u001b[39m \u001b[38;5;241m=\u001b[39m \u001b[38;5;28minput\u001b[39m(\u001b[38;5;124m\"\u001b[39m\u001b[38;5;124mGive a title: \u001b[39m\u001b[38;5;124m\"\u001b[39m)\n\u001b[0;32m      3\u001b[0m \u001b[38;5;28;01mif\u001b[39;00m \u001b[38;5;28minput\u001b[39m\u001b[38;5;241m.\u001b[39mistitle():\n\u001b[0;32m      4\u001b[0m     \u001b[38;5;28mprint\u001b[39m(\u001b[38;5;124mf\u001b[39m\u001b[38;5;124m\"\u001b[39m\u001b[38;5;124mThe given input \u001b[39m\u001b[38;5;132;01m{\u001b[39;00m\u001b[38;5;28minput\u001b[39m\u001b[38;5;132;01m}\u001b[39;00m\u001b[38;5;124m is title\u001b[39m\u001b[38;5;124m\"\u001b[39m)\n",
      "\u001b[1;31mTypeError\u001b[0m: 'str' object is not callable"
     ]
    }
   ],
   "source": [
    "# We should not use predefined keywords as variable names.\n",
    "input = input(\"Give a title: \")\n",
    "if input.istitle():\n",
    "    print(f\"The given input {input} is title\")\n",
    "else: print(f\"The given input {input} not a title\")"
   ]
  },
  {
   "cell_type": "code",
   "execution_count": 3,
   "id": "c57776df-e1dd-4db3-bdf1-065f5430eaea",
   "metadata": {},
   "outputs": [
    {
     "name": "stdout",
     "output_type": "stream",
     "text": [
      "True\n"
     ]
    }
   ],
   "source": [
    "name = \"vj\"\n",
    "print(name.islower())"
   ]
  },
  {
   "cell_type": "code",
   "execution_count": 4,
   "id": "90546c73-246b-468c-bdf3-1a589a0236a4",
   "metadata": {},
   "outputs": [
    {
     "name": "stdout",
     "output_type": "stream",
     "text": [
      "True\n"
     ]
    }
   ],
   "source": [
    "name = \"VJ\"\n",
    "print(name.isupper())"
   ]
  },
  {
   "cell_type": "code",
   "execution_count": 13,
   "id": "d4bf773e-e9cf-4daf-9a5f-48a54b047f83",
   "metadata": {},
   "outputs": [
    {
     "data": {
      "text/plain": [
       "'**hi**'"
      ]
     },
     "execution_count": 13,
     "metadata": {},
     "output_type": "execute_result"
    }
   ],
   "source": [
    "name = \"hi\"\n",
    "name_2 = name.center(6,\"*\")\n",
    "len(name_2)\n",
    "name_2"
   ]
  },
  {
   "cell_type": "code",
   "execution_count": 18,
   "id": "54527b5a-5135-4693-9001-a03a6c852df9",
   "metadata": {},
   "outputs": [
    {
     "name": "stdout",
     "output_type": "stream",
     "text": [
      "12\n",
      "8 Kiran  @\n"
     ]
    }
   ],
   "source": [
    "name = \"  Kiran  @  \"\n",
    "print(len(name))\n",
    "name = name.strip()\n",
    "print(len(name), name)"
   ]
  },
  {
   "cell_type": "code",
   "execution_count": 21,
   "id": "5a6bcbee-38c8-48f2-90ad-e63eec577611",
   "metadata": {},
   "outputs": [
    {
     "name": "stdout",
     "output_type": "stream",
     "text": [
      "14 @@Kiran  ,@@vj\n",
      "12 Kiran  ,@@vj\n"
     ]
    }
   ],
   "source": [
    "name = \"@@Kiran  ,@@vj\"\n",
    "print(len(name), name)\n",
    "name = name.strip(\"@\")\n",
    "print(len(name), name)"
   ]
  },
  {
   "cell_type": "code",
   "execution_count": 22,
   "id": "eb36df8d-3ab3-4aab-9237-04b789f9d726",
   "metadata": {},
   "outputs": [
    {
     "name": "stdout",
     "output_type": "stream",
     "text": [
      "11 @@Kiran  @@\n",
      "9 @@Kiran  \n"
     ]
    }
   ],
   "source": [
    "name = \"@@Kiran  @@\"\n",
    "print(len(name), name)\n",
    "name = name.rstrip(\"@\")\n",
    "print(len(name), name)"
   ]
  },
  {
   "cell_type": "code",
   "execution_count": 23,
   "id": "31e395a7-966b-4ae5-aafe-25e07f27d7d6",
   "metadata": {},
   "outputs": [
    {
     "name": "stdout",
     "output_type": "stream",
     "text": [
      "11 @@Kiran  @@\n",
      "9 Kiran  @@\n"
     ]
    }
   ],
   "source": [
    "name = \"@@Kiran  @@\"\n",
    "print(len(name), name)\n",
    "name = name.lstrip(\"@\")\n",
    "print(len(name), name)"
   ]
  },
  {
   "cell_type": "code",
   "execution_count": 26,
   "id": "ea7cff42-edea-4e1e-8dde-bfeece5aa18b",
   "metadata": {},
   "outputs": [
    {
     "name": "stdout",
     "output_type": "stream",
     "text": [
      "1\n"
     ]
    }
   ],
   "source": [
    "names = \"vj, rama, kiran, madhu, suresh, priya,kiran, madhu, kiran, madhu\"\n",
    "print(names.count(\"suresh\"))"
   ]
  },
  {
   "cell_type": "code",
   "execution_count": 30,
   "id": "51f70f1a-2617-4a45-ac09-8421cfe24431",
   "metadata": {},
   "outputs": [
    {
     "name": "stdout",
     "output_type": "stream",
     "text": [
      "2\n"
     ]
    }
   ],
   "source": [
    "names = \"vj, rama, kiran, madhu, suresh, priya,kiran, madhu, kiran, madhu\"\n",
    "print(names.find(\", \"))"
   ]
  },
  {
   "cell_type": "code",
   "execution_count": 33,
   "id": "498eea1e-9103-4ccb-9e88-6ed71f6faa04",
   "metadata": {},
   "outputs": [
    {
     "name": "stdout",
     "output_type": "stream",
     "text": [
      "57\n"
     ]
    }
   ],
   "source": [
    "names = \"vj, rama, kiran, madhu, suresh, priya,kiran, madhu, kiran, madhu\"\n",
    "print(names.rfind(\", \"))"
   ]
  },
  {
   "cell_type": "code",
   "execution_count": 35,
   "id": "86a8d9f6-1d2e-4f14-b746-22657f9fac7b",
   "metadata": {},
   "outputs": [
    {
     "name": "stdout",
     "output_type": "stream",
     "text": [
      "False\n"
     ]
    }
   ],
   "source": [
    "names = \"vj, rama, kiran, madhu, suresh, priya,kiran, madhu, kiran, madhu\"\n",
    "print(names.startswith(\"vj5\"))"
   ]
  },
  {
   "cell_type": "code",
   "execution_count": 37,
   "id": "ebaf1c13-de4c-4db2-b712-a253ac2e6786",
   "metadata": {},
   "outputs": [
    {
     "name": "stdout",
     "output_type": "stream",
     "text": [
      "False\n"
     ]
    }
   ],
   "source": [
    "names = \"vj, rama, kiran, madhu, suresh, priya,kiran, madhu, kiran, madhu\"\n",
    "print(names.endswith(\"madh\"))"
   ]
  },
  {
   "cell_type": "code",
   "execution_count": 41,
   "id": "78829adc-0c80-4fe6-94f2-590fae451272",
   "metadata": {},
   "outputs": [
    {
     "name": "stdout",
     "output_type": "stream",
     "text": [
      "13\n"
     ]
    }
   ],
   "source": [
    "names = \"vj, rama, kiran, madhu, suresh, priya,kiran, madhu, kiran, madhu\"\n",
    "print(names.index(\"an\"))"
   ]
  },
  {
   "cell_type": "code",
   "execution_count": 42,
   "id": "53b2af17-930d-42bc-a1e2-f4a608312773",
   "metadata": {},
   "outputs": [
    {
     "name": "stdout",
     "output_type": "stream",
     "text": [
      "55\n"
     ]
    }
   ],
   "source": [
    "names = \"vj, rama, kiran, madhu, suresh, priya,kiran, madhu, kiran, madhu\"\n",
    "print(names.rindex(\"an\"))"
   ]
  },
  {
   "cell_type": "code",
   "execution_count": 64,
   "id": "6822786d-a927-4607-bae5-fe149ea03373",
   "metadata": {},
   "outputs": [
    {
     "name": "stdout",
     "output_type": "stream",
     "text": [
      "False\n"
     ]
    }
   ],
   "source": [
    "ph_num = \"9963736047\"\n",
    "print(ph_num.isnumeric())"
   ]
  },
  {
   "cell_type": "code",
   "execution_count": 52,
   "id": "b076ab0d-cf9b-4b2e-af7f-caa6e837a231",
   "metadata": {},
   "outputs": [
    {
     "name": "stdout",
     "output_type": "stream",
     "text": [
      "True\n"
     ]
    }
   ],
   "source": [
    "ph_num = \"523426374hsdhshfs\"\n",
    "print(ph_num.isalnum())"
   ]
  },
  {
   "cell_type": "code",
   "execution_count": 57,
   "id": "b79a82d7-100d-4989-a19d-554b88fa1be0",
   "metadata": {},
   "outputs": [
    {
     "name": "stdout",
     "output_type": "stream",
     "text": [
      "True\n"
     ]
    }
   ],
   "source": [
    "name = \"priya\"\n",
    "print(name.isalpha())"
   ]
  },
  {
   "cell_type": "code",
   "execution_count": 63,
   "id": "d0bcc6c8-21c8-402f-9c18-5e60d0dcfebc",
   "metadata": {},
   "outputs": [
    {
     "name": "stdout",
     "output_type": "stream",
     "text": [
      "True\n"
     ]
    }
   ],
   "source": [
    "name = \"345\"\n",
    "print(name.isdigit())"
   ]
  },
  {
   "cell_type": "code",
   "execution_count": 68,
   "id": "18b78c9f-5cb8-449c-93ef-67c79c7e5f4e",
   "metadata": {},
   "outputs": [
    {
     "name": "stdout",
     "output_type": "stream",
     "text": [
      "False\n"
     ]
    }
   ],
   "source": [
    "name = \"00.0\"\n",
    "print(name.isdecimal())"
   ]
  },
  {
   "cell_type": "code",
   "execution_count": 78,
   "id": "5d766fc7-ccec-490f-893f-0075fd14c199",
   "metadata": {},
   "outputs": [
    {
     "name": "stdout",
     "output_type": "stream",
     "text": [
      "True\n"
     ]
    }
   ],
   "source": [
    "space_identify= \"\\r\"\n",
    "print(space_identify.isspace())"
   ]
  },
  {
   "cell_type": "code",
   "execution_count": null,
   "id": "d1a62ea2-7a44-4e03-b68b-857dd8dee148",
   "metadata": {},
   "outputs": [],
   "source": []
  }
 ],
 "metadata": {
  "kernelspec": {
   "display_name": "Python 3 (ipykernel)",
   "language": "python",
   "name": "python3"
  },
  "language_info": {
   "codemirror_mode": {
    "name": "ipython",
    "version": 3
   },
   "file_extension": ".py",
   "mimetype": "text/x-python",
   "name": "python",
   "nbconvert_exporter": "python",
   "pygments_lexer": "ipython3",
   "version": "3.11.7"
  }
 },
 "nbformat": 4,
 "nbformat_minor": 5
}
