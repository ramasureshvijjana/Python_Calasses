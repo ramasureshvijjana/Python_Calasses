{
 "cells": [
  {
   "cell_type": "markdown",
   "id": "4de35817-2481-4a0e-99c9-f56523ed98e3",
   "metadata": {},
   "source": [
    "# STRING"
   ]
  },
  {
   "cell_type": "markdown",
   "id": "13001e13-bc77-4872-a1e7-145bd6651702",
   "metadata": {},
   "source": [
    "### 1. Define a String Variable:"
   ]
  },
  {
   "cell_type": "code",
   "execution_count": 2,
   "id": "b03e9513-cf99-4237-b06b-9c5062be81a2",
   "metadata": {},
   "outputs": [
    {
     "name": "stdout",
     "output_type": "stream",
     "text": [
      "VJ Vijjana\n"
     ]
    }
   ],
   "source": [
    "name = 'VJ'\n",
    "surname = \"Vijjana\"\n",
    "print(name, surname)"
   ]
  },
  {
   "cell_type": "code",
   "execution_count": 6,
   "id": "a29760f4-9320-4bb2-8c75-6c99c1e4b581",
   "metadata": {},
   "outputs": [
    {
     "name": "stdout",
     "output_type": "stream",
     "text": [
      "Hyderabad, \n",
      "TCS office\n",
      "Q city, \n",
      "TCS office\n"
     ]
    }
   ],
   "source": [
    "addresss = '''Hyderabad, \n",
    "TCS office'''\n",
    "\n",
    "addresss_1 = \"\"\"Q city, \n",
    "TCS office\"\"\"\n",
    "\n",
    "print(addresss)\n",
    "print(addresss_1)"
   ]
  },
  {
   "cell_type": "markdown",
   "id": "9a9fd40d-6f08-4f35-8c97-9809ea9697d2",
   "metadata": {},
   "source": [
    "### 2. Properties:"
   ]
  },
  {
   "cell_type": "markdown",
   "id": "33a84d1e-69b6-4950-a78f-408fd142a80d",
   "metadata": {},
   "source": [
    "### 2.1. Immutability:"
   ]
  },
  {
   "cell_type": "code",
   "execution_count": 7,
   "id": "d064e36d-c328-43ae-adaf-832da22a04af",
   "metadata": {},
   "outputs": [
    {
     "name": "stdout",
     "output_type": "stream",
     "text": [
      "2882059678448\n"
     ]
    }
   ],
   "source": [
    "message = \"Hi This is VJ\"\n",
    "print(id(message))"
   ]
  },
  {
   "cell_type": "code",
   "execution_count": 8,
   "id": "d457f530-25dd-4e58-b95d-0ff7a35fdd85",
   "metadata": {},
   "outputs": [
    {
     "name": "stdout",
     "output_type": "stream",
     "text": [
      "2882060587200\n"
     ]
    }
   ],
   "source": [
    "message = message+\".And\"\n",
    "print(id(message))"
   ]
  },
  {
   "cell_type": "markdown",
   "id": "aba4f93a-b95f-46e1-a56d-a925d9c8dd32",
   "metadata": {},
   "source": [
    "### 2.2. Slicing:"
   ]
  },
  {
   "cell_type": "code",
   "execution_count": 13,
   "id": "1db3cbd5-5323-4e66-9472-cd29254e3b3f",
   "metadata": {},
   "outputs": [
    {
     "name": "stdout",
     "output_type": "stream",
     "text": [
      "VJ\n"
     ]
    }
   ],
   "source": [
    "message = \"Hi This is VJ\"\n",
    "print(message[11:13])"
   ]
  },
  {
   "cell_type": "code",
   "execution_count": 14,
   "id": "29ee6b04-e532-44a6-99fd-03f26ba0b05b",
   "metadata": {},
   "outputs": [
    {
     "name": "stdout",
     "output_type": "stream",
     "text": [
      "VJ\n"
     ]
    }
   ],
   "source": [
    "print(message[11:])"
   ]
  },
  {
   "cell_type": "code",
   "execution_count": 18,
   "id": "9c91505c-27ab-4a10-b8fb-36c3a442efd9",
   "metadata": {},
   "outputs": [
    {
     "name": "stdout",
     "output_type": "stream",
     "text": [
      "VJ\n"
     ]
    }
   ],
   "source": [
    "print(message[-2:])"
   ]
  },
  {
   "cell_type": "markdown",
   "id": "2904d80d-a50d-4d0f-b74c-1f51631f0d50",
   "metadata": {},
   "source": [
    "### String Function:"
   ]
  },
  {
   "cell_type": "code",
   "execution_count": 19,
   "id": "02b016e8-afae-4a2e-88ac-7cde7f6a961b",
   "metadata": {},
   "outputs": [
    {
     "name": "stdout",
     "output_type": "stream",
     "text": [
      "Hi This is VJ\n"
     ]
    }
   ],
   "source": [
    "message = \"Hi This is VJ\"\n",
    "print(message)"
   ]
  },
  {
   "cell_type": "code",
   "execution_count": 20,
   "id": "60b904d2-c7dc-45da-a163-1c91ff322a23",
   "metadata": {},
   "outputs": [
    {
     "name": "stdout",
     "output_type": "stream",
     "text": [
      "Hi this is vj\n"
     ]
    }
   ],
   "source": [
    "print(message.capitalize())"
   ]
  },
  {
   "cell_type": "code",
   "execution_count": 21,
   "id": "88917654-65ab-4360-9067-de04bdf65a0c",
   "metadata": {},
   "outputs": [
    {
     "name": "stdout",
     "output_type": "stream",
     "text": [
      "Hi This Is Vj\n"
     ]
    }
   ],
   "source": [
    "print(message.title())"
   ]
  },
  {
   "cell_type": "code",
   "execution_count": 22,
   "id": "62412c29-a5c3-45f4-9ed6-9175fe65f614",
   "metadata": {},
   "outputs": [
    {
     "name": "stdout",
     "output_type": "stream",
     "text": [
      "hi this is vj\n"
     ]
    }
   ],
   "source": [
    "print(message.casefold())"
   ]
  },
  {
   "cell_type": "code",
   "execution_count": 23,
   "id": "32ae96b0-0f8d-44f4-a899-e46fb7a15927",
   "metadata": {},
   "outputs": [
    {
     "name": "stdout",
     "output_type": "stream",
     "text": [
      "gross\n"
     ]
    }
   ],
   "source": [
    "d_string= \"Groß\"\n",
    "print(d_string.casefold())"
   ]
  },
  {
   "cell_type": "code",
   "execution_count": 25,
   "id": "c7f09fd4-177b-4683-9469-5f04aa6b0829",
   "metadata": {},
   "outputs": [
    {
     "name": "stdout",
     "output_type": "stream",
     "text": [
      "groß\n",
      "hi this is vj\n"
     ]
    }
   ],
   "source": [
    "d_string= \"Groß\"\n",
    "print(d_string.lower())\n",
    "print(message.lower())"
   ]
  },
  {
   "cell_type": "code",
   "execution_count": 26,
   "id": "31b6d208-3c35-4a7a-b3a0-0f763b61f032",
   "metadata": {},
   "outputs": [
    {
     "name": "stdout",
     "output_type": "stream",
     "text": [
      "HI THIS IS VJ\n"
     ]
    }
   ],
   "source": [
    "\n",
    "print(message.upper())"
   ]
  },
  {
   "cell_type": "code",
   "execution_count": null,
   "id": "e8b4adc0-8869-4913-8a26-85cdfe9d3536",
   "metadata": {},
   "outputs": [],
   "source": []
  }
 ],
 "metadata": {
  "kernelspec": {
   "display_name": "Python 3 (ipykernel)",
   "language": "python",
   "name": "python3"
  },
  "language_info": {
   "codemirror_mode": {
    "name": "ipython",
    "version": 3
   },
   "file_extension": ".py",
   "mimetype": "text/x-python",
   "name": "python",
   "nbconvert_exporter": "python",
   "pygments_lexer": "ipython3",
   "version": "3.11.7"
  }
 },
 "nbformat": 4,
 "nbformat_minor": 5
}
