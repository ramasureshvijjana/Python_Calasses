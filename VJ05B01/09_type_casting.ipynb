{
 "cells": [
  {
   "cell_type": "markdown",
   "id": "2b357251-7657-41d8-8bb1-2c5043c84eba",
   "metadata": {},
   "source": [
    "# Type Casting"
   ]
  },
  {
   "cell_type": "code",
   "execution_count": 3,
   "id": "e0182a53-63d7-4cea-9256-a0d540d95e42",
   "metadata": {},
   "outputs": [
    {
     "name": "stdout",
     "output_type": "stream",
     "text": [
      "<class 'int'>\n",
      "<class 'int'>\n"
     ]
    }
   ],
   "source": [
    "num_of_students = 10\n",
    "print(type(num_of_students))\n",
    "\n",
    "cast_num_of_students = int(num_of_students)\n",
    "print(type(cast_num_of_students))"
   ]
  },
  {
   "cell_type": "code",
   "execution_count": 4,
   "id": "8210904b-dbd1-4ee3-8284-02ed3c92a2d3",
   "metadata": {},
   "outputs": [
    {
     "name": "stdout",
     "output_type": "stream",
     "text": [
      "10 <class 'int'>\n",
      "10.0 <class 'float'>\n"
     ]
    }
   ],
   "source": [
    "num_of_students = 10\n",
    "print(num_of_students, type(num_of_students))\n",
    "\n",
    "float_num_of_students = float(num_of_students)\n",
    "print(float_num_of_students, type(float_num_of_students))"
   ]
  },
  {
   "cell_type": "code",
   "execution_count": 5,
   "id": "caec93de-bc6e-448f-b353-0e1fc40f7206",
   "metadata": {},
   "outputs": [
    {
     "name": "stdout",
     "output_type": "stream",
     "text": [
      "10 <class 'int'>\n",
      "(10+0j) <class 'complex'>\n"
     ]
    }
   ],
   "source": [
    "num_of_students = 10\n",
    "print(num_of_students, type(num_of_students))\n",
    "\n",
    "complex_num_of_students = complex(num_of_students)\n",
    "print(complex_num_of_students, type(complex_num_of_students))"
   ]
  },
  {
   "cell_type": "code",
   "execution_count": 10,
   "id": "cc081e50-0afd-4e8a-a352-896023997f3b",
   "metadata": {},
   "outputs": [
    {
     "name": "stdout",
     "output_type": "stream",
     "text": [
      "23 <class 'int'>\n",
      "True <class 'bool'>\n"
     ]
    }
   ],
   "source": [
    "num_of_students = 23 # True --- 10, False ---- 0, .00, None\n",
    "print(num_of_students, type(num_of_students))\n",
    "\n",
    "bool_num_of_students = bool(num_of_students)\n",
    "print(bool_num_of_students, type(bool_num_of_students))"
   ]
  },
  {
   "cell_type": "code",
   "execution_count": 11,
   "id": "2ca33bf4-668f-46d1-8e48-e8386e47d282",
   "metadata": {},
   "outputs": [
    {
     "name": "stdout",
     "output_type": "stream",
     "text": [
      "10 <class 'int'>\n",
      "10 <class 'str'>\n"
     ]
    }
   ],
   "source": [
    "num_of_students = 10 \n",
    "print(num_of_students, type(num_of_students))\n",
    "\n",
    "str_num_of_students = str(num_of_students) # '10'\n",
    "print(str_num_of_students, type(str_num_of_students))"
   ]
  },
  {
   "cell_type": "code",
   "execution_count": 12,
   "id": "b450bc75-c5ed-4327-a113-4fbd45962f3a",
   "metadata": {},
   "outputs": [
    {
     "name": "stdout",
     "output_type": "stream",
     "text": [
      "10 <class 'int'>\n"
     ]
    },
    {
     "ename": "TypeError",
     "evalue": "'int' object is not iterable",
     "output_type": "error",
     "traceback": [
      "\u001b[1;31m---------------------------------------------------------------------------\u001b[0m",
      "\u001b[1;31mTypeError\u001b[0m                                 Traceback (most recent call last)",
      "Cell \u001b[1;32mIn[12], line 4\u001b[0m\n\u001b[0;32m      1\u001b[0m num_of_students \u001b[38;5;241m=\u001b[39m \u001b[38;5;241m10\u001b[39m \n\u001b[0;32m      2\u001b[0m \u001b[38;5;28mprint\u001b[39m(num_of_students, \u001b[38;5;28mtype\u001b[39m(num_of_students))\n\u001b[1;32m----> 4\u001b[0m str_num_of_students \u001b[38;5;241m=\u001b[39m \u001b[38;5;28mlist\u001b[39m(num_of_students)\n",
      "\u001b[1;31mTypeError\u001b[0m: 'int' object is not iterable"
     ]
    }
   ],
   "source": [
    "num_of_students = 10 \n",
    "print(num_of_students, type(num_of_students))\n",
    "\n",
    "str_num_of_students = list(num_of_students) "
   ]
  },
  {
   "cell_type": "code",
   "execution_count": 13,
   "id": "e49d33af-6130-4d99-b70c-89c3b814b328",
   "metadata": {},
   "outputs": [
    {
     "name": "stdout",
     "output_type": "stream",
     "text": [
      "10 <class 'int'>\n"
     ]
    },
    {
     "ename": "TypeError",
     "evalue": "'int' object is not iterable",
     "output_type": "error",
     "traceback": [
      "\u001b[1;31m---------------------------------------------------------------------------\u001b[0m",
      "\u001b[1;31mTypeError\u001b[0m                                 Traceback (most recent call last)",
      "Cell \u001b[1;32mIn[13], line 4\u001b[0m\n\u001b[0;32m      1\u001b[0m num_of_students \u001b[38;5;241m=\u001b[39m \u001b[38;5;241m10\u001b[39m \n\u001b[0;32m      2\u001b[0m \u001b[38;5;28mprint\u001b[39m(num_of_students, \u001b[38;5;28mtype\u001b[39m(num_of_students))\n\u001b[1;32m----> 4\u001b[0m str_num_of_students \u001b[38;5;241m=\u001b[39m \u001b[38;5;28mtuple\u001b[39m(num_of_students)\n",
      "\u001b[1;31mTypeError\u001b[0m: 'int' object is not iterable"
     ]
    }
   ],
   "source": [
    "num_of_students = 10 \n",
    "print(num_of_students, type(num_of_students))\n",
    "\n",
    "str_num_of_students = tuple(num_of_students) "
   ]
  },
  {
   "cell_type": "code",
   "execution_count": 14,
   "id": "a8d6357a-c176-4f75-98d9-43a125f79291",
   "metadata": {},
   "outputs": [
    {
     "name": "stdout",
     "output_type": "stream",
     "text": [
      "10 <class 'int'>\n"
     ]
    },
    {
     "ename": "TypeError",
     "evalue": "'int' object is not iterable",
     "output_type": "error",
     "traceback": [
      "\u001b[1;31m---------------------------------------------------------------------------\u001b[0m",
      "\u001b[1;31mTypeError\u001b[0m                                 Traceback (most recent call last)",
      "Cell \u001b[1;32mIn[14], line 4\u001b[0m\n\u001b[0;32m      1\u001b[0m num_of_students \u001b[38;5;241m=\u001b[39m \u001b[38;5;241m10\u001b[39m \n\u001b[0;32m      2\u001b[0m \u001b[38;5;28mprint\u001b[39m(num_of_students, \u001b[38;5;28mtype\u001b[39m(num_of_students))\n\u001b[1;32m----> 4\u001b[0m str_num_of_students \u001b[38;5;241m=\u001b[39m \u001b[38;5;28mset\u001b[39m(num_of_students)\n",
      "\u001b[1;31mTypeError\u001b[0m: 'int' object is not iterable"
     ]
    }
   ],
   "source": [
    "num_of_students = 10 \n",
    "print(num_of_students, type(num_of_students))\n",
    "\n",
    "str_num_of_students = set(num_of_students)"
   ]
  },
  {
   "cell_type": "code",
   "execution_count": 15,
   "id": "aa3dd13d-c782-42e1-8148-28db8365ccaa",
   "metadata": {},
   "outputs": [
    {
     "name": "stdout",
     "output_type": "stream",
     "text": [
      "10 <class 'int'>\n"
     ]
    },
    {
     "ename": "TypeError",
     "evalue": "'int' object is not iterable",
     "output_type": "error",
     "traceback": [
      "\u001b[1;31m---------------------------------------------------------------------------\u001b[0m",
      "\u001b[1;31mTypeError\u001b[0m                                 Traceback (most recent call last)",
      "Cell \u001b[1;32mIn[15], line 4\u001b[0m\n\u001b[0;32m      1\u001b[0m num_of_students \u001b[38;5;241m=\u001b[39m \u001b[38;5;241m10\u001b[39m \n\u001b[0;32m      2\u001b[0m \u001b[38;5;28mprint\u001b[39m(num_of_students, \u001b[38;5;28mtype\u001b[39m(num_of_students))\n\u001b[1;32m----> 4\u001b[0m str_num_of_students \u001b[38;5;241m=\u001b[39m \u001b[38;5;28mdict\u001b[39m(num_of_students)\n",
      "\u001b[1;31mTypeError\u001b[0m: 'int' object is not iterable"
     ]
    }
   ],
   "source": [
    "num_of_students = 10 \n",
    "print(num_of_students, type(num_of_students))\n",
    "\n",
    "str_num_of_students = dict(num_of_students)"
   ]
  },
  {
   "cell_type": "code",
   "execution_count": 17,
   "id": "cb422872-97ed-4643-85f2-34708725e97f",
   "metadata": {},
   "outputs": [
    {
     "name": "stdout",
     "output_type": "stream",
     "text": [
      "dict_keys(['name', 'age'])\n",
      "dict_values(['VJ', 26])\n",
      "dict_items([('name', 'VJ'), ('age', 26)])\n"
     ]
    }
   ],
   "source": [
    "basic_dict = {'name' : \"VJ\", \"age\": 26}\n",
    "\n",
    "print(basic_dict.keys())\n",
    "print(basic_dict.values())\n",
    "print(basic_dict.items()) # list of tuple of key and value."
   ]
  },
  {
   "cell_type": "markdown",
   "id": "029528b9-6912-492e-8a9c-f8bb4ceb23f7",
   "metadata": {},
   "source": [
    "## String to Other types casting"
   ]
  },
  {
   "cell_type": "code",
   "execution_count": 1,
   "id": "a4a399f5-caf8-4fc8-8fc6-3bbbbaca3980",
   "metadata": {},
   "outputs": [
    {
     "name": "stdout",
     "output_type": "stream",
     "text": [
      "(12+4j)\n"
     ]
    }
   ],
   "source": [
    "# string to complex\n",
    "str_value=\"12+4j\"\n",
    "complex_value=complex(str_value)\n",
    "print(complex_value)"
   ]
  },
  {
   "cell_type": "code",
   "execution_count": 2,
   "id": "80cbc26a-8b11-4add-b740-fa25099bf89b",
   "metadata": {},
   "outputs": [
    {
     "name": "stdout",
     "output_type": "stream",
     "text": [
      "(12+0j)\n"
     ]
    }
   ],
   "source": [
    "# string to complex\n",
    "str_value=\"12\"\n",
    "complex_value=complex(str_value)\n",
    "print(complex_value)"
   ]
  },
  {
   "cell_type": "code",
   "execution_count": 3,
   "id": "3b64361b-bce4-497b-a234-420f2ce11368",
   "metadata": {},
   "outputs": [
    {
     "name": "stdout",
     "output_type": "stream",
     "text": [
      "(12.23+0j)\n"
     ]
    }
   ],
   "source": [
    "# string to complex\n",
    "str_value=\"12.23\"\n",
    "complex_value=complex(str_value)\n",
    "print(complex_value)"
   ]
  },
  {
   "cell_type": "code",
   "execution_count": 4,
   "id": "779562c3-1b63-42d5-968c-5f51041ff355",
   "metadata": {},
   "outputs": [
    {
     "name": "stdout",
     "output_type": "stream",
     "text": [
      "4j\n"
     ]
    }
   ],
   "source": [
    "# string to complex\n",
    "str_value=\"4j\"\n",
    "complex_value=complex(str_value)\n",
    "print(complex_value)"
   ]
  },
  {
   "cell_type": "code",
   "execution_count": 14,
   "id": "15aeeb9a-e9a4-4b4c-bb4a-583254fa61da",
   "metadata": {},
   "outputs": [
    {
     "name": "stdout",
     "output_type": "stream",
     "text": [
      "1236\n"
     ]
    }
   ],
   "source": [
    "# string to integer\n",
    "str_value=\"1236\"\n",
    "int_value=int(str_value)\n",
    "print(int_value)"
   ]
  },
  {
   "cell_type": "code",
   "execution_count": 12,
   "id": "8a9e37aa-9276-452d-b21d-2d99d4511312",
   "metadata": {},
   "outputs": [
    {
     "ename": "ValueError",
     "evalue": "could not convert string to float: '1236+4j'",
     "output_type": "error",
     "traceback": [
      "\u001b[1;31m---------------------------------------------------------------------------\u001b[0m",
      "\u001b[1;31mValueError\u001b[0m                                Traceback (most recent call last)",
      "Cell \u001b[1;32mIn[12], line 3\u001b[0m\n\u001b[0;32m      1\u001b[0m \u001b[38;5;66;03m# string to integer\u001b[39;00m\n\u001b[0;32m      2\u001b[0m str_value\u001b[38;5;241m=\u001b[39m\u001b[38;5;124m\"\u001b[39m\u001b[38;5;124m1236+4j\u001b[39m\u001b[38;5;124m\"\u001b[39m\n\u001b[1;32m----> 3\u001b[0m int_value\u001b[38;5;241m=\u001b[39m\u001b[38;5;28mfloat\u001b[39m(str_value)\n\u001b[0;32m      4\u001b[0m \u001b[38;5;28mprint\u001b[39m(int_value)\n",
      "\u001b[1;31mValueError\u001b[0m: could not convert string to float: '1236+4j'"
     ]
    }
   ],
   "source": [
    "# string to integer\n",
    "str_value=\"12364\"\n",
    "int_value=float(str_value)\n",
    "print(int_value)"
   ]
  },
  {
   "cell_type": "code",
   "execution_count": 15,
   "id": "fc24d750-c59e-4334-85c2-81ccf1d6c163",
   "metadata": {},
   "outputs": [
    {
     "ename": "TypeError",
     "evalue": "int() argument must be a string, a bytes-like object or a real number, not 'list'",
     "output_type": "error",
     "traceback": [
      "\u001b[1;31m---------------------------------------------------------------------------\u001b[0m",
      "\u001b[1;31mTypeError\u001b[0m                                 Traceback (most recent call last)",
      "Cell \u001b[1;32mIn[15], line 3\u001b[0m\n\u001b[0;32m      1\u001b[0m \u001b[38;5;66;03m# string to integer\u001b[39;00m\n\u001b[0;32m      2\u001b[0m str_value\u001b[38;5;241m=\u001b[39m[\u001b[38;5;241m12364\u001b[39m]\n\u001b[1;32m----> 3\u001b[0m int_value\u001b[38;5;241m=\u001b[39m\u001b[38;5;28mint\u001b[39m(str_value)\n\u001b[0;32m      4\u001b[0m \u001b[38;5;28mprint\u001b[39m(int_value)\n",
      "\u001b[1;31mTypeError\u001b[0m: int() argument must be a string, a bytes-like object or a real number, not 'list'"
     ]
    }
   ],
   "source": [
    "# string to integer\n",
    "str_value=[12364]\n",
    "int_value=int(str_value)\n",
    "print(int_value)"
   ]
  },
  {
   "cell_type": "code",
   "execution_count": null,
   "id": "9557d772-563f-432a-a621-419a0e6eee12",
   "metadata": {},
   "outputs": [],
   "source": []
  }
 ],
 "metadata": {
  "kernelspec": {
   "display_name": "Python 3 (ipykernel)",
   "language": "python",
   "name": "python3"
  },
  "language_info": {
   "codemirror_mode": {
    "name": "ipython",
    "version": 3
   },
   "file_extension": ".py",
   "mimetype": "text/x-python",
   "name": "python",
   "nbconvert_exporter": "python",
   "pygments_lexer": "ipython3",
   "version": "3.11.7"
  }
 },
 "nbformat": 4,
 "nbformat_minor": 5
}
