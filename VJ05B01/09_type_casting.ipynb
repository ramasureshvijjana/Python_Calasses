{
 "cells": [
  {
   "cell_type": "markdown",
   "id": "2b357251-7657-41d8-8bb1-2c5043c84eba",
   "metadata": {},
   "source": [
    "# Type Casting"
   ]
  },
  {
   "cell_type": "code",
   "execution_count": 3,
   "id": "e0182a53-63d7-4cea-9256-a0d540d95e42",
   "metadata": {},
   "outputs": [
    {
     "name": "stdout",
     "output_type": "stream",
     "text": [
      "<class 'int'>\n",
      "<class 'int'>\n"
     ]
    }
   ],
   "source": [
    "num_of_students = 10\n",
    "print(type(num_of_students))\n",
    "\n",
    "cast_num_of_students = int(num_of_students)\n",
    "print(type(cast_num_of_students))"
   ]
  },
  {
   "cell_type": "code",
   "execution_count": 4,
   "id": "8210904b-dbd1-4ee3-8284-02ed3c92a2d3",
   "metadata": {},
   "outputs": [
    {
     "name": "stdout",
     "output_type": "stream",
     "text": [
      "10 <class 'int'>\n",
      "10.0 <class 'float'>\n"
     ]
    }
   ],
   "source": [
    "num_of_students = 10\n",
    "print(num_of_students, type(num_of_students))\n",
    "\n",
    "float_num_of_students = float(num_of_students)\n",
    "print(float_num_of_students, type(float_num_of_students))"
   ]
  },
  {
   "cell_type": "code",
   "execution_count": 5,
   "id": "caec93de-bc6e-448f-b353-0e1fc40f7206",
   "metadata": {},
   "outputs": [
    {
     "name": "stdout",
     "output_type": "stream",
     "text": [
      "10 <class 'int'>\n",
      "(10+0j) <class 'complex'>\n"
     ]
    }
   ],
   "source": [
    "num_of_students = 10\n",
    "print(num_of_students, type(num_of_students))\n",
    "\n",
    "complex_num_of_students = complex(num_of_students)\n",
    "print(complex_num_of_students, type(complex_num_of_students))"
   ]
  },
  {
   "cell_type": "code",
   "execution_count": 10,
   "id": "cc081e50-0afd-4e8a-a352-896023997f3b",
   "metadata": {},
   "outputs": [
    {
     "name": "stdout",
     "output_type": "stream",
     "text": [
      "23 <class 'int'>\n",
      "True <class 'bool'>\n"
     ]
    }
   ],
   "source": [
    "num_of_students = 23 # True --- 10, False ---- 0, .00, None\n",
    "print(num_of_students, type(num_of_students))\n",
    "\n",
    "bool_num_of_students = bool(num_of_students)\n",
    "print(bool_num_of_students, type(bool_num_of_students))"
   ]
  },
  {
   "cell_type": "code",
   "execution_count": 11,
   "id": "2ca33bf4-668f-46d1-8e48-e8386e47d282",
   "metadata": {},
   "outputs": [
    {
     "name": "stdout",
     "output_type": "stream",
     "text": [
      "10 <class 'int'>\n",
      "10 <class 'str'>\n"
     ]
    }
   ],
   "source": [
    "num_of_students = 10 \n",
    "print(num_of_students, type(num_of_students))\n",
    "\n",
    "str_num_of_students = str(num_of_students) # '10'\n",
    "print(str_num_of_students, type(str_num_of_students))"
   ]
  },
  {
   "cell_type": "code",
   "execution_count": 12,
   "id": "b450bc75-c5ed-4327-a113-4fbd45962f3a",
   "metadata": {},
   "outputs": [
    {
     "name": "stdout",
     "output_type": "stream",
     "text": [
      "10 <class 'int'>\n"
     ]
    },
    {
     "ename": "TypeError",
     "evalue": "'int' object is not iterable",
     "output_type": "error",
     "traceback": [
      "\u001b[1;31m---------------------------------------------------------------------------\u001b[0m",
      "\u001b[1;31mTypeError\u001b[0m                                 Traceback (most recent call last)",
      "Cell \u001b[1;32mIn[12], line 4\u001b[0m\n\u001b[0;32m      1\u001b[0m num_of_students \u001b[38;5;241m=\u001b[39m \u001b[38;5;241m10\u001b[39m \n\u001b[0;32m      2\u001b[0m \u001b[38;5;28mprint\u001b[39m(num_of_students, \u001b[38;5;28mtype\u001b[39m(num_of_students))\n\u001b[1;32m----> 4\u001b[0m str_num_of_students \u001b[38;5;241m=\u001b[39m \u001b[38;5;28mlist\u001b[39m(num_of_students)\n",
      "\u001b[1;31mTypeError\u001b[0m: 'int' object is not iterable"
     ]
    }
   ],
   "source": [
    "num_of_students = 10 \n",
    "print(num_of_students, type(num_of_students))\n",
    "\n",
    "str_num_of_students = list(num_of_students) "
   ]
  },
  {
   "cell_type": "code",
   "execution_count": 13,
   "id": "e49d33af-6130-4d99-b70c-89c3b814b328",
   "metadata": {},
   "outputs": [
    {
     "name": "stdout",
     "output_type": "stream",
     "text": [
      "10 <class 'int'>\n"
     ]
    },
    {
     "ename": "TypeError",
     "evalue": "'int' object is not iterable",
     "output_type": "error",
     "traceback": [
      "\u001b[1;31m---------------------------------------------------------------------------\u001b[0m",
      "\u001b[1;31mTypeError\u001b[0m                                 Traceback (most recent call last)",
      "Cell \u001b[1;32mIn[13], line 4\u001b[0m\n\u001b[0;32m      1\u001b[0m num_of_students \u001b[38;5;241m=\u001b[39m \u001b[38;5;241m10\u001b[39m \n\u001b[0;32m      2\u001b[0m \u001b[38;5;28mprint\u001b[39m(num_of_students, \u001b[38;5;28mtype\u001b[39m(num_of_students))\n\u001b[1;32m----> 4\u001b[0m str_num_of_students \u001b[38;5;241m=\u001b[39m \u001b[38;5;28mtuple\u001b[39m(num_of_students)\n",
      "\u001b[1;31mTypeError\u001b[0m: 'int' object is not iterable"
     ]
    }
   ],
   "source": [
    "num_of_students = 10 \n",
    "print(num_of_students, type(num_of_students))\n",
    "\n",
    "str_num_of_students = tuple(num_of_students) "
   ]
  },
  {
   "cell_type": "code",
   "execution_count": 14,
   "id": "a8d6357a-c176-4f75-98d9-43a125f79291",
   "metadata": {},
   "outputs": [
    {
     "name": "stdout",
     "output_type": "stream",
     "text": [
      "10 <class 'int'>\n"
     ]
    },
    {
     "ename": "TypeError",
     "evalue": "'int' object is not iterable",
     "output_type": "error",
     "traceback": [
      "\u001b[1;31m---------------------------------------------------------------------------\u001b[0m",
      "\u001b[1;31mTypeError\u001b[0m                                 Traceback (most recent call last)",
      "Cell \u001b[1;32mIn[14], line 4\u001b[0m\n\u001b[0;32m      1\u001b[0m num_of_students \u001b[38;5;241m=\u001b[39m \u001b[38;5;241m10\u001b[39m \n\u001b[0;32m      2\u001b[0m \u001b[38;5;28mprint\u001b[39m(num_of_students, \u001b[38;5;28mtype\u001b[39m(num_of_students))\n\u001b[1;32m----> 4\u001b[0m str_num_of_students \u001b[38;5;241m=\u001b[39m \u001b[38;5;28mset\u001b[39m(num_of_students)\n",
      "\u001b[1;31mTypeError\u001b[0m: 'int' object is not iterable"
     ]
    }
   ],
   "source": [
    "num_of_students = 10 \n",
    "print(num_of_students, type(num_of_students))\n",
    "\n",
    "str_num_of_students = set(num_of_students)"
   ]
  },
  {
   "cell_type": "code",
   "execution_count": 15,
   "id": "aa3dd13d-c782-42e1-8148-28db8365ccaa",
   "metadata": {},
   "outputs": [
    {
     "name": "stdout",
     "output_type": "stream",
     "text": [
      "10 <class 'int'>\n"
     ]
    },
    {
     "ename": "TypeError",
     "evalue": "'int' object is not iterable",
     "output_type": "error",
     "traceback": [
      "\u001b[1;31m---------------------------------------------------------------------------\u001b[0m",
      "\u001b[1;31mTypeError\u001b[0m                                 Traceback (most recent call last)",
      "Cell \u001b[1;32mIn[15], line 4\u001b[0m\n\u001b[0;32m      1\u001b[0m num_of_students \u001b[38;5;241m=\u001b[39m \u001b[38;5;241m10\u001b[39m \n\u001b[0;32m      2\u001b[0m \u001b[38;5;28mprint\u001b[39m(num_of_students, \u001b[38;5;28mtype\u001b[39m(num_of_students))\n\u001b[1;32m----> 4\u001b[0m str_num_of_students \u001b[38;5;241m=\u001b[39m \u001b[38;5;28mdict\u001b[39m(num_of_students)\n",
      "\u001b[1;31mTypeError\u001b[0m: 'int' object is not iterable"
     ]
    }
   ],
   "source": [
    "num_of_students = 10 \n",
    "print(num_of_students, type(num_of_students))\n",
    "\n",
    "str_num_of_students = dict(num_of_students)"
   ]
  },
  {
   "cell_type": "code",
   "execution_count": 17,
   "id": "cb422872-97ed-4643-85f2-34708725e97f",
   "metadata": {},
   "outputs": [
    {
     "name": "stdout",
     "output_type": "stream",
     "text": [
      "dict_keys(['name', 'age'])\n",
      "dict_values(['VJ', 26])\n",
      "dict_items([('name', 'VJ'), ('age', 26)])\n"
     ]
    }
   ],
   "source": [
    "basic_dict = {'name' : \"VJ\", \"age\": 26}\n",
    "\n",
    "print(basic_dict.keys())\n",
    "print(basic_dict.values())\n",
    "print(basic_dict.items()) # list of tuple of key and value."
   ]
  },
  {
   "cell_type": "code",
   "execution_count": null,
   "id": "fa0c3883-8e45-4778-93e7-8af6038aa8ce",
   "metadata": {},
   "outputs": [],
   "source": []
  }
 ],
 "metadata": {
  "kernelspec": {
   "display_name": "Python 3 (ipykernel)",
   "language": "python",
   "name": "python3"
  },
  "language_info": {
   "codemirror_mode": {
    "name": "ipython",
    "version": 3
   },
   "file_extension": ".py",
   "mimetype": "text/x-python",
   "name": "python",
   "nbconvert_exporter": "python",
   "pygments_lexer": "ipython3",
   "version": "3.11.7"
  }
 },
 "nbformat": 4,
 "nbformat_minor": 5
}
