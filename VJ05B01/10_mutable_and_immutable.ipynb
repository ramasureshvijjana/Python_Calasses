{
 "cells": [
  {
   "cell_type": "code",
   "execution_count": 1,
   "id": "84efa802-a497-4ea3-a152-e5dd00338d42",
   "metadata": {},
   "outputs": [],
   "source": [
    "distances_km = [45, 23, 11]"
   ]
  },
  {
   "cell_type": "code",
   "execution_count": 2,
   "id": "e9860ed9-eeae-4e25-b618-3b4cf2fcd07b",
   "metadata": {},
   "outputs": [
    {
     "name": "stdout",
     "output_type": "stream",
     "text": [
      "2008899378496\n"
     ]
    }
   ],
   "source": [
    "print(id(distances_km))"
   ]
  },
  {
   "cell_type": "code",
   "execution_count": 3,
   "id": "9d27b0ac-a204-428a-8fef-d53184591709",
   "metadata": {},
   "outputs": [],
   "source": [
    "distances_km.append(34)"
   ]
  },
  {
   "cell_type": "code",
   "execution_count": 4,
   "id": "14f7a516-6c8a-4616-a026-7c399384b19f",
   "metadata": {},
   "outputs": [
    {
     "name": "stdout",
     "output_type": "stream",
     "text": [
      "2008899378496\n"
     ]
    }
   ],
   "source": [
    "print(id(distances_km))"
   ]
  },
  {
   "cell_type": "code",
   "execution_count": 5,
   "id": "394b678b-1209-410a-b766-7177f696296a",
   "metadata": {},
   "outputs": [
    {
     "data": {
      "text/plain": [
       "[45, 23, 11, 34]"
      ]
     },
     "execution_count": 5,
     "metadata": {},
     "output_type": "execute_result"
    }
   ],
   "source": [
    "distances_km"
   ]
  },
  {
   "cell_type": "code",
   "execution_count": 11,
   "id": "b27d0042-8f3a-4a74-978b-8454d7666199",
   "metadata": {},
   "outputs": [],
   "source": [
    "name = 'Rama'"
   ]
  },
  {
   "cell_type": "code",
   "execution_count": 12,
   "id": "e4c345bc-bda3-4d77-a914-ee5f4ae65789",
   "metadata": {},
   "outputs": [
    {
     "data": {
      "text/plain": [
       "'Rama'"
      ]
     },
     "execution_count": 12,
     "metadata": {},
     "output_type": "execute_result"
    }
   ],
   "source": [
    "name"
   ]
  },
  {
   "cell_type": "code",
   "execution_count": 13,
   "id": "d95bc8e3-894a-4462-a1dd-4b1c5e986b88",
   "metadata": {},
   "outputs": [
    {
     "name": "stdout",
     "output_type": "stream",
     "text": [
      "2008899375728\n"
     ]
    }
   ],
   "source": [
    "print(id(name))"
   ]
  },
  {
   "cell_type": "code",
   "execution_count": 14,
   "id": "f60cb697-989f-4d73-aeb5-e1fda372c248",
   "metadata": {},
   "outputs": [],
   "source": [
    "name += \" VJ\""
   ]
  },
  {
   "cell_type": "code",
   "execution_count": 15,
   "id": "9d2a1a79-6c01-4960-b2f7-e880633c4ad9",
   "metadata": {},
   "outputs": [
    {
     "data": {
      "text/plain": [
       "'Rama VJ'"
      ]
     },
     "execution_count": 15,
     "metadata": {},
     "output_type": "execute_result"
    }
   ],
   "source": [
    "name"
   ]
  },
  {
   "cell_type": "code",
   "execution_count": 16,
   "id": "6386fb91-d91c-45c7-a530-a3df9d906b3a",
   "metadata": {},
   "outputs": [
    {
     "name": "stdout",
     "output_type": "stream",
     "text": [
      "2008899261488\n"
     ]
    }
   ],
   "source": [
    "print(id(name))"
   ]
  },
  {
   "cell_type": "code",
   "execution_count": null,
   "id": "5b010797-afa5-45a5-9e9d-19bac3a0a475",
   "metadata": {},
   "outputs": [],
   "source": []
  }
 ],
 "metadata": {
  "kernelspec": {
   "display_name": "Python 3 (ipykernel)",
   "language": "python",
   "name": "python3"
  },
  "language_info": {
   "codemirror_mode": {
    "name": "ipython",
    "version": 3
   },
   "file_extension": ".py",
   "mimetype": "text/x-python",
   "name": "python",
   "nbconvert_exporter": "python",
   "pygments_lexer": "ipython3",
   "version": "3.11.7"
  }
 },
 "nbformat": 4,
 "nbformat_minor": 5
}
