{
 "cells": [
  {
   "cell_type": "code",
   "execution_count": 2,
   "id": "fdeb9a3b-7d63-4812-8d16-e6b6974db5d3",
   "metadata": {},
   "outputs": [
    {
     "name": "stdout",
     "output_type": "stream",
     "text": [
      "Hellow world\n"
     ]
    }
   ],
   "source": [
    "print(\"Hellow world\")"
   ]
  },
  {
   "cell_type": "code",
   "execution_count": 3,
   "id": "e2a656e0-59c8-4917-b46d-0697303c01f9",
   "metadata": {},
   "outputs": [
    {
     "name": "stdout",
     "output_type": "stream",
     "text": [
      "29\n"
     ]
    }
   ],
   "source": [
    "age = 29\n",
    "\n",
    "print(age)"
   ]
  },
  {
   "cell_type": "code",
   "execution_count": 4,
   "id": "40fdc9f7-38e3-47a4-a2ba-20b912f69bcb",
   "metadata": {},
   "outputs": [
    {
     "name": "stdout",
     "output_type": "stream",
     "text": [
      "age\n"
     ]
    }
   ],
   "source": [
    "age = 29\n",
    "\n",
    "print('age')"
   ]
  },
  {
   "cell_type": "code",
   "execution_count": 5,
   "id": "be2e4af9-7320-4bd0-855d-8479f048559b",
   "metadata": {},
   "outputs": [
    {
     "name": "stdout",
     "output_type": "stream",
     "text": [
      "VJ 29\n"
     ]
    }
   ],
   "source": [
    "name = \"VJ\"\n",
    "age = 29\n",
    "\n",
    "print(name, age)"
   ]
  },
  {
   "cell_type": "code",
   "execution_count": 6,
   "id": "dd9187ea-a49d-4470-89a4-e4520d9cea80",
   "metadata": {},
   "outputs": [
    {
     "ename": "SyntaxError",
     "evalue": "invalid syntax. Perhaps you forgot a comma? (255911470.py, line 4)",
     "output_type": "error",
     "traceback": [
      "\u001b[1;36m  Cell \u001b[1;32mIn[6], line 4\u001b[1;36m\u001b[0m\n\u001b[1;33m    print(name age)\u001b[0m\n\u001b[1;37m          ^\u001b[0m\n\u001b[1;31mSyntaxError\u001b[0m\u001b[1;31m:\u001b[0m invalid syntax. Perhaps you forgot a comma?\n"
     ]
    }
   ],
   "source": [
    "name = \"VJ\"\n",
    "age = 29\n",
    "\n",
    "print(name age)"
   ]
  },
  {
   "cell_type": "code",
   "execution_count": 9,
   "id": "f90c50e6-ab63-47f7-a8e5-f14bc8b44a02",
   "metadata": {},
   "outputs": [
    {
     "name": "stdout",
     "output_type": "stream",
     "text": [
      "Madhu learning the python.\n",
      "python learning the Madhu.\n",
      "Madhu learning the python.\n"
     ]
    }
   ],
   "source": [
    "# Expected o/p: Madhu learning the python.\n",
    "\n",
    "name = \"Madhu\"\n",
    "class_name = \"python\"\n",
    "\n",
    "print(\"{0} learning the {1}.\".format(name, class_name)) # 0, 1\n",
    "print(\"{1} learning the {0}.\".format(name, class_name)) # 0, 1\n",
    "print(\"{1} learning the {0}.\".format(class_name, name)) # 0, 1"
   ]
  },
  {
   "cell_type": "code",
   "execution_count": 10,
   "id": "0258e484-1c8e-4c3c-b066-e972a8f7ac10",
   "metadata": {},
   "outputs": [
    {
     "name": "stdout",
     "output_type": "stream",
     "text": [
      "Madhu learning the python.\n",
      "python learning the Madhu.\n"
     ]
    }
   ],
   "source": [
    "print(\"{} learning the {}.\".format(name, class_name)) # 0, 1\n",
    "print(\"{} learning the {}.\".format(class_name, name)) # 0, 1"
   ]
  },
  {
   "cell_type": "code",
   "execution_count": 11,
   "id": "6909d9f8-c21c-4eec-8a5d-393de2f6119b",
   "metadata": {},
   "outputs": [
    {
     "name": "stdout",
     "output_type": "stream",
     "text": [
      "Madhu learning the python.\n",
      "python learning the Madhu.\n"
     ]
    }
   ],
   "source": [
    "print(f\"{name} learning the {class_name}.\") # 0, 1\n",
    "print(f\"{class_name} learning the {name}.\") # 0, 1"
   ]
  },
  {
   "cell_type": "code",
   "execution_count": 13,
   "id": "c3d87891-e9ff-4ba1-9d47-6724f53b0087",
   "metadata": {},
   "outputs": [
    {
     "name": "stdout",
     "output_type": "stream",
     "text": [
      "VJ@AI\n"
     ]
    }
   ],
   "source": [
    "print(\"VJ\", end=\"@\")\n",
    "print(\"AI\")"
   ]
  },
  {
   "cell_type": "code",
   "execution_count": 14,
   "id": "e5fdd094-c3a4-48ba-bdad-555f2ae6b611",
   "metadata": {},
   "outputs": [
    {
     "name": "stdout",
     "output_type": "stream",
     "text": [
      "VJ @ AI\n"
     ]
    }
   ],
   "source": [
    "# VJ @ AI\n",
    "print(\"VJ\", end=\" @ \")\n",
    "print(\"AI\")"
   ]
  },
  {
   "cell_type": "code",
   "execution_count": 15,
   "id": "0ee5818e-8198-4c46-8113-af5841da9d30",
   "metadata": {},
   "outputs": [
    {
     "name": "stdout",
     "output_type": "stream",
     "text": [
      "VJ @ AI\n"
     ]
    }
   ],
   "source": [
    "# VJ @ AI\n",
    "print(\"VJ \", end=\"@\")\n",
    "print(\" AI\")"
   ]
  },
  {
   "cell_type": "code",
   "execution_count": 27,
   "id": "a56c34fe-324c-4779-b635-0b1f0ccd564a",
   "metadata": {},
   "outputs": [
    {
     "name": "stdout",
     "output_type": "stream",
     "text": [
      "1995$7$27\n"
     ]
    }
   ],
   "source": [
    "print(1995, 7, 27, sep=\"$\")"
   ]
  },
  {
   "cell_type": "code",
   "execution_count": 19,
   "id": "5ddc5183-dd35-4f39-a644-4c841ff3951e",
   "metadata": {},
   "outputs": [
    {
     "data": {
      "text/plain": [
       "7"
      ]
     },
     "execution_count": 19,
     "metadata": {},
     "output_type": "execute_result"
    }
   ],
   "source": []
  },
  {
   "cell_type": "code",
   "execution_count": null,
   "id": "96be2e4a-8970-4509-82cc-4460df9d5fb8",
   "metadata": {},
   "outputs": [],
   "source": []
  }
 ],
 "metadata": {
  "kernelspec": {
   "display_name": "Python 3 (ipykernel)",
   "language": "python",
   "name": "python3"
  },
  "language_info": {
   "codemirror_mode": {
    "name": "ipython",
    "version": 3
   },
   "file_extension": ".py",
   "mimetype": "text/x-python",
   "name": "python",
   "nbconvert_exporter": "python",
   "pygments_lexer": "ipython3",
   "version": "3.11.7"
  }
 },
 "nbformat": 4,
 "nbformat_minor": 5
}
