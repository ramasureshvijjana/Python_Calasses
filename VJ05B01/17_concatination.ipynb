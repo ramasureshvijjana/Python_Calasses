{
 "cells": [
  {
   "cell_type": "markdown",
   "id": "60a0e154-8882-4255-bf67-d097deb6f215",
   "metadata": {},
   "source": [
    "# Concatenation "
   ]
  },
  {
   "cell_type": "code",
   "execution_count": 2,
   "id": "21670c4d-a773-462f-a1a0-3d12771a6b15",
   "metadata": {},
   "outputs": [
    {
     "name": "stdout",
     "output_type": "stream",
     "text": [
      "Suresh 2946996807728 VJ 2946996808368\n",
      "SureshVJ 2946997025328\n"
     ]
    }
   ],
   "source": [
    "name = \"Suresh\"\n",
    "surname = \"VJ\"\n",
    "print(name, id(name), surname, id(surname))\n",
    "\n",
    "full_name = name + surname\n",
    "print(full_name, id(full_name))"
   ]
  },
  {
   "cell_type": "code",
   "execution_count": 3,
   "id": "e7e94420-8632-4055-8faa-1681814d54c6",
   "metadata": {},
   "outputs": [
    {
     "name": "stdout",
     "output_type": "stream",
     "text": [
      "Suresh 2046368444336 VJ 2046368482544\n",
      "SureshVJ 2046367852976\n"
     ]
    }
   ],
   "source": [
    "name = \"Suresh\"\n",
    "surname = \"VJ\"\n",
    "print(name, id(name), surname, id(surname))\n",
    "\n",
    "name = name + surname\n",
    "print(name, id(name))"
   ]
  },
  {
   "cell_type": "code",
   "execution_count": 1,
   "id": "20e2cfc6-c403-40b2-ae78-67c22062b447",
   "metadata": {},
   "outputs": [
    {
     "name": "stdout",
     "output_type": "stream",
     "text": [
      "Suresh 2336775775984 VJ 2336775717296\n",
      "SureshVJ 2336775721328\n"
     ]
    }
   ],
   "source": [
    "name = \"Suresh\"\n",
    "surname = \"VJ\"\n",
    "print(name, id(name), surname, id(surname))\n",
    "\n",
    "name += surname\n",
    "print(name, id(name))"
   ]
  },
  {
   "cell_type": "code",
   "execution_count": 4,
   "id": "696cab36-5478-4c35-975a-11197968c81d",
   "metadata": {},
   "outputs": [
    {
     "name": "stdout",
     "output_type": "stream",
     "text": [
      "['Suresh'] 2046381779456 ['VJ'] 2046368699136\n",
      "['Suresh', 'VJ'] 2046368699328\n"
     ]
    }
   ],
   "source": [
    "name = [\"Suresh\"]\n",
    "surname = [\"VJ\"]\n",
    "print(name, id(name), surname, id(surname))\n",
    "\n",
    "name = name + surname\n",
    "print(name, id(name))"
   ]
  },
  {
   "cell_type": "code",
   "execution_count": 5,
   "id": "77e9b5a3-74dc-409e-9a01-c2e52d0b6321",
   "metadata": {},
   "outputs": [
    {
     "name": "stdout",
     "output_type": "stream",
     "text": [
      "['Suresh'] 2046381783808 ['VJ'] 2046381779456\n",
      "['Suresh', 'VJ'] 2046381783808\n"
     ]
    }
   ],
   "source": [
    "name = [\"Suresh\"]\n",
    "surname = [\"VJ\"]\n",
    "print(name, id(name), surname, id(surname))\n",
    "\n",
    "name += surname\n",
    "print(name, id(name))"
   ]
  },
  {
   "cell_type": "code",
   "execution_count": 5,
   "id": "d5b968cf-039a-4b47-8936-3b7cfe061935",
   "metadata": {},
   "outputs": [
    {
     "name": "stdout",
     "output_type": "stream",
     "text": [
      "Suresh 2336789320816 VJ 2336775717296\n",
      "SureshVJ 2336789330992\n"
     ]
    }
   ],
   "source": [
    "name = (\"Suresh\")\n",
    "surname = (\"VJ\")\n",
    "print(name, id(name), surname, id(surname))\n",
    "\n",
    "name += surname\n",
    "print(name, id(name))"
   ]
  },
  {
   "cell_type": "code",
   "execution_count": 3,
   "id": "a20b3895-f889-4cb2-9625-e2bd68c32036",
   "metadata": {},
   "outputs": [
    {
     "name": "stdout",
     "output_type": "stream",
     "text": [
      "{'Suresh'} 2336789021856 {'VJ'} 2336775783808\n"
     ]
    },
    {
     "ename": "TypeError",
     "evalue": "unsupported operand type(s) for +: 'set' and 'set'",
     "output_type": "error",
     "traceback": [
      "\u001b[1;31m---------------------------------------------------------------------------\u001b[0m",
      "\u001b[1;31mTypeError\u001b[0m                                 Traceback (most recent call last)",
      "Cell \u001b[1;32mIn[3], line 5\u001b[0m\n\u001b[0;32m      2\u001b[0m surname \u001b[38;5;241m=\u001b[39m {\u001b[38;5;124m\"\u001b[39m\u001b[38;5;124mVJ\u001b[39m\u001b[38;5;124m\"\u001b[39m}\n\u001b[0;32m      3\u001b[0m \u001b[38;5;28mprint\u001b[39m(name, \u001b[38;5;28mid\u001b[39m(name), surname, \u001b[38;5;28mid\u001b[39m(surname))\n\u001b[1;32m----> 5\u001b[0m name \u001b[38;5;241m=\u001b[39m name \u001b[38;5;241m+\u001b[39m surname\n\u001b[0;32m      6\u001b[0m \u001b[38;5;28mprint\u001b[39m(name, \u001b[38;5;28mid\u001b[39m(name))\n",
      "\u001b[1;31mTypeError\u001b[0m: unsupported operand type(s) for +: 'set' and 'set'"
     ]
    }
   ],
   "source": [
    "name = {\"Suresh\"}\n",
    "surname = {\"VJ\"}\n",
    "print(name, id(name), surname, id(surname))\n",
    "\n",
    "name = name + surname\n",
    "print(name, id(name))"
   ]
  },
  {
   "cell_type": "code",
   "execution_count": 15,
   "id": "5416edc2-6c2e-48a7-b3b2-101870e11c0f",
   "metadata": {},
   "outputs": [
    {
     "name": "stdout",
     "output_type": "stream",
     "text": [
      "('Suresh', 'rama') 2336789271232 {'ty', 'VJ'} 2336789025888\n"
     ]
    },
    {
     "ename": "TypeError",
     "evalue": "can only concatenate tuple (not \"set\") to tuple",
     "output_type": "error",
     "traceback": [
      "\u001b[1;31m---------------------------------------------------------------------------\u001b[0m",
      "\u001b[1;31mTypeError\u001b[0m                                 Traceback (most recent call last)",
      "Cell \u001b[1;32mIn[15], line 5\u001b[0m\n\u001b[0;32m      2\u001b[0m surname \u001b[38;5;241m=\u001b[39m {\u001b[38;5;124m\"\u001b[39m\u001b[38;5;124mVJ\u001b[39m\u001b[38;5;124m\"\u001b[39m, \u001b[38;5;124m\"\u001b[39m\u001b[38;5;124mty\u001b[39m\u001b[38;5;124m\"\u001b[39m}\n\u001b[0;32m      3\u001b[0m \u001b[38;5;28mprint\u001b[39m(name, \u001b[38;5;28mid\u001b[39m(name), surname, \u001b[38;5;28mid\u001b[39m(surname))\n\u001b[1;32m----> 5\u001b[0m name \u001b[38;5;241m+\u001b[39m\u001b[38;5;241m=\u001b[39m surname\n\u001b[0;32m      6\u001b[0m \u001b[38;5;28mprint\u001b[39m(name, \u001b[38;5;28mid\u001b[39m(name))\n",
      "\u001b[1;31mTypeError\u001b[0m: can only concatenate tuple (not \"set\") to tuple"
     ]
    }
   ],
   "source": [
    "name = (\"Suresh\", \"rama\")\n",
    "surname = {\"VJ\", \"ty\"}\n",
    "print(name, id(name), surname, id(surname))\n",
    "\n",
    "name += surname\n",
    "print(name, id(name))"
   ]
  },
  {
   "cell_type": "code",
   "execution_count": null,
   "id": "45d52624-60b2-431b-8d44-8e97fed5b02f",
   "metadata": {},
   "outputs": [],
   "source": []
  }
 ],
 "metadata": {
  "kernelspec": {
   "display_name": "Python 3 (ipykernel)",
   "language": "python",
   "name": "python3"
  },
  "language_info": {
   "codemirror_mode": {
    "name": "ipython",
    "version": 3
   },
   "file_extension": ".py",
   "mimetype": "text/x-python",
   "name": "python",
   "nbconvert_exporter": "python",
   "pygments_lexer": "ipython3",
   "version": "3.11.7"
  }
 },
 "nbformat": 4,
 "nbformat_minor": 5
}
