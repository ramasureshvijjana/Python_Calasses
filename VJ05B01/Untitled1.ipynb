{
 "cells": [
  {
   "cell_type": "markdown",
   "id": "ad4c8e36-23a4-49e6-97d4-38d24efb23b8",
   "metadata": {},
   "source": [
    "# String"
   ]
  },
  {
   "cell_type": "markdown",
   "id": "046f79cf-0275-4b62-885c-2115e9dfe2c3",
   "metadata": {},
   "source": [
    "## 1. Define a String"
   ]
  },
  {
   "cell_type": "code",
   "execution_count": 13,
   "id": "937ef856-b65a-4458-a3d1-415fea1b061b",
   "metadata": {},
   "outputs": [],
   "source": [
    "student_name = \"Madhu\"\n",
    "student_surname = 'nulakani'\n",
    "student_address = \"\"\"Hyderabad\n",
    "TS\"\"\"\n",
    "student_bio = '''I am a devloper\n",
    "and working in Emagia'''"
   ]
  },
  {
   "cell_type": "code",
   "execution_count": 16,
   "id": "4e29c9c4-4061-434f-ac67-ad0523cf4a2a",
   "metadata": {},
   "outputs": [
    {
     "name": "stdout",
     "output_type": "stream",
     "text": [
      "Madhu\n",
      "nulakani\n",
      "Hyderabad\n",
      "TS\n",
      "I am a devloper\n",
      "and working in Emagia\n"
     ]
    }
   ],
   "source": [
    "print(student_name)\n",
    "print(student_surname)\n",
    "print(student_address)\n",
    "print(student_bio)"
   ]
  },
  {
   "cell_type": "code",
   "execution_count": 17,
   "id": "e56f6e55-8c0f-4cbf-be61-f031067768cb",
   "metadata": {},
   "outputs": [
    {
     "name": "stdout",
     "output_type": "stream",
     "text": [
      "\n"
     ]
    }
   ],
   "source": [
    "student_name = str()\n",
    "print(student_name)"
   ]
  },
  {
   "cell_type": "code",
   "execution_count": 18,
   "id": "3d13d014-2f9c-4444-889f-aedebf1ba5cd",
   "metadata": {},
   "outputs": [
    {
     "data": {
      "text/plain": [
       "0"
      ]
     },
     "execution_count": 18,
     "metadata": {},
     "output_type": "execute_result"
    }
   ],
   "source": [
    "len(student_name)"
   ]
  },
  {
   "cell_type": "markdown",
   "id": "8c4e6b46-decb-4049-ad46-f2e6f30521b0",
   "metadata": {},
   "source": [
    "## String index numbers"
   ]
  },
  {
   "cell_type": "code",
   "execution_count": 23,
   "id": "383fdf53-5909-4326-9670-d5d802e6ed2e",
   "metadata": {},
   "outputs": [
    {
     "name": "stdout",
     "output_type": "stream",
     "text": [
      "This is suresh VJ\n"
     ]
    }
   ],
   "source": [
    "bio = \"This is suresh VJ\"\n",
    "\n",
    "print(bio)"
   ]
  },
  {
   "cell_type": "code",
   "execution_count": 24,
   "id": "e115af46-589a-491e-abab-355464fc506c",
   "metadata": {},
   "outputs": [
    {
     "name": "stdout",
     "output_type": "stream",
     "text": [
      "T\n"
     ]
    }
   ],
   "source": [
    "print(bio[0])"
   ]
  },
  {
   "cell_type": "code",
   "execution_count": 25,
   "id": "35c25611-63b4-4ac4-8b28-3ab8d1f035af",
   "metadata": {},
   "outputs": [
    {
     "name": "stdout",
     "output_type": "stream",
     "text": [
      "i\n"
     ]
    }
   ],
   "source": [
    "print(bio[2])"
   ]
  },
  {
   "cell_type": "code",
   "execution_count": 27,
   "id": "983754a7-5abb-4ae5-b027-8b78f3501cfe",
   "metadata": {},
   "outputs": [
    {
     "name": "stdout",
     "output_type": "stream",
     "text": [
      " \n"
     ]
    }
   ],
   "source": [
    "print(bio[-3])"
   ]
  },
  {
   "cell_type": "markdown",
   "id": "3c33a861-a73c-43da-aa83-febcd8feb0bb",
   "metadata": {},
   "source": [
    "## Properties:"
   ]
  },
  {
   "cell_type": "markdown",
   "id": "c4a6dc04-a825-47a4-917f-c9b0aa05f4be",
   "metadata": {},
   "source": [
    "Immutable  \n",
    "Ordered  \n",
    "Sliceable  \n",
    "Non-inclusive  \n",
    "Interned obj  "
   ]
  },
  {
   "cell_type": "markdown",
   "id": "b8edc8c5-2b8d-42b4-b0f2-7bd9ad7daecd",
   "metadata": {},
   "source": [
    "### 1. Immutable:"
   ]
  },
  {
   "cell_type": "code",
   "execution_count": 20,
   "id": "7334848c-6507-44a8-969f-034a3768a7ba",
   "metadata": {},
   "outputs": [
    {
     "name": "stdout",
     "output_type": "stream",
     "text": [
      "Suresh 2401438875184\n"
     ]
    }
   ],
   "source": [
    "name = \"Suresh\"\n",
    "print(name, id(name))"
   ]
  },
  {
   "cell_type": "code",
   "execution_count": 21,
   "id": "e9e280e9-3b07-4aa7-9432-67b4adb3e834",
   "metadata": {},
   "outputs": [
    {
     "name": "stdout",
     "output_type": "stream",
     "text": [
      "Suresh VJ 2401438864368\n"
     ]
    }
   ],
   "source": [
    "name += \" VJ\"\n",
    "print(name, id(name))"
   ]
  },
  {
   "cell_type": "markdown",
   "id": "d74d9f85-1d1b-4ccb-af98-ebf455e26162",
   "metadata": {},
   "source": [
    "### 2. Ordered:"
   ]
  },
  {
   "cell_type": "code",
   "execution_count": 22,
   "id": "898caad1-9225-4b71-a6f6-a88e6100f940",
   "metadata": {},
   "outputs": [
    {
     "name": "stdout",
     "output_type": "stream",
     "text": [
      "S\n",
      "u\n",
      "r\n",
      "e\n",
      "s\n",
      "h\n"
     ]
    }
   ],
   "source": [
    "name = \"Suresh\"\n",
    "for ch in name:\n",
    "    print(ch)"
   ]
  },
  {
   "cell_type": "markdown",
   "id": "0a58a5e4-153f-43ba-beb7-536bb3f5eb6b",
   "metadata": {},
   "source": [
    "### 3. Sliceable"
   ]
  },
  {
   "cell_type": "code",
   "execution_count": 29,
   "id": "cbda78d1-3924-447e-a7b2-91f01135dd3a",
   "metadata": {},
   "outputs": [
    {
     "data": {
      "text/plain": [
       "'ure'"
      ]
     },
     "execution_count": 29,
     "metadata": {},
     "output_type": "execute_result"
    }
   ],
   "source": [
    "name = \"Suresh\"\n",
    "name[1:4]"
   ]
  },
  {
   "cell_type": "code",
   "execution_count": 30,
   "id": "4f707f62-21b5-42fe-b41b-5321ff057d45",
   "metadata": {},
   "outputs": [
    {
     "data": {
      "text/plain": [
       "'ure'"
      ]
     },
     "execution_count": 30,
     "metadata": {},
     "output_type": "execute_result"
    }
   ],
   "source": [
    "name[-5:-2]"
   ]
  },
  {
   "cell_type": "code",
   "execution_count": 31,
   "id": "b9a7a517-a73a-4977-ad85-703f9a1be95d",
   "metadata": {},
   "outputs": [
    {
     "data": {
      "text/plain": [
       "''"
      ]
     },
     "execution_count": 31,
     "metadata": {},
     "output_type": "execute_result"
    }
   ],
   "source": [
    "name[-2:-5]"
   ]
  },
  {
   "cell_type": "code",
   "execution_count": 32,
   "id": "4929143b-3123-4330-8212-ac10b1a7c27e",
   "metadata": {},
   "outputs": [
    {
     "data": {
      "text/plain": [
       "'uresh'"
      ]
     },
     "execution_count": 32,
     "metadata": {},
     "output_type": "execute_result"
    }
   ],
   "source": [
    "name[1:]"
   ]
  },
  {
   "cell_type": "code",
   "execution_count": 33,
   "id": "add20bae-edf3-4a3f-bc63-7b1ba5e44560",
   "metadata": {},
   "outputs": [
    {
     "data": {
      "text/plain": [
       "'uresh'"
      ]
     },
     "execution_count": 33,
     "metadata": {},
     "output_type": "execute_result"
    }
   ],
   "source": [
    "name[1:len(name)]"
   ]
  },
  {
   "cell_type": "code",
   "execution_count": 35,
   "id": "d6bea5cd-1d64-4881-95c9-42201063004f",
   "metadata": {},
   "outputs": [
    {
     "data": {
      "text/plain": [
       "'Sure'"
      ]
     },
     "execution_count": 35,
     "metadata": {},
     "output_type": "execute_result"
    }
   ],
   "source": [
    "name[:4]"
   ]
  },
  {
   "cell_type": "code",
   "execution_count": 42,
   "id": "9dabce70-9aee-4443-81d0-f999cd016611",
   "metadata": {},
   "outputs": [
    {
     "data": {
      "text/plain": [
       "'Suresh'"
      ]
     },
     "execution_count": 42,
     "metadata": {},
     "output_type": "execute_result"
    }
   ],
   "source": [
    "name[0:44]"
   ]
  },
  {
   "cell_type": "code",
   "execution_count": 43,
   "id": "f61a28de-4f55-465b-97b2-17a30f16a899",
   "metadata": {},
   "outputs": [
    {
     "data": {
      "text/plain": [
       "'Srs'"
      ]
     },
     "execution_count": 43,
     "metadata": {},
     "output_type": "execute_result"
    }
   ],
   "source": [
    "name[0:6:2]"
   ]
  },
  {
   "cell_type": "code",
   "execution_count": 46,
   "id": "1d285f40-cdc0-4119-b18e-cd74f02deb59",
   "metadata": {},
   "outputs": [
    {
     "data": {
      "text/plain": [
       "'hseruS'"
      ]
     },
     "execution_count": 46,
     "metadata": {},
     "output_type": "execute_result"
    }
   ],
   "source": [
    "name[-1:-7:-1]"
   ]
  },
  {
   "cell_type": "code",
   "execution_count": 47,
   "id": "4547b0f6-0ded-472a-a6e0-67d8fdac03ec",
   "metadata": {},
   "outputs": [
    {
     "data": {
      "text/plain": [
       "''"
      ]
     },
     "execution_count": 47,
     "metadata": {},
     "output_type": "execute_result"
    }
   ],
   "source": [
    "name[-7:-1:-1]"
   ]
  },
  {
   "cell_type": "code",
   "execution_count": 49,
   "id": "53b4ed8d-04ea-46eb-8c4c-bf6f5217d5f3",
   "metadata": {},
   "outputs": [
    {
     "data": {
      "text/plain": [
       "'sh'"
      ]
     },
     "execution_count": 49,
     "metadata": {},
     "output_type": "execute_result"
    }
   ],
   "source": [
    "name[-2::1]"
   ]
  },
  {
   "cell_type": "code",
   "execution_count": 50,
   "id": "a0fcfe9a-4aee-452b-93d2-7a2de2b75e38",
   "metadata": {},
   "outputs": [
    {
     "data": {
      "text/plain": [
       "'s'"
      ]
     },
     "execution_count": 50,
     "metadata": {},
     "output_type": "execute_result"
    }
   ],
   "source": [
    "name[-2:-1:1]"
   ]
  },
  {
   "cell_type": "markdown",
   "id": "9f33a530-2be7-4a07-9cbf-396b23054020",
   "metadata": {},
   "source": [
    "### Interned obj"
   ]
  },
  {
   "cell_type": "code",
   "execution_count": 53,
   "id": "bd5c459d-ef02-4caf-9377-26dbb909630c",
   "metadata": {},
   "outputs": [
    {
     "name": "stdout",
     "output_type": "stream",
     "text": [
      "2401438940272 2401438940272\n"
     ]
    }
   ],
   "source": [
    "name = \"Priya\"\n",
    "name_1 = \"Priya\"\n",
    "\n",
    "print(id(name), id(name_1))"
   ]
  },
  {
   "cell_type": "code",
   "execution_count": null,
   "id": "ab986d8f-58ea-4499-9bfa-d16f566b64df",
   "metadata": {},
   "outputs": [],
   "source": []
  }
 ],
 "metadata": {
  "kernelspec": {
   "display_name": "Python 3 (ipykernel)",
   "language": "python",
   "name": "python3"
  },
  "language_info": {
   "codemirror_mode": {
    "name": "ipython",
    "version": 3
   },
   "file_extension": ".py",
   "mimetype": "text/x-python",
   "name": "python",
   "nbconvert_exporter": "python",
   "pygments_lexer": "ipython3",
   "version": "3.11.7"
  }
 },
 "nbformat": 4,
 "nbformat_minor": 5
}
