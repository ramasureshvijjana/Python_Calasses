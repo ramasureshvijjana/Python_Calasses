{
 "cells": [
  {
   "cell_type": "markdown",
   "id": "c55fc24c-f02c-4aeb-a668-cda1a7c85603",
   "metadata": {},
   "source": [
    "# map() Function"
   ]
  },
  {
   "cell_type": "code",
   "execution_count": 8,
   "id": "16409d04-7787-46e2-9355-e850ddeb3899",
   "metadata": {},
   "outputs": [],
   "source": [
    "names = [\"VJ\", \"Madhu\", \"priya\", \"Kiran kumar\", \"suResh\"]\n",
    "\n",
    "def validate_names(name:str):\n",
    "    if len(name)>=3 and len(name)<=20:\n",
    "        # Valid case\n",
    "        if name.istitle():\n",
    "            return name\n",
    "        else:\n",
    "            return name.title()\n",
    "    else:\n",
    "        return f\"{name} is not valid. Name length should be greater than 2 and less than 21\"\n",
    "        \n"
   ]
  },
  {
   "cell_type": "code",
   "execution_count": 9,
   "id": "7989ffca-8224-4533-90f8-18639d300a9d",
   "metadata": {},
   "outputs": [
    {
     "name": "stdout",
     "output_type": "stream",
     "text": [
      "['VJ is not valid. Name length should be greater than 2 and less than 21', 'Madhu', 'Priya', 'Kiran Kumar', 'Suresh']\n"
     ]
    }
   ],
   "source": [
    "final_names = []\n",
    "for name in names:\n",
    "    final_names.append(validate_names(name))\n",
    "\n",
    "print(final_names)"
   ]
  },
  {
   "cell_type": "code",
   "execution_count": 13,
   "id": "dc088be2-6f75-4c28-8c56-4caa9a4ff72f",
   "metadata": {},
   "outputs": [
    {
     "name": "stdout",
     "output_type": "stream",
     "text": [
      "{'Kiran Kumar', 'Priya', 'Suresh', 'VJ is not valid. Name length should be greater than 2 and less than 21', 'Madhu'}\n"
     ]
    }
   ],
   "source": [
    "final_names = set(map(validate_names, names))\n",
    "print(final_names)"
   ]
  },
  {
   "cell_type": "markdown",
   "id": "e0724910-4fd1-47fc-8e5a-f41f2abc5e5d",
   "metadata": {},
   "source": [
    "## Map with multiple perameters"
   ]
  },
  {
   "cell_type": "code",
   "execution_count": 18,
   "id": "09e12303-6ed7-4b35-a8aa-8cc7986b9f1e",
   "metadata": {},
   "outputs": [],
   "source": [
    "names = [\"VJ\", \"Madhu\", \"priya\", \"Kiran kumar\", \"suResh\"]\n",
    "surnames = [\"Vijjana\", \"Nulakani\", \"Putta\", \"Undru\", \"Kumpatla\"]\n",
    "\n",
    "def validate_names(name:str, surname: str):\n",
    "    if len(name)>=3 and len(name)<=20:\n",
    "        # Valid case\n",
    "        if name.istitle():\n",
    "            return concatinate_name_surname(name, surname)\n",
    "        else:\n",
    "            return concatinate_name_surname(name.title(), surname)\n",
    "    else:\n",
    "        return f\"{name} is not valid. Name length should be greater than 2 and less than 21\"\n",
    "\n",
    "def concatinate_name_surname(name:str, surname:str):\n",
    "    return name + f\" {surname}\"\n",
    "    \n",
    "        "
   ]
  },
  {
   "cell_type": "code",
   "execution_count": 19,
   "id": "dfcef76e-ffdb-4a3c-b7d0-55491a482230",
   "metadata": {},
   "outputs": [
    {
     "name": "stdout",
     "output_type": "stream",
     "text": [
      "['VJ is not valid. Name length should be greater than 2 and less than 21', 'Madhu Nulakani', 'Priya Putta', 'Kiran Kumar Undru', 'Suresh Kumpatla']\n"
     ]
    }
   ],
   "source": [
    "final_names = list(map(validate_names, names, surnames))\n",
    "print(final_names)"
   ]
  },
  {
   "cell_type": "code",
   "execution_count": 24,
   "id": "106a4bcc-2899-4140-8cde-a37a6cf7b877",
   "metadata": {},
   "outputs": [],
   "source": [
    "names = [\"VJ\", \"Madhu\", \"priya\", \"Kiran kumar\", \"suResh\"]\n",
    "surnames = [\"Vijjana\", \"Nulakani\", \"Putta\", \"Undru\", \"Kumpatla\"]\n",
    "\n",
    "def validate_names(name:str):\n",
    "    if len(name)>=3 and len(name)<=20:\n",
    "        # Valid case\n",
    "        if name.istitle():\n",
    "            return name\n",
    "        else:\n",
    "            return name.title()\n",
    "    else:\n",
    "        return ValueError(f\"{name} is not valid. Name length should be greater than 2 and less than 21\")\n",
    "\n",
    "def concatinate_name_surname(name:str, surname:str):\n",
    "    valid_name = validate_names(name)\n",
    "    valid_surname = validate_names(surname)\n",
    "    \n",
    "    if type(valid_name) == str and type(valid_surname) == str:\n",
    "        return valid_name + f\" {valid_surname}\"\n",
    "    else:\n",
    "        return (valid_name, valid_surname)"
   ]
  },
  {
   "cell_type": "code",
   "execution_count": 25,
   "id": "d3768d89-8b2f-412d-bf17-adf7fe1220b6",
   "metadata": {},
   "outputs": [
    {
     "name": "stdout",
     "output_type": "stream",
     "text": [
      "[(ValueError('VJ is not valid. Name length should be greater than 2 and less than 21'), 'Vijjana'), 'Madhu Nulakani', 'Priya Putta', 'Kiran Kumar Undru', 'Suresh Kumpatla']\n"
     ]
    }
   ],
   "source": [
    "final_names = list(map(concatinate_name_surname, names, surnames))\n",
    "print(final_names)"
   ]
  },
  {
   "cell_type": "markdown",
   "id": "61798ff6-12c2-4f22-ae42-66ac540ec365",
   "metadata": {},
   "source": [
    "## Map with lambda function"
   ]
  },
  {
   "cell_type": "code",
   "execution_count": 26,
   "id": "c3154a79-3923-43c4-8807-d54a0fb35c0c",
   "metadata": {},
   "outputs": [
    {
     "name": "stdout",
     "output_type": "stream",
     "text": [
      "[False, True, False, False, False]\n"
     ]
    }
   ],
   "source": [
    "is_name_title = lambda name : name.istitle()\n",
    "\n",
    "result = list(map(is_name_title, names))\n",
    "print(result)"
   ]
  },
  {
   "cell_type": "code",
   "execution_count": null,
   "id": "0ad720c9-452c-4403-a7f8-5da1b6411ed3",
   "metadata": {},
   "outputs": [],
   "source": []
  }
 ],
 "metadata": {
  "kernelspec": {
   "display_name": "Python 3 (ipykernel)",
   "language": "python",
   "name": "python3"
  },
  "language_info": {
   "codemirror_mode": {
    "name": "ipython",
    "version": 3
   },
   "file_extension": ".py",
   "mimetype": "text/x-python",
   "name": "python",
   "nbconvert_exporter": "python",
   "pygments_lexer": "ipython3",
   "version": "3.11.7"
  }
 },
 "nbformat": 4,
 "nbformat_minor": 5
}
