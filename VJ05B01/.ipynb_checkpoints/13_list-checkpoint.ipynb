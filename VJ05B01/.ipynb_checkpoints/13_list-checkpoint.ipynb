{
 "cells": [
  {
   "cell_type": "markdown",
   "id": "a5e9178a-764e-4846-8ef2-ad1d66684469",
   "metadata": {},
   "source": [
    "# List"
   ]
  },
  {
   "cell_type": "code",
   "execution_count": 1,
   "id": "4cb091c1-459f-47b0-b97c-675f7ac68d35",
   "metadata": {},
   "outputs": [
    {
     "name": "stdout",
     "output_type": "stream",
     "text": [
      "<class 'list'>\n"
     ]
    }
   ],
   "source": [
    "empty_list = []\n",
    "print(type(empty_list))"
   ]
  },
  {
   "cell_type": "code",
   "execution_count": 2,
   "id": "678d7970-eef3-4aa3-993a-fdc8fbb3712a",
   "metadata": {},
   "outputs": [
    {
     "name": "stdout",
     "output_type": "stream",
     "text": [
      "<class 'list'>\n"
     ]
    }
   ],
   "source": [
    "empty_list = list()\n",
    "print(type(empty_list))"
   ]
  },
  {
   "cell_type": "markdown",
   "id": "3aec80a7-75d0-426c-afaf-be541f2b96fa",
   "metadata": {},
   "source": [
    "## Possible ways"
   ]
  },
  {
   "cell_type": "code",
   "execution_count": 3,
   "id": "6ebdaee6-14c8-46b3-880d-0769bd416806",
   "metadata": {},
   "outputs": [
    {
     "name": "stdout",
     "output_type": "stream",
     "text": [
      "[5] <class 'list'>\n"
     ]
    }
   ],
   "source": [
    "single_ele_list = [5]\n",
    "print(single_ele_list,type(single_ele_list))"
   ]
  },
  {
   "cell_type": "code",
   "execution_count": 4,
   "id": "4030fcb2-f962-42fe-b654-a48f41acf13c",
   "metadata": {},
   "outputs": [
    {
     "name": "stdout",
     "output_type": "stream",
     "text": [
      "[5] <class 'list'>\n"
     ]
    }
   ],
   "source": [
    "single_ele_list = [5,]\n",
    "print(single_ele_list,type(single_ele_list))"
   ]
  },
  {
   "cell_type": "code",
   "execution_count": 7,
   "id": "33cead3a-50a4-47c1-a8fd-7f6ea3cad553",
   "metadata": {},
   "outputs": [
    {
     "name": "stdout",
     "output_type": "stream",
     "text": [
      "[5] <class 'list'>\n"
     ]
    }
   ],
   "source": [
    "single_ele_list = [5,     ]\n",
    "print(single_ele_list,type(single_ele_list))"
   ]
  },
  {
   "cell_type": "code",
   "execution_count": 8,
   "id": "0ed4d292-175d-4439-a1e8-8e9cd1b12ccc",
   "metadata": {},
   "outputs": [
    {
     "name": "stdout",
     "output_type": "stream",
     "text": [
      "[5] <class 'list'>\n"
     ]
    }
   ],
   "source": [
    "single_ele_list = [5,\n",
    "                  ]\n",
    "print(single_ele_list,type(single_ele_list))"
   ]
  },
  {
   "cell_type": "code",
   "execution_count": 10,
   "id": "77ddfd3a-3a3e-488f-87c4-b1b549ffe6e1",
   "metadata": {},
   "outputs": [
    {
     "ename": "SyntaxError",
     "evalue": "invalid syntax (3872201613.py, line 1)",
     "output_type": "error",
     "traceback": [
      "\u001b[1;36m  Cell \u001b[1;32mIn[10], line 1\u001b[1;36m\u001b[0m\n\u001b[1;33m    single_ele_list = [,5,]\u001b[0m\n\u001b[1;37m                       ^\u001b[0m\n\u001b[1;31mSyntaxError\u001b[0m\u001b[1;31m:\u001b[0m invalid syntax\n"
     ]
    }
   ],
   "source": [
    "single_ele_list = [,5,]\n",
    "print(single_ele_list,type(single_ele_list))"
   ]
  },
  {
   "cell_type": "markdown",
   "id": "429c78c1-eb68-4364-b69d-016c1be22648",
   "metadata": {},
   "source": [
    "## Properties: "
   ]
  },
  {
   "cell_type": "markdown",
   "id": "98495d0d-2f9e-4b22-aedf-87ed17efead1",
   "metadata": {},
   "source": [
    "### Mutable"
   ]
  },
  {
   "cell_type": "code",
   "execution_count": 24,
   "id": "32ef97a5-2b9c-401a-b14b-c978acb5dcaa",
   "metadata": {},
   "outputs": [
    {
     "name": "stdout",
     "output_type": "stream",
     "text": [
      "[22, 26, 35, 43] <class 'list'> 4 2031596908672\n"
     ]
    }
   ],
   "source": [
    "ages = [22,26,35,43]\n",
    "print(ages, type(ages), len(ages), id(ages))"
   ]
  },
  {
   "cell_type": "code",
   "execution_count": 25,
   "id": "366f9ce1-5cd4-4181-a08c-4255dfc55c0a",
   "metadata": {},
   "outputs": [
    {
     "name": "stdout",
     "output_type": "stream",
     "text": [
      "[22, 26, 55, 35, 43] <class 'list'> 5 2031596908672\n"
     ]
    }
   ],
   "source": [
    "ages.insert(2, 55)\n",
    "print(ages, type(ages), len(ages), id(ages))"
   ]
  },
  {
   "cell_type": "markdown",
   "id": "7cd00b38-955b-4106-a147-864b7875dc68",
   "metadata": {},
   "source": [
    "### Sliceable:"
   ]
  },
  {
   "cell_type": "code",
   "execution_count": 26,
   "id": "85e950ff-de2b-4646-b7d1-522b71ad2f5e",
   "metadata": {},
   "outputs": [
    {
     "data": {
      "text/plain": [
       "[26, 55, 35]"
      ]
     },
     "execution_count": 26,
     "metadata": {},
     "output_type": "execute_result"
    }
   ],
   "source": [
    "ages[1:4]"
   ]
  },
  {
   "cell_type": "markdown",
   "id": "346d2646-a1c9-4f9a-b16c-654370f83a84",
   "metadata": {},
   "source": [
    "### Allow duplicates:"
   ]
  },
  {
   "cell_type": "code",
   "execution_count": 27,
   "id": "d759be50-9546-4605-aaeb-914cd1d0b77d",
   "metadata": {},
   "outputs": [
    {
     "name": "stdout",
     "output_type": "stream",
     "text": [
      "[55, 22, 26, 55, 35, 43] <class 'list'> 6 2031596908672\n"
     ]
    }
   ],
   "source": [
    "ages.insert(0, 55)\n",
    "print(ages, type(ages), len(ages), id(ages))"
   ]
  },
  {
   "cell_type": "markdown",
   "id": "cfd2b11c-e137-448f-9278-6b75e91652ea",
   "metadata": {},
   "source": [
    "### Not interned obj:"
   ]
  },
  {
   "cell_type": "code",
   "execution_count": 28,
   "id": "d742b4a2-c9ff-4c58-b356-fc5c36871708",
   "metadata": {},
   "outputs": [
    {
     "name": "stdout",
     "output_type": "stream",
     "text": [
      "[55, 22, 26, 55, 35, 43] <class 'list'> 6 2031597426176\n"
     ]
    }
   ],
   "source": [
    "ages_2 = [55, 22, 26, 55, 35, 43]\n",
    "print(ages_2, type(ages_2), len(ages_2), id(ages_2))"
   ]
  },
  {
   "cell_type": "markdown",
   "id": "45352e61-8822-4db9-a845-0546bf2a1d9d",
   "metadata": {},
   "source": [
    "### Allow all data types"
   ]
  },
  {
   "cell_type": "code",
   "execution_count": 32,
   "id": "5266512d-1fd5-4a52-a653-fc813a5d6154",
   "metadata": {},
   "outputs": [
    {
     "name": "stdout",
     "output_type": "stream",
     "text": [
      "[23, 5.4, True, 'Madhu', (1, 2, 3), [5, 4], {3, 6}, {'name': 'VJ'}, (2+5j), None, 10, 573, 341] <class 'list'> 13 2031603761728\n"
     ]
    }
   ],
   "source": [
    "raw_data = [23, 5.4, True, \"Madhu\", (1,2,3), [5,4], {6,3}, {'name': \"VJ\"}, 2+5j, None, 0O12, 0x23d, 0b101010101]\n",
    "print(raw_data, type(raw_data), len(raw_data), id(raw_data))"
   ]
  },
  {
   "cell_type": "markdown",
   "id": "81d7f086-8b47-447c-a908-8fb7dafcdcf9",
   "metadata": {},
   "source": [
    "## Functions:"
   ]
  },
  {
   "cell_type": "code",
   "execution_count": 33,
   "id": "9b0803c4-e36c-466c-8b20-be5ba6a77b11",
   "metadata": {},
   "outputs": [
    {
     "name": "stdout",
     "output_type": "stream",
     "text": [
      "[22, 26, 35, 43, 46] <class 'list'> 5 2031615915072\n"
     ]
    }
   ],
   "source": [
    "ages = [22,26,35,43]\n",
    "ages.append(46)\n",
    "print(ages, type(ages), len(ages), id(ages))"
   ]
  },
  {
   "cell_type": "code",
   "execution_count": 34,
   "id": "61dd56a3-c73e-42ee-b9d3-9a54af39da43",
   "metadata": {},
   "outputs": [
    {
     "name": "stdout",
     "output_type": "stream",
     "text": [
      "[22, 26, 35, 43, 34, 66, 33] <class 'list'> 7 2031616323712\n"
     ]
    }
   ],
   "source": [
    "ages_batch_1 = [22,26,35,43]\n",
    "ages_batch_2 = [34,66,33]\n",
    "ages_batch_1.extend(ages_batch_2)\n",
    "print(ages_batch_1, type(ages_batch_1), len(ages_batch_1), id(ages_batch_1))"
   ]
  },
  {
   "cell_type": "code",
   "execution_count": 35,
   "id": "b6c93225-946f-499e-987a-8fd990155e0b",
   "metadata": {},
   "outputs": [
    {
     "name": "stdout",
     "output_type": "stream",
     "text": [
      "[55, 22, 26, 35, 43, 34, 66, 33] <class 'list'> 8 2031616323712\n"
     ]
    }
   ],
   "source": [
    "ages_batch_1.insert(0, 55)\n",
    "print(ages_batch_1, type(ages_batch_1), len(ages_batch_1), id(ages_batch_1))"
   ]
  },
  {
   "cell_type": "code",
   "execution_count": 36,
   "id": "c22805b4-3706-492b-a6cf-9022e9b3aef9",
   "metadata": {},
   "outputs": [
    {
     "name": "stdout",
     "output_type": "stream",
     "text": [
      "[55, 22, 26, 35, 43, 34, 66, 33] <class 'list'> 8 2031616195520\n"
     ]
    }
   ],
   "source": [
    "ages_batch_3 = ages_batch_1.copy()\n",
    "print(ages_batch_3, type(ages_batch_3), len(ages_batch_3), id(ages_batch_3))"
   ]
  },
  {
   "cell_type": "code",
   "execution_count": 39,
   "id": "161384fc-dd62-425d-a8bc-b99565a961a0",
   "metadata": {},
   "outputs": [
    {
     "data": {
      "text/plain": [
       "1"
      ]
     },
     "execution_count": 39,
     "metadata": {},
     "output_type": "execute_result"
    }
   ],
   "source": [
    "ages_batch_3.count(34)"
   ]
  },
  {
   "cell_type": "code",
   "execution_count": 49,
   "id": "5899e90c-40d4-4b0f-8caf-0e17b20a5814",
   "metadata": {},
   "outputs": [
    {
     "name": "stdout",
     "output_type": "stream",
     "text": [
      "[55, 22, 26, 35, 43, 34, 66, 33, 66, 66, 66, 66, 66]\n"
     ]
    },
    {
     "data": {
      "text/plain": [
       "6"
      ]
     },
     "execution_count": 49,
     "metadata": {},
     "output_type": "execute_result"
    }
   ],
   "source": [
    "ages_batch_3.append(66)\n",
    "print(ages_batch_3)\n",
    "ages_batch_3.index(66)"
   ]
  },
  {
   "cell_type": "code",
   "execution_count": 50,
   "id": "3b8cbb5b-1263-42d7-8573-c68844702224",
   "metadata": {},
   "outputs": [
    {
     "data": {
      "text/plain": [
       "6"
      ]
     },
     "execution_count": 50,
     "metadata": {},
     "output_type": "execute_result"
    }
   ],
   "source": [
    "ages_batch_3.count(66)"
   ]
  },
  {
   "cell_type": "code",
   "execution_count": 55,
   "id": "1202c5c8-bb83-45f4-843b-37a07f148ddc",
   "metadata": {},
   "outputs": [
    {
     "name": "stdout",
     "output_type": "stream",
     "text": [
      "[66, 66, 66, 66, 66, 33, 66, 34, 43, 35, 26, 22, 55]\n"
     ]
    }
   ],
   "source": [
    "ages_batch_3.reverse()\n",
    "print(ages_batch_3)"
   ]
  },
  {
   "cell_type": "code",
   "execution_count": 60,
   "id": "034c937b-0aca-4f8d-b92c-687698cbdef4",
   "metadata": {},
   "outputs": [
    {
     "name": "stdout",
     "output_type": "stream",
     "text": [
      "[22, 26, 33, 34, 35, 43, 55, 66, 66, 66, 66, 66, 66]\n"
     ]
    }
   ],
   "source": [
    "ages_batch_3.sort()\n",
    "print(ages_batch_3)"
   ]
  },
  {
   "cell_type": "code",
   "execution_count": 61,
   "id": "94f312da-4983-432a-80f0-12c91041f7b4",
   "metadata": {},
   "outputs": [
    {
     "name": "stdout",
     "output_type": "stream",
     "text": [
      "[66, 66, 66, 66, 66, 66, 55, 43, 35, 34, 33, 26, 22]\n"
     ]
    }
   ],
   "source": [
    "ages_batch_3.sort(reverse=True)\n",
    "print(ages_batch_3)"
   ]
  },
  {
   "cell_type": "code",
   "execution_count": 63,
   "id": "2be1b653-6f71-4554-aeb6-f1804e3a3329",
   "metadata": {},
   "outputs": [
    {
     "name": "stdout",
     "output_type": "stream",
     "text": [
      "[66, 66, 66, 66, 66, 66, 55, 43, 35, 34, 33]\n"
     ]
    }
   ],
   "source": [
    "ages_batch_3.pop() # -1\n",
    "print(ages_batch_3)"
   ]
  },
  {
   "cell_type": "code",
   "execution_count": 64,
   "id": "daf95720-61f1-4da4-9e56-73976a1ba105",
   "metadata": {},
   "outputs": [
    {
     "name": "stdout",
     "output_type": "stream",
     "text": [
      "[66, 66, 66, 66, 66, 55, 43, 35, 34, 33]\n"
     ]
    }
   ],
   "source": [
    "ages_batch_3.pop(1)\n",
    "print(ages_batch_3)"
   ]
  },
  {
   "cell_type": "code",
   "execution_count": 66,
   "id": "d837f0b2-2f14-40d6-a434-42f7cc634d18",
   "metadata": {},
   "outputs": [
    {
     "name": "stdout",
     "output_type": "stream",
     "text": [
      "[66, 66, 66, 66, 55, 35, 34, 33]\n"
     ]
    }
   ],
   "source": [
    "ages_batch_3.remove(43)\n",
    "print(ages_batch_3)"
   ]
  },
  {
   "cell_type": "code",
   "execution_count": 68,
   "id": "8965d516-e9c0-420e-abef-9786f836ed2f",
   "metadata": {},
   "outputs": [
    {
     "name": "stdout",
     "output_type": "stream",
     "text": [
      "[]\n"
     ]
    }
   ],
   "source": [
    "ages_batch_3.clear()\n",
    "print(ages_batch_3)"
   ]
  },
  {
   "cell_type": "markdown",
   "id": "9146f165-884e-4efb-a09c-c54b646fd57e",
   "metadata": {},
   "source": [
    "## Insert function"
   ]
  },
  {
   "cell_type": "code",
   "execution_count": 1,
   "id": "70cee3e6-269c-45bd-8c1b-e9a49877c916",
   "metadata": {},
   "outputs": [
    {
     "name": "stdout",
     "output_type": "stream",
     "text": [
      "[22, 66, 26, 35, 43]\n"
     ]
    }
   ],
   "source": [
    "nums = [22, 26, 35, 43]\n",
    "nums.insert(1, 66)\n",
    "print(nums)"
   ]
  },
  {
   "cell_type": "code",
   "execution_count": 4,
   "id": "dccdc288-8307-4dd9-8290-18ef49e4f771",
   "metadata": {},
   "outputs": [
    {
     "name": "stdout",
     "output_type": "stream",
     "text": [
      "[22, 26, 35, 66, 43]\n"
     ]
    }
   ],
   "source": [
    "nums = [22, 26, 35, 43]\n",
    "nums.insert(-1, 66)\n",
    "print(nums)"
   ]
  },
  {
   "cell_type": "code",
   "execution_count": 6,
   "id": "f0f27531-e366-493c-aae2-1e1bc30e3f7e",
   "metadata": {},
   "outputs": [
    {
     "name": "stdout",
     "output_type": "stream",
     "text": [
      "['o', 'l', 'l', 'e', 'h']\n"
     ]
    }
   ],
   "source": [
    "str_list = ['h', 'e', 'l', 'l', 'o']\n",
    "\n",
    "str_list.reverse()\n",
    "print(str_list)"
   ]
  },
  {
   "cell_type": "code",
   "execution_count": null,
   "id": "501ab94f-73e9-4678-853d-6b39758f6a2d",
   "metadata": {},
   "outputs": [],
   "source": [
    "o(1)"
   ]
  },
  {
   "cell_type": "code",
   "execution_count": null,
   "id": "001f76ec-540e-4f9b-8ddc-f7c591724bc4",
   "metadata": {},
   "outputs": [],
   "source": [
    "str_list = ['h', 'e', 'l', 'l', 'o']\n",
    "\n",
    "for neg_idx in range(-1, -len(str_list)): # -1, -5, -1 \n",
    "    print(f\"the neg_idx is {neg_idx}\")\n",
    "    "
   ]
  }
 ],
 "metadata": {
  "kernelspec": {
   "display_name": "Python 3 (ipykernel)",
   "language": "python",
   "name": "python3"
  },
  "language_info": {
   "codemirror_mode": {
    "name": "ipython",
    "version": 3
   },
   "file_extension": ".py",
   "mimetype": "text/x-python",
   "name": "python",
   "nbconvert_exporter": "python",
   "pygments_lexer": "ipython3",
   "version": "3.11.7"
  }
 },
 "nbformat": 4,
 "nbformat_minor": 5
}
