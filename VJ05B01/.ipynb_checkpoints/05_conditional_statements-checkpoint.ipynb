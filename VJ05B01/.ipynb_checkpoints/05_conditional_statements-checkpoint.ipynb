{
 "cells": [
  {
   "cell_type": "markdown",
   "id": "d0fefe72-ba38-46f6-a627-e23687ece60c",
   "metadata": {},
   "source": [
    "# Conditional Statments"
   ]
  },
  {
   "cell_type": "markdown",
   "id": "0d9492b4-eff7-4a27-972a-fe9907f65aec",
   "metadata": {},
   "source": [
    "### 1. If Condition:"
   ]
  },
  {
   "cell_type": "code",
   "execution_count": 1,
   "id": "84f00bb1-af14-459f-af22-004b1c41048d",
   "metadata": {},
   "outputs": [
    {
     "name": "stdout",
     "output_type": "stream",
     "text": [
      "x is less than 10\n"
     ]
    }
   ],
   "source": [
    "x = 5\n",
    "if x < 10:\n",
    "    print('x is less than 10')"
   ]
  },
  {
   "cell_type": "code",
   "execution_count": 4,
   "id": "8d057cf0-8e5b-4cf2-823e-d034751d5d52",
   "metadata": {},
   "outputs": [
    {
     "name": "stdin",
     "output_type": "stream",
     "text": [
      "Enter your age:  12\n"
     ]
    }
   ],
   "source": [
    "age = int(input(\"Enter your age: \"))\n",
    "\n",
    "if age >= 18:\n",
    "    print(\"The candidate is eligible for vote\")"
   ]
  },
  {
   "cell_type": "markdown",
   "id": "2b8d6d8d-89ec-434e-a1c5-10c0962b156f",
   "metadata": {},
   "source": [
    "### 2. if-else:"
   ]
  },
  {
   "cell_type": "code",
   "execution_count": 6,
   "id": "e6d410ef-467d-480b-81a9-86601a63cd0b",
   "metadata": {},
   "outputs": [
    {
     "name": "stdin",
     "output_type": "stream",
     "text": [
      "Enter the income:  700000\n"
     ]
    },
    {
     "name": "stdout",
     "output_type": "stream",
     "text": [
      "This income is taxable.\n"
     ]
    }
   ],
   "source": [
    "income = float(input(\"Enter the income: \"))\n",
    "tax_income_cutoff = 500000.00\n",
    "\n",
    "if income >= tax_income_cutoff:\n",
    "    print(\"This income is taxable.\")\n",
    "else:\n",
    "    print(\"This income is not taxable.\")"
   ]
  },
  {
   "cell_type": "markdown",
   "id": "d4c4c802-bfdc-490c-8d16-dc2249042a87",
   "metadata": {},
   "source": [
    "### 3. elif:"
   ]
  },
  {
   "cell_type": "code",
   "execution_count": 13,
   "id": "bc72c0d3-5e73-4d25-b6e6-9d9f2a76e9fb",
   "metadata": {},
   "outputs": [
    {
     "name": "stdin",
     "output_type": "stream",
     "text": [
      "Enter user name:  \n",
      "Enter password:  vvv\n"
     ]
    },
    {
     "name": "stdout",
     "output_type": "stream",
     "text": [
      "Login is failed.\n"
     ]
    }
   ],
   "source": [
    "username = input(\"Enter user name: \") # Madhu\n",
    "password = input(\"Enter password: \") # M143\n",
    "\n",
    "if username == \"Madhu\" and password == \"M143\":\n",
    "    print(\"The login is success.\")\n",
    "elif username != \"Madhu\" and password != \"M143\":\n",
    "    print(\"Login is failed.\")\n",
    "elif username != \"Madhu\":\n",
    "    print(\"Go to find user name page.\")\n",
    "elif password != \"M143\":\n",
    "    print(\"Go to reset password page.\")\n"
   ]
  },
  {
   "cell_type": "code",
   "execution_count": null,
   "id": "ab3abd0c-962f-4683-b3b2-41a3d6c43e8a",
   "metadata": {},
   "outputs": [],
   "source": []
  },
  {
   "cell_type": "code",
   "execution_count": 12,
   "id": "09f9d020-be56-4472-9549-d4e0841e58e4",
   "metadata": {},
   "outputs": [
    {
     "name": "stdin",
     "output_type": "stream",
     "text": [
      "Enter user name:  \n",
      "Enter password:  VVV\n"
     ]
    }
   ],
   "source": [
    "username = input(\"Enter user name: \") # Madhu\n",
    "password = input(\"Enter password: \") # M143\n",
    "\n",
    "if username and password:\n",
    "    if username == \"Madhu\" and password == \"M143\":\n",
    "        print(\"The login is success.\")\n",
    "    elif username != \"Madhu\" and password != \"M143\":\n",
    "        print(\"Login is failed.\")\n",
    "    elif username != \"Madhu\":\n",
    "        print(\"Go to find user name page.\")\n",
    "    elif password != \"M143\":\n",
    "        print(\"Go to reset password page.\")"
   ]
  },
  {
   "cell_type": "code",
   "execution_count": 17,
   "id": "fc13d542-058e-430c-993b-d069bb16aa4b",
   "metadata": {},
   "outputs": [
    {
     "name": "stdin",
     "output_type": "stream",
     "text": [
      "Enter user name:  \n",
      "Enter password:  123\n"
     ]
    },
    {
     "name": "stdout",
     "output_type": "stream",
     "text": [
      "Please provoide username.\n"
     ]
    }
   ],
   "source": [
    "username = input(\"Enter user name: \") # Madhu\n",
    "password = input(\"Enter password: \") # M143\n",
    "\n",
    "if username and password:\n",
    "    if username == \"Madhu\" and password == \"M143\":\n",
    "        print(\"The login is success.\")\n",
    "    elif username != \"Madhu\" and password != \"M143\":\n",
    "        print(\"Login is failed.\")\n",
    "    elif username != \"Madhu\":\n",
    "        print(\"Go to find user name page.\")\n",
    "    elif password != \"M143\":\n",
    "        print(\"Go to reset password page.\")\n",
    "else:\n",
    "    if username:\n",
    "        print(\"Please provoide password.\")\n",
    "    elif password:\n",
    "        print(\"Please provoide username.\")\n",
    "    else:\n",
    "        print(\"Please provoide username and  password data.\")"
   ]
  },
  {
   "cell_type": "code",
   "execution_count": null,
   "id": "451b62b0-3ebc-40de-9d74-0e212b6e7e06",
   "metadata": {},
   "outputs": [],
   "source": [
    "username = input(\"Enter user name: \") # Madhu\n",
    "password = input(\"Enter password: \") # M143\n",
    "\n",
    "if username and password:\n",
    "    if username == \"Madhu\" and password == \"M143\":\n",
    "        print(\"The login is success.\")\n",
    "    elif username != \"Madhu\" and password != \"M143\":\n",
    "        print(\"Login is failed.\")\n",
    "    elif username != \"Madhu\":\n",
    "        print(\"Go to find user name page.\")\n",
    "    else:\n",
    "        print(\"Go to reset password page.\")\n",
    "else:\n",
    "    if username:\n",
    "        print(\"Please provoide password.\")\n",
    "    elif password:\n",
    "        print(\"Please provoide username.\")\n",
    "    else:\n",
    "        print(\"Please provoide username and  password data.\")"
   ]
  },
  {
   "cell_type": "code",
   "execution_count": 21,
   "id": "d52dd951-538e-4d6a-bf20-6b0c0eef1c6c",
   "metadata": {},
   "outputs": [
    {
     "name": "stdin",
     "output_type": "stream",
     "text": [
      "Enter user name:  Madhu\n",
      "Enter password:  123\n"
     ]
    },
    {
     "name": "stdout",
     "output_type": "stream",
     "text": [
      "Go to reset password page.\n"
     ]
    }
   ],
   "source": [
    "\n",
    "username, password = input(\"Enter user name: \") , input(\"Enter password: \") # Madhu # M143\n",
    "\n",
    "print(\"The login is success.\") if username == \"Madhu\" and password == \"M143\" else print(\"Login is failed.\") if username != \"Madhu\" and password != \"M143\"\\\n",
    "else print(\"Go to find user name page.\") if username != \"Madhu\" else print(\"Go to reset password page.\")\n"
   ]
  },
  {
   "cell_type": "code",
   "execution_count": null,
   "id": "75c05e89-55d8-469d-b0e8-14cf4df40b9f",
   "metadata": {},
   "outputs": [],
   "source": []
  }
 ],
 "metadata": {
  "kernelspec": {
   "display_name": "Python 3 (ipykernel)",
   "language": "python",
   "name": "python3"
  },
  "language_info": {
   "codemirror_mode": {
    "name": "ipython",
    "version": 3
   },
   "file_extension": ".py",
   "mimetype": "text/x-python",
   "name": "python",
   "nbconvert_exporter": "python",
   "pygments_lexer": "ipython3",
   "version": "3.11.7"
  }
 },
 "nbformat": 4,
 "nbformat_minor": 5
}
