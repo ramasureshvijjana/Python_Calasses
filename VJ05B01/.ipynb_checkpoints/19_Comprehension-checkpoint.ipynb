{
 "cells": [
  {
   "cell_type": "markdown",
   "id": "ce2b7cfc-3546-4c3e-a1fa-6ab88aa54816",
   "metadata": {},
   "source": [
    "# Comprehension"
   ]
  },
  {
   "cell_type": "code",
   "execution_count": 1,
   "id": "5c2cb2c7-6ec1-46db-8ea4-760181109649",
   "metadata": {},
   "outputs": [
    {
     "name": "stdout",
     "output_type": "stream",
     "text": [
      "[22, 72, 36, 58, 80, 11]\n"
     ]
    }
   ],
   "source": [
    "product_price = [20, 70, 34, 56, 78, 9] # Tax is : 2\n",
    "\n",
    "product_price_with_tax = []\n",
    "for cost in product_price:\n",
    "    product_price_with_tax.append(cost + 2)\n",
    "\n",
    "print(product_price_with_tax)\n"
   ]
  },
  {
   "cell_type": "code",
   "execution_count": 2,
   "id": "d94f2eaa-7f22-4add-8aa4-07bda22518f4",
   "metadata": {},
   "outputs": [
    {
     "name": "stdout",
     "output_type": "stream",
     "text": [
      "[22, 72, 36, 58, 80, 11]\n"
     ]
    }
   ],
   "source": [
    "product_price_with_tax = [cost + 2 for cost in product_price]\n",
    "print(product_price_with_tax)"
   ]
  },
  {
   "cell_type": "code",
   "execution_count": 3,
   "id": "47c20c4a-64e3-4d4a-85ef-be657c1c5720",
   "metadata": {},
   "outputs": [
    {
     "name": "stdout",
     "output_type": "stream",
     "text": [
      "[20, 70, 34, 56, 78]\n"
     ]
    }
   ],
   "source": [
    "product_price = [20, 70, 34, 56, 78, 9]\n",
    "\n",
    "product_even_price = []\n",
    "for cost in product_price:\n",
    "    if cost % 2 == 0:\n",
    "        product_even_price.append(cost)\n",
    "\n",
    "\n",
    "print(product_even_price)"
   ]
  },
  {
   "cell_type": "code",
   "execution_count": 4,
   "id": "410157a0-8812-4f6c-a921-06db5da428d9",
   "metadata": {},
   "outputs": [
    {
     "name": "stdout",
     "output_type": "stream",
     "text": [
      "[20, 70, 34, 56, 78]\n"
     ]
    }
   ],
   "source": [
    "product_price = [20, 70, 34, 56, 78, 9]\n",
    "\n",
    "product_even_price = [cost for cost in product_price if cost % 2 == 0]\n",
    "\n",
    "\n",
    "print(product_even_price)"
   ]
  },
  {
   "cell_type": "code",
   "execution_count": 5,
   "id": "872c56d5-5711-4666-a6e4-d7af1732d14b",
   "metadata": {},
   "outputs": [
    {
     "name": "stdout",
     "output_type": "stream",
     "text": [
      "[21, 71, 35, 57, 79, 9]\n"
     ]
    }
   ],
   "source": [
    "product_price = [20, 70, 34, 56, 78, 9]\n",
    "\n",
    "converted_odd_prices = []\n",
    "for cost in product_price:\n",
    "    if cost % 2 == 0:\n",
    "        converted_odd_prices.append(cost+1)\n",
    "    else:\n",
    "        converted_odd_prices.append(cost)\n",
    "\n",
    "\n",
    "print(converted_odd_prices)"
   ]
  },
  {
   "cell_type": "code",
   "execution_count": 9,
   "id": "9372ec8e-18b4-48bf-8b8b-c18651893238",
   "metadata": {},
   "outputs": [
    {
     "name": "stdout",
     "output_type": "stream",
     "text": [
      "[21, 71, 35, 57, 79, 9]\n"
     ]
    }
   ],
   "source": [
    "product_price = [20, 70, 34, 56, 78, 9]\n",
    "\n",
    "converted_odd_prices = [cost+1 if cost % 2 == 0 else cost for cost in product_price]\n",
    "\n",
    "print(converted_odd_prices)"
   ]
  },
  {
   "cell_type": "code",
   "execution_count": 10,
   "id": "901eb693-4f88-49b2-a874-6c17c756e8ca",
   "metadata": {},
   "outputs": [
    {
     "name": "stdout",
     "output_type": "stream",
     "text": [
      "(21, 71, 35, 57, 79, 9)\n"
     ]
    }
   ],
   "source": [
    "product_price = [20, 70, 34, 56, 78, 9]\n",
    "\n",
    "converted_odd_prices = (cost+1 if cost % 2 == 0 else cost for cost in product_price)\n",
    "\n",
    "print(tuple(converted_odd_prices))"
   ]
  },
  {
   "cell_type": "code",
   "execution_count": 11,
   "id": "b49892e5-93a7-497a-a305-67f6a3029a26",
   "metadata": {},
   "outputs": [
    {
     "name": "stdout",
     "output_type": "stream",
     "text": [
      "{35, 71, 9, 79, 21, 57}\n"
     ]
    }
   ],
   "source": [
    "product_price = [20, 70, 34, 56, 78, 9]\n",
    "\n",
    "converted_odd_prices = {cost+1 if cost % 2 == 0 else cost for cost in product_price}\n",
    "\n",
    "print(converted_odd_prices)"
   ]
  },
  {
   "cell_type": "code",
   "execution_count": 12,
   "id": "21ac711e-ca5a-4cda-8636-a5af62aa2f6f",
   "metadata": {},
   "outputs": [
    {
     "name": "stdout",
     "output_type": "stream",
     "text": [
      "{'product_20': 21, 'product_70': 71, 'product_34': 35, 'product_56': 57, 'product_78': 79, 'product_9': 9}\n"
     ]
    }
   ],
   "source": [
    "product_price = [20, 70, 34, 56, 78, 9]\n",
    "\n",
    "converted_odd_prices = {f\"product_{cost}\" : cost+1 if cost % 2 == 0 else cost for cost in product_price}\n",
    "\n",
    "print(converted_odd_prices)"
   ]
  },
  {
   "cell_type": "code",
   "execution_count": null,
   "id": "b306e867-08d1-4f15-b047-f33344345c4c",
   "metadata": {},
   "outputs": [],
   "source": []
  }
 ],
 "metadata": {
  "kernelspec": {
   "display_name": "Python 3 (ipykernel)",
   "language": "python",
   "name": "python3"
  },
  "language_info": {
   "codemirror_mode": {
    "name": "ipython",
    "version": 3
   },
   "file_extension": ".py",
   "mimetype": "text/x-python",
   "name": "python",
   "nbconvert_exporter": "python",
   "pygments_lexer": "ipython3",
   "version": "3.11.7"
  }
 },
 "nbformat": 4,
 "nbformat_minor": 5
}
