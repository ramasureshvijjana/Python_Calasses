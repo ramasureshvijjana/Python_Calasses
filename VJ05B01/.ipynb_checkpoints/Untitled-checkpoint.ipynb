{
 "cells": [
  {
   "cell_type": "markdown",
   "id": "d5f18608-5776-40f5-bc18-12213bc1b657",
   "metadata": {},
   "source": [
    "# For loop"
   ]
  },
  {
   "cell_type": "code",
   "execution_count": 6,
   "id": "c0d038bd-b07c-4ad7-9fb8-25b5b1032856",
   "metadata": {},
   "outputs": [
    {
     "name": "stdout",
     "output_type": "stream",
     "text": [
      "{34, 99, 66, 25, 78}\n",
      "34\n",
      "99\n",
      "66\n",
      "25\n",
      "78\n"
     ]
    }
   ],
   "source": [
    "marks = {25, 34, 78, 99, 25, 66}\n",
    "print(marks)\n",
    "for mark_value in marks:\n",
    "    print(mark_value)"
   ]
  },
  {
   "cell_type": "code",
   "execution_count": 10,
   "id": "cb0d5a8a-a497-463d-9bda-feb17318ed99",
   "metadata": {},
   "outputs": [
    {
     "name": "stdout",
     "output_type": "stream",
     "text": [
      "34\n",
      "99\n",
      "66\n"
     ]
    },
    {
     "ename": "ValueError",
     "evalue": "66 breaks the loop",
     "output_type": "error",
     "traceback": [
      "\u001b[1;31m---------------------------------------------------------------------------\u001b[0m",
      "\u001b[1;31mValueError\u001b[0m                                Traceback (most recent call last)",
      "Cell \u001b[1;32mIn[10], line 6\u001b[0m\n\u001b[0;32m      4\u001b[0m     \u001b[38;5;28mprint\u001b[39m(mark_value)\n\u001b[0;32m      5\u001b[0m     \u001b[38;5;28;01mif\u001b[39;00m mark_value \u001b[38;5;241m==\u001b[39m \u001b[38;5;241m66\u001b[39m:\n\u001b[1;32m----> 6\u001b[0m         \u001b[38;5;28;01mraise\u001b[39;00m \u001b[38;5;167;01mValueError\u001b[39;00m(\u001b[38;5;124m\"\u001b[39m\u001b[38;5;124m66 breaks the loop\u001b[39m\u001b[38;5;124m\"\u001b[39m)\n\u001b[0;32m      7\u001b[0m \u001b[38;5;28;01melse\u001b[39;00m:\n\u001b[0;32m      8\u001b[0m     \u001b[38;5;28mprint\u001b[39m(\u001b[38;5;124m\"\u001b[39m\u001b[38;5;124mFor ended\u001b[39m\u001b[38;5;124m\"\u001b[39m)\n",
      "\u001b[1;31mValueError\u001b[0m: 66 breaks the loop"
     ]
    }
   ],
   "source": [
    "marks = {25, 34, 78, 99, 25, 66}\n",
    "\n",
    "for mark_value in marks:\n",
    "    print(mark_value)\n",
    "    if mark_value == 66:\n",
    "        raise ValueError(\"66 breaks the loop\")\n",
    "else:\n",
    "    print(\"For ended\")"
   ]
  },
  {
   "cell_type": "code",
   "execution_count": 11,
   "id": "577fbb10-e7c0-4c57-adb9-7ad0967f322a",
   "metadata": {},
   "outputs": [
    {
     "name": "stdout",
     "output_type": "stream",
     "text": [
      "25\n",
      "34\n",
      "78\n",
      "99\n",
      "25\n",
      "66\n",
      "For ended\n"
     ]
    }
   ],
   "source": [
    "marks = [25, 34, 78, 99, 25, 66]\n",
    "\n",
    "for mark_value in marks:\n",
    "    print(mark_value)\n",
    "else:\n",
    "    print(\"For ended\")"
   ]
  },
  {
   "cell_type": "code",
   "execution_count": 12,
   "id": "66fca438-5847-470d-88e1-9912f1c2aec1",
   "metadata": {},
   "outputs": [
    {
     "name": "stdout",
     "output_type": "stream",
     "text": [
      "25\n",
      "34\n",
      "78\n",
      "99\n",
      "25\n",
      "66\n",
      "For ended\n"
     ]
    }
   ],
   "source": [
    "marks = (25, 34, 78, 99, 25, 66)\n",
    "\n",
    "for mark_value in marks:\n",
    "    print(mark_value)\n",
    "else:\n",
    "    print(\"For ended\")"
   ]
  },
  {
   "cell_type": "code",
   "execution_count": 13,
   "id": "ca8e4695-ca6c-4ead-ad85-6ce079ba3478",
   "metadata": {},
   "outputs": [
    {
     "name": "stdout",
     "output_type": "stream",
     "text": [
      "age\n",
      "name\n",
      "sal\n",
      "For ended\n"
     ]
    }
   ],
   "source": [
    "person_details = {\"age\": 25, \"name\": \"VJ\", \"sal\": 1000000}\n",
    "\n",
    "for person in person_details:\n",
    "    print(person)\n",
    "else:\n",
    "    print(\"For ended\")"
   ]
  },
  {
   "cell_type": "code",
   "execution_count": 14,
   "id": "030bf755-5c93-4b64-84b1-5d41c83f4175",
   "metadata": {},
   "outputs": [
    {
     "name": "stdout",
     "output_type": "stream",
     "text": [
      "25\n",
      "VJ\n",
      "1000000\n",
      "For ended\n"
     ]
    }
   ],
   "source": [
    "person_details = {\"age\": 25, \"name\": \"VJ\", \"sal\": 1000000}\n",
    "\n",
    "for person in person_details.values():\n",
    "    print(person)\n",
    "else:\n",
    "    print(\"For ended\")"
   ]
  },
  {
   "cell_type": "code",
   "execution_count": 15,
   "id": "f28d3f3e-86e6-4d98-9866-98afb49de18f",
   "metadata": {},
   "outputs": [
    {
     "name": "stdout",
     "output_type": "stream",
     "text": [
      "The key is: age and value is 25\n",
      "The key is: name and value is VJ\n",
      "The key is: sal and value is 1000000\n",
      "For ended\n"
     ]
    }
   ],
   "source": [
    "person_details = {\"age\": 25, \"name\": \"VJ\", \"sal\": 1000000}\n",
    "\n",
    "for key, value  in person_details.items():\n",
    "    print(f\"The key is: {key} and value is {value}\")\n",
    "else:\n",
    "    print(\"For ended\")"
   ]
  },
  {
   "cell_type": "code",
   "execution_count": 19,
   "id": "bd52c098-8123-4132-b2a2-d3ddeb6c07d6",
   "metadata": {},
   "outputs": [
    {
     "name": "stdout",
     "output_type": "stream",
     "text": [
      "0\n",
      "1\n",
      "2\n",
      "3\n",
      "4\n",
      "5\n",
      "6\n",
      "7\n",
      "8\n",
      "9\n",
      "For ended\n"
     ]
    }
   ],
   "source": [
    "for num in range(0, 10):\n",
    "    print(num)\n",
    "else:\n",
    "    print(\"For ended\")"
   ]
  },
  {
   "cell_type": "code",
   "execution_count": 21,
   "id": "6c24ca89-f2f0-4081-a0fd-bb3d077693d1",
   "metadata": {},
   "outputs": [
    {
     "name": "stdout",
     "output_type": "stream",
     "text": [
      "0\n",
      "2\n",
      "4\n",
      "6\n",
      "8\n",
      "For ended\n"
     ]
    }
   ],
   "source": [
    "for num in range(0, 10, 2):\n",
    "    print(num)\n",
    "else:\n",
    "    print(\"For ended\")"
   ]
  },
  {
   "cell_type": "code",
   "execution_count": 22,
   "id": "26af3836-f326-4ed6-a733-84314def6b95",
   "metadata": {},
   "outputs": [
    {
     "name": "stdout",
     "output_type": "stream",
     "text": [
      "0\n",
      "3\n",
      "6\n",
      "9\n",
      "For ended\n"
     ]
    }
   ],
   "source": [
    "for num in range(0, 10, 3):\n",
    "    print(num)\n",
    "else:\n",
    "    print(\"For ended\")"
   ]
  },
  {
   "cell_type": "code",
   "execution_count": 24,
   "id": "f84a9d73-b599-40f7-832a-2ffeb25834c4",
   "metadata": {},
   "outputs": [
    {
     "name": "stdout",
     "output_type": "stream",
     "text": [
      "k\n",
      "i\n",
      "r\n",
      "a\n",
      "n\n",
      " \n",
      "s\n",
      "u\n",
      "r\n",
      "e\n",
      "s\n",
      "h\n",
      " \n",
      "m\n",
      "a\n",
      "d\n",
      "h\n",
      "u\n",
      " \n",
      "p\n",
      "r\n",
      "i\n",
      "y\n",
      "a\n",
      "For ended\n"
     ]
    }
   ],
   "source": [
    "for char_of_names in \"kiran suresh madhu priya\":\n",
    "    print(char_of_names)\n",
    "else:\n",
    "    print(\"For ended\")"
   ]
  },
  {
   "cell_type": "code",
   "execution_count": 26,
   "id": "2f1d709f-e762-41ae-8a15-1627c0f14d1d",
   "metadata": {},
   "outputs": [
    {
     "name": "stdout",
     "output_type": "stream",
     "text": [
      "kiran\n",
      "suresh\n",
      "madhu\n",
      "priya"
     ]
    }
   ],
   "source": [
    "input = \"kiran suresh madhu priya\"\n",
    "# Output :\n",
    "# kiran \n",
    "# suresh \n",
    "# madhu \n",
    "# priya\n",
    "\n",
    "for char_of_names in \"kiran suresh madhu priya\":\n",
    "    if char_of_names != \" \": \n",
    "        print(char_of_names, end=\"\")\n",
    "    else:\n",
    "        print()"
   ]
  },
  {
   "cell_type": "code",
   "execution_count": 29,
   "id": "2d6e0751-7390-4e51-a913-b22783dab14a",
   "metadata": {},
   "outputs": [
    {
     "name": "stdout",
     "output_type": "stream",
     "text": [
      "kiran \n",
      "suresh \n",
      "madhu \n",
      "priya"
     ]
    }
   ],
   "source": [
    "input = \"kiran suresh madhu priya\"\n",
    "# Output :\n",
    "# kiran \n",
    "# suresh \n",
    "# madhu \n",
    "# priya\n",
    "\n",
    "for char_of_names in input:\n",
    "    if char_of_names == \" \":\n",
    "        # code\n",
    "        print(\" \")\n",
    "    else:\n",
    "        # code\n",
    "        print(char_of_names, end=\"\")"
   ]
  },
  {
   "cell_type": "code",
   "execution_count": 31,
   "id": "3f797feb-b059-4d39-a1ad-4acec99116f7",
   "metadata": {},
   "outputs": [
    {
     "name": "stdout",
     "output_type": "stream",
     "text": [
      "kiran\n",
      "suresh\n",
      "madhu\n",
      "priya"
     ]
    }
   ],
   "source": [
    "input = \"kiran suresh madhu priya\"\n",
    "# Output :\n",
    "# kiran \n",
    "# suresh \n",
    "# madhu \n",
    "# priya\n",
    "\n",
    "for char_of_names in input:\n",
    "    if char_of_names == \" \": print()\n",
    "    else: print(char_of_names, end=\"\")"
   ]
  },
  {
   "cell_type": "code",
   "execution_count": 35,
   "id": "47006f0b-3e3d-47a0-acdb-7bcfc4d39144",
   "metadata": {},
   "outputs": [
    {
     "name": "stdout",
     "output_type": "stream",
     "text": [
      "<class 'str'> kiran suresh madhu priya\n",
      "<class 'list'> ['k', 'i', 'r', 'a', 'n', ' ', 's', 'u', 'r', 'e', 's', 'h', ' ', 'm', 'a', 'd', 'h', 'u', ' ', 'p', 'r', 'i', 'y', 'a']\n"
     ]
    },
    {
     "data": {
      "text/plain": [
       "['kiran', 'suresh', 'madhu', 'priya']"
      ]
     },
     "execution_count": 35,
     "metadata": {},
     "output_type": "execute_result"
    }
   ],
   "source": [
    "input = \"kiran suresh madhu priya\"\n",
    "print(type(input), input)\n",
    "list_input = list(input)\n",
    "print(type(list_input), list_input)\n",
    "\n",
    "input = \"kiran ,suresh ,madhu ,priya\"\n",
    "names = input.split(\" ,\")\n",
    "names"
   ]
  },
  {
   "cell_type": "code",
   "execution_count": 37,
   "id": "e4007268-23e8-403b-b73f-e8b11f9b2ad9",
   "metadata": {},
   "outputs": [
    {
     "name": "stdout",
     "output_type": "stream",
     "text": [
      "0 4\n",
      "1 2\n",
      "2 6\n",
      "3 8\n"
     ]
    }
   ],
   "source": [
    "num_list = [4,2,6,8] # [(0, 2), (1, 3)]\n",
    "target = 10\n",
    "\n",
    "final\n",
    "for idx, val in enumerate(num_list):\n",
    "    print(idx, val)"
   ]
  },
  {
   "cell_type": "code",
   "execution_count": 60,
   "id": "14124c68-2ea3-44f1-97fd-f2da2432a8f6",
   "metadata": {},
   "outputs": [
    {
     "name": "stdout",
     "output_type": "stream",
     "text": [
      "0 2\n",
      "1 3\n"
     ]
    }
   ],
   "source": [
    "num_list = [4,2,6,8] # [(0, 2), (1, 3)]\n",
    "target = 10\n",
    "\n",
    "for i in range(0, len(num_list)):\n",
    "    for j in range(i+1,len(num_list)):\n",
    "        if(num_list[i]+num_list[j]==target):\n",
    "            print(i,j)"
   ]
  },
  {
   "cell_type": "code",
   "execution_count": 55,
   "id": "5ab73e39-f366-4457-855b-8fb8970e0979",
   "metadata": {},
   "outputs": [
    {
     "name": "stdout",
     "output_type": "stream",
     "text": [
      "[(0, 2), (1, 3)]\n"
     ]
    }
   ],
   "source": [
    "num_list = [4,2,6,8] # [(0, 2), (1, 3)]\n",
    "target = 10\n",
    "\n",
    "output = []\n",
    "for idx,value_1 in enumerate(num_list):\n",
    "    for idx1,value_2 in enumerate(num_list):\n",
    "      if value_1+value_2==10:\n",
    "          idx_tp = (idx,idx1)\n",
    "          output.append(tuple(sorted(idx_tp)))\n",
    "print(list(set(output)))"
   ]
  },
  {
   "cell_type": "code",
   "execution_count": 64,
   "id": "53589bdf-4cbf-443d-98cb-d603ea61c539",
   "metadata": {},
   "outputs": [
    {
     "name": "stdout",
     "output_type": "stream",
     "text": [
      "[(0, 2), (1, 3)]\n"
     ]
    }
   ],
   "source": [
    "num_list = [4,2,6,8] # [(0, 2), (1, 3)]\n",
    "target = 10\n",
    "\n",
    "print([(i, j) for i in range(0, len(num_list)) for j in range(i+1,len(num_list)) if num_list[i] + num_list[j] == target])"
   ]
  },
  {
   "cell_type": "code",
   "execution_count": null,
   "id": "014d87e9-6d6d-42a2-8433-e9a2ec443995",
   "metadata": {},
   "outputs": [],
   "source": [
    "################# Way-1 #########################\n",
    "# class Solution:\n",
    "#     def twoSum(self, nums: List[int], target: int) -> List[int]:\n",
    "#         collections_list = list()\n",
    "#         for f_idx, f_val in enumerate(nums):\n",
    "#             collections_list.extend([(f_idx, l_idx) for l_idx, l_val in enumerate(nums) \\\n",
    "#                 if  f_idx != l_idx and f_val + l_val == target])\n",
    "#         print(collections_list)\n",
    "#         return collections_list[0]\n",
    "\n",
    "################## Way-2 #########################\n",
    "\n",
    "class Solution:\n",
    "    def twoSum(self, nums: List[int], target: int) -> List[int]:\n",
    "        return [(f_idx, l_idx)  for f_idx, f_val in enumerate(nums) \\\n",
    "        for l_idx in range(f_idx+1, len(nums))\\\n",
    "            if f_val + nums[l_idx] == target] [0]\n",
    "        "
   ]
  },
  {
   "cell_type": "code",
   "execution_count": null,
   "id": "ec190791-eb48-458e-a360-8197aecf329b",
   "metadata": {},
   "outputs": [],
   "source": []
  }
 ],
 "metadata": {
  "kernelspec": {
   "display_name": "Python 3 (ipykernel)",
   "language": "python",
   "name": "python3"
  },
  "language_info": {
   "codemirror_mode": {
    "name": "ipython",
    "version": 3
   },
   "file_extension": ".py",
   "mimetype": "text/x-python",
   "name": "python",
   "nbconvert_exporter": "python",
   "pygments_lexer": "ipython3",
   "version": "3.11.7"
  }
 },
 "nbformat": 4,
 "nbformat_minor": 5
}
