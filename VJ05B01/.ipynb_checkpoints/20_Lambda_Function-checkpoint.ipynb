{
 "cells": [
  {
   "cell_type": "markdown",
   "id": "b9907a8e-ea62-4820-892c-b86c3957112b",
   "metadata": {},
   "source": [
    "# Lambda Function"
   ]
  },
  {
   "cell_type": "code",
   "execution_count": 2,
   "id": "f404ee78-210f-41dc-b4a2-dd6a1686156d",
   "metadata": {},
   "outputs": [
    {
     "name": "stdout",
     "output_type": "stream",
     "text": [
      "16\n"
     ]
    }
   ],
   "source": [
    "# Squaring a number\n",
    "squere = lambda a : a ** 2\n",
    "\n",
    "print(squere(4)) # Prints 16\n"
   ]
  },
  {
   "cell_type": "code",
   "execution_count": 3,
   "id": "8833cdb3-1b15-49fb-9783-284003354075",
   "metadata": {},
   "outputs": [
    {
     "name": "stdout",
     "output_type": "stream",
     "text": [
      "10\n"
     ]
    }
   ],
   "source": [
    "# Squaring a number\n",
    "add_vals = lambda a, b : a + b\n",
    "\n",
    "print(add_vals(4, 6)) # Prints 16\n"
   ]
  },
  {
   "cell_type": "code",
   "execution_count": 6,
   "id": "929a6eb3-9749-4c9f-99f8-0b95d42fa335",
   "metadata": {},
   "outputs": [
    {
     "name": "stdout",
     "output_type": "stream",
     "text": [
      "0\n"
     ]
    }
   ],
   "source": [
    "# Squaring a number\n",
    "add_vals = lambda a, b : a + b if a % 2 == 0 else 0\n",
    "\n",
    "print(add_vals(1, 6)) # Prints 16"
   ]
  },
  {
   "cell_type": "code",
   "execution_count": 7,
   "id": "edddb6d5-735a-4254-a12d-1538c5bc20fd",
   "metadata": {},
   "outputs": [
    {
     "ename": "SyntaxError",
     "evalue": "expected 'else' after 'if' expression (2978427703.py, line 2)",
     "output_type": "error",
     "traceback": [
      "\u001b[1;36m  Cell \u001b[1;32mIn[7], line 2\u001b[1;36m\u001b[0m\n\u001b[1;33m    add_vals = lambda a, b : a + b if a % 2 == 0\u001b[0m\n\u001b[1;37m                             ^\u001b[0m\n\u001b[1;31mSyntaxError\u001b[0m\u001b[1;31m:\u001b[0m expected 'else' after 'if' expression\n"
     ]
    }
   ],
   "source": [
    "# Squaring a number\n",
    "add_vals = lambda a, b : a + b if a % 2 == 0\n",
    "\n",
    "print(add_vals(1, 6)) # Prints 16"
   ]
  },
  {
   "cell_type": "code",
   "execution_count": 13,
   "id": "40cc3c09-8ac7-49fa-9fb4-194298085f7a",
   "metadata": {},
   "outputs": [
    {
     "name": "stdout",
     "output_type": "stream",
     "text": [
      "22\n",
      "33\n",
      "51\n"
     ]
    }
   ],
   "source": [
    "# Creating a multiplier function.\n",
    "def multiplier(n):\n",
    "    return lambda a : a * n # lambda a : a * 2\n",
    "\n",
    "# lambda function to here.\n",
    "doubler = multiplier(2) # lambda a : a * 2 # call 100 times \n",
    "power_3 = multiplier(3) # lambda a : a * 3 # call 100 times\n",
    "\n",
    "print(doubler(11)) # Prints a * n value.\n",
    "print(power_3(11))\n",
    "print(power_3(17))\n"
   ]
  },
  {
   "cell_type": "code",
   "execution_count": 11,
   "id": "745af319-1d85-448c-8dc3-8027f0c2eda1",
   "metadata": {},
   "outputs": [],
   "source": [
    "def name(peram_1, perm_2):\n",
    "    # code --> function body\n",
    "    pass"
   ]
  },
  {
   "cell_type": "code",
   "execution_count": 14,
   "id": "3f71e5bf-7c3d-4255-a52e-27074ae3bd72",
   "metadata": {},
   "outputs": [
    {
     "name": "stdout",
     "output_type": "stream",
     "text": [
      "22\n",
      "33\n",
      "51\n"
     ]
    }
   ],
   "source": [
    "\n",
    "x = lambda a, n : a * n # lambda a : a * 2\n",
    "\n",
    "\n",
    "print(x(11, 2)) # Prints a * n value.\n",
    "print(x(11, 3))\n",
    "print(x(17, 3))"
   ]
  },
  {
   "cell_type": "code",
   "execution_count": null,
   "id": "0ad0444a-d893-4e0d-8531-defcc2c3eba2",
   "metadata": {},
   "outputs": [],
   "source": []
  }
 ],
 "metadata": {
  "kernelspec": {
   "display_name": "Python 3 (ipykernel)",
   "language": "python",
   "name": "python3"
  },
  "language_info": {
   "codemirror_mode": {
    "name": "ipython",
    "version": 3
   },
   "file_extension": ".py",
   "mimetype": "text/x-python",
   "name": "python",
   "nbconvert_exporter": "python",
   "pygments_lexer": "ipython3",
   "version": "3.11.7"
  }
 },
 "nbformat": 4,
 "nbformat_minor": 5
}
