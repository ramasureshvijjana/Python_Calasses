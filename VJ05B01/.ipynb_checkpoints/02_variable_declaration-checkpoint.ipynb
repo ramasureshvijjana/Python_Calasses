{
 "cells": [
  {
   "cell_type": "markdown",
   "id": "4e765fb0-b639-4497-b0c8-1c4e76c45e1e",
   "metadata": {},
   "source": [
    "# Variable Declaration"
   ]
  },
  {
   "cell_type": "code",
   "execution_count": 7,
   "id": "1eb0536b-9087-4e93-929c-1f3de65416d6",
   "metadata": {},
   "outputs": [
    {
     "name": "stdout",
     "output_type": "stream",
     "text": [
      "140737230521416\n"
     ]
    }
   ],
   "source": [
    "rupees = 10\n",
    "print( id(rupees) )\n"
   ]
  },
  {
   "cell_type": "code",
   "execution_count": 3,
   "id": "b16dfcab-9439-44cb-accb-b0c096a15531",
   "metadata": {},
   "outputs": [
    {
     "name": "stdout",
     "output_type": "stream",
     "text": [
      "10\n"
     ]
    }
   ],
   "source": [
    "print(rupees)"
   ]
  },
  {
   "cell_type": "code",
   "execution_count": 8,
   "id": "b926a191-e53e-4ad2-bfd4-885a351a97b8",
   "metadata": {},
   "outputs": [
    {
     "name": "stdout",
     "output_type": "stream",
     "text": [
      "2443820634224\n",
      "Hyderabad\n"
     ]
    }
   ],
   "source": [
    "address = \"Hyderabad\"\n",
    "print( id(address) )\n",
    "print(address)"
   ]
  },
  {
   "cell_type": "code",
   "execution_count": 9,
   "id": "729b3e18-3f07-4d03-ab31-823bd155ce87",
   "metadata": {},
   "outputs": [
    {
     "name": "stdout",
     "output_type": "stream",
     "text": [
      "140737230521736 2443820642416\n",
      "20 VJ\n"
     ]
    }
   ],
   "source": [
    "rupees = 20\n",
    "name = \"VJ\"\n",
    "print( id(rupees), id(name))\n",
    "print(rupees, name)"
   ]
  },
  {
   "cell_type": "code",
   "execution_count": 13,
   "id": "42888b6a-408e-4bdc-b4a3-34f708085369",
   "metadata": {},
   "outputs": [
    {
     "name": "stdout",
     "output_type": "stream",
     "text": [
      "20\n"
     ]
    }
   ],
   "source": [
    "rupees = 20\n",
    "print(rupees)\n",
    "print(id(rupees))"
   ]
  },
  {
   "cell_type": "code",
   "execution_count": 14,
   "id": "8104d3b6-e5d1-4314-9e77-6d30183c632b",
   "metadata": {},
   "outputs": [
    {
     "name": "stdout",
     "output_type": "stream",
     "text": [
      "10\n"
     ]
    }
   ],
   "source": [
    "rupees = 20\n",
    "print(rupees)\n",
    "print(id(rupees))"
   ]
  },
  {
   "cell_type": "code",
   "execution_count": null,
   "id": "80309e54-8b46-4ddf-86aa-62d535435323",
   "metadata": {},
   "outputs": [],
   "source": []
  }
 ],
 "metadata": {
  "kernelspec": {
   "display_name": "Python 3 (ipykernel)",
   "language": "python",
   "name": "python3"
  },
  "language_info": {
   "codemirror_mode": {
    "name": "ipython",
    "version": 3
   },
   "file_extension": ".py",
   "mimetype": "text/x-python",
   "name": "python",
   "nbconvert_exporter": "python",
   "pygments_lexer": "ipython3",
   "version": "3.11.7"
  }
 },
 "nbformat": 4,
 "nbformat_minor": 5
}
