{
 "cells": [
  {
   "cell_type": "markdown",
   "id": "459529eb-e63c-4497-bb17-0318211c7d12",
   "metadata": {},
   "source": [
    "# Data Types"
   ]
  },
  {
   "cell_type": "markdown",
   "id": "b10f3972-3322-46b6-b6b9-bde735d58fc1",
   "metadata": {},
   "source": [
    "## Numarical Data Types"
   ]
  },
  {
   "cell_type": "markdown",
   "id": "dac687cd-65d4-4d2a-9d3a-679d644642cc",
   "metadata": {},
   "source": [
    "### 1. Int"
   ]
  },
  {
   "cell_type": "code",
   "execution_count": 5,
   "id": "0a18ee69-e972-4833-bdfd-d1ac838ff830",
   "metadata": {},
   "outputs": [
    {
     "name": "stdout",
     "output_type": "stream",
     "text": [
      "My age is 26\n",
      "<class 'int'>\n"
     ]
    }
   ],
   "source": [
    "age = 26\n",
    "\n",
    "# My age is 26\n",
    "\n",
    "#print(\"My age is\", age)\n",
    "print(f\"My age is {age}\")\n",
    "print(type(age))"
   ]
  },
  {
   "cell_type": "markdown",
   "id": "2ba2a7ba-3dfc-471f-b4fa-833aa8810562",
   "metadata": {},
   "source": [
    "### 2. Float"
   ]
  },
  {
   "cell_type": "code",
   "execution_count": 7,
   "id": "3fdd46bc-6736-4c10-9f65-f6086989f852",
   "metadata": {},
   "outputs": [
    {
     "name": "stdout",
     "output_type": "stream",
     "text": [
      "<class 'float'>\n"
     ]
    }
   ],
   "source": [
    "sal = 15000.34\n",
    "\n",
    "print(type(sal))"
   ]
  },
  {
   "cell_type": "markdown",
   "id": "c346ff90-5c46-4bbe-8fbe-d35919f278d6",
   "metadata": {},
   "source": [
    "### 3. Complex"
   ]
  },
  {
   "cell_type": "code",
   "execution_count": 8,
   "id": "5fa8d703-bb31-4959-a1c4-135b4212fe0f",
   "metadata": {},
   "outputs": [
    {
     "name": "stdout",
     "output_type": "stream",
     "text": [
      "(2+3j)\n",
      "<class 'complex'>\n"
     ]
    }
   ],
   "source": [
    "sales_grouth = 2+3j\n",
    "\n",
    "print(sales_grouth)\n",
    "print(type(sales_grouth))"
   ]
  },
  {
   "cell_type": "markdown",
   "id": "3567b87d-49c7-4cfa-92fb-56717633c731",
   "metadata": {},
   "source": [
    "## String Data Types"
   ]
  },
  {
   "cell_type": "code",
   "execution_count": 12,
   "id": "a3537271-b56c-4a07-bbc9-a8ed3108d061",
   "metadata": {},
   "outputs": [
    {
     "name": "stdout",
     "output_type": "stream",
     "text": [
      "This is Supriya -----> Data types of Supriya is <class 'str'> .\n",
      "This is Supriya -----> Data types of Supriya is <class 'str'>.\n"
     ]
    }
   ],
   "source": [
    "name = \"Supriya\"\n",
    "\n",
    "# This is Supriya -----> Data types of Supriya is Str.\n",
    "\n",
    "#print(\"This is\", name, \"-----> Data types of\", name,  \"is\", type(name), \".\")\n",
    "print(f\"This is {name} -----> Data types of {name} is {type(name)}.\")"
   ]
  },
  {
   "cell_type": "code",
   "execution_count": 33,
   "id": "77fba1f5-1ed7-4266-aa6a-44f229461e74",
   "metadata": {},
   "outputs": [
    {
     "name": "stdout",
     "output_type": "stream",
     "text": [
      "VJ\n",
      "Data Scientist\n",
      "Razole, Malikipuram\n",
      "This is VJ, Teaching python. \n",
      "<class 'str'>\n",
      "<class 'str'>\n",
      "<class 'str'>\n",
      "<class 'str'>\n"
     ]
    }
   ],
   "source": [
    "name = \"VJ\"\n",
    "job = 'Data Scientist'\n",
    "address = \"\"\"Razole, Malikipuram\"\"\"\n",
    "bio = '''This is VJ, Teaching python. '''\n",
    "\n",
    "print(name)\n",
    "print(job)\n",
    "print(address)\n",
    "print(bio)\n",
    "\n",
    "print(type(name))\n",
    "print(type(job))\n",
    "print(type(address))\n",
    "print(type(bio))"
   ]
  },
  {
   "cell_type": "markdown",
   "id": "c6b48599-b560-4d63-8f14-26e982b72705",
   "metadata": {},
   "source": [
    "## List"
   ]
  },
  {
   "cell_type": "code",
   "execution_count": 13,
   "id": "1d7b6455-a721-4567-afc1-63c3d3ceb371",
   "metadata": {},
   "outputs": [
    {
     "name": "stdout",
     "output_type": "stream",
     "text": [
      "[26, 21, 20, 26]\n",
      "<class 'list'>\n"
     ]
    }
   ],
   "source": [
    "students_ages = [26, 21, 20, 26]\n",
    "\n",
    "print(students_ages)\n",
    "print(type(students_ages))"
   ]
  },
  {
   "cell_type": "markdown",
   "id": "ca89cb9e-9d13-4577-be6d-6396c4809c60",
   "metadata": {},
   "source": [
    "## Tuple"
   ]
  },
  {
   "cell_type": "code",
   "execution_count": 34,
   "id": "03855f3a-8ce1-45e7-885b-9bb8169e82f6",
   "metadata": {},
   "outputs": [
    {
     "name": "stdout",
     "output_type": "stream",
     "text": [
      "(26, 21, 20, 26)\n",
      "<class 'tuple'>\n",
      "(26, 21, 20, 26)\n",
      "<class 'tuple'>\n"
     ]
    }
   ],
   "source": [
    "students_ages = (26, 21, 20, 26)\n",
    "students_ages_2 = 26, 21, 20, 26\n",
    "\n",
    "print(students_ages)\n",
    "print(type(students_ages))\n",
    "\n",
    "print(students_ages_2)\n",
    "print(type(students_ages_2))"
   ]
  },
  {
   "cell_type": "markdown",
   "id": "9bd3ed79-ff41-4d06-8924-53062e8b3a37",
   "metadata": {},
   "source": [
    "## Range"
   ]
  },
  {
   "cell_type": "code",
   "execution_count": 15,
   "id": "4fce4d1e-c3d8-4786-97cc-ac6246986767",
   "metadata": {},
   "outputs": [
    {
     "name": "stdout",
     "output_type": "stream",
     "text": [
      "range(20, 29)\n",
      "<class 'range'>\n"
     ]
    }
   ],
   "source": [
    "students_ages = range(20, 29)\n",
    "\n",
    "print(students_ages)\n",
    "print(type(students_ages))"
   ]
  },
  {
   "cell_type": "code",
   "execution_count": 16,
   "id": "bfa0d362-dd18-4c24-b8e0-56bf69b6491e",
   "metadata": {},
   "outputs": [
    {
     "name": "stdout",
     "output_type": "stream",
     "text": [
      "20\n",
      "21\n",
      "22\n",
      "23\n",
      "24\n",
      "25\n",
      "26\n",
      "27\n",
      "28\n"
     ]
    }
   ],
   "source": [
    "for age in students_ages:\n",
    "    print(age)"
   ]
  },
  {
   "cell_type": "code",
   "execution_count": 17,
   "id": "94d05b02-8bb0-45a7-b1ac-f208666da91b",
   "metadata": {},
   "outputs": [
    {
     "data": {
      "text/plain": [
       "range(22, 26)"
      ]
     },
     "execution_count": 17,
     "metadata": {},
     "output_type": "execute_result"
    }
   ],
   "source": [
    "students_ages[2:6]"
   ]
  },
  {
   "cell_type": "markdown",
   "id": "552bd182-0eb2-42c9-b47e-fe372133aace",
   "metadata": {},
   "source": [
    "## Dict"
   ]
  },
  {
   "cell_type": "code",
   "execution_count": 19,
   "id": "884fab7a-677c-49b2-87f2-1e7fbf6a8b4e",
   "metadata": {},
   "outputs": [
    {
     "name": "stdout",
     "output_type": "stream",
     "text": [
      "{'name': 'VJ', 'age': 26, 'job': 'Data Scientist'}\n",
      "<class 'dict'>\n"
     ]
    }
   ],
   "source": [
    "person = {'name': \"VJ\", 'age': 26, \"job\":\"Data Scientist\"}\n",
    "\n",
    "print(person)\n",
    "print(type(person))"
   ]
  },
  {
   "cell_type": "code",
   "execution_count": 22,
   "id": "6ba4a39e-c3b5-461e-9c35-128e47479df8",
   "metadata": {},
   "outputs": [
    {
     "data": {
      "text/plain": [
       "'Data Scientist'"
      ]
     },
     "execution_count": 22,
     "metadata": {},
     "output_type": "execute_result"
    }
   ],
   "source": [
    "person['job']"
   ]
  },
  {
   "cell_type": "markdown",
   "id": "5c145cca-58ad-4ba4-81fa-28dfa746b7b9",
   "metadata": {},
   "source": [
    "## Set"
   ]
  },
  {
   "cell_type": "code",
   "execution_count": 25,
   "id": "6c654275-f1d4-42f6-b69c-afebc12b06b1",
   "metadata": {},
   "outputs": [
    {
     "name": "stdout",
     "output_type": "stream",
     "text": [
      "{26, 20, 21}\n",
      "<class 'set'>\n"
     ]
    }
   ],
   "source": [
    "students_ages = {26, 21, 20, 26}\n",
    "\n",
    "print(students_ages)\n",
    "print(type(students_ages))"
   ]
  },
  {
   "cell_type": "markdown",
   "id": "215c9f68-56fe-4b43-ab1f-5991e14a5a54",
   "metadata": {},
   "source": [
    "## Bool"
   ]
  },
  {
   "cell_type": "code",
   "execution_count": 28,
   "id": "c1fed45b-581a-4c69-a0cb-91e2b9a8cde1",
   "metadata": {},
   "outputs": [
    {
     "name": "stdout",
     "output_type": "stream",
     "text": [
      "False\n",
      "<class 'bool'>\n"
     ]
    }
   ],
   "source": [
    "yes_or_no = False # True\n",
    "\n",
    "print(yes_or_no)\n",
    "print(type(yes_or_no))"
   ]
  },
  {
   "cell_type": "markdown",
   "id": "12de8ebb-f83f-4cd7-9a6d-39a5bdf84c01",
   "metadata": {},
   "source": [
    "## Null data type"
   ]
  },
  {
   "cell_type": "code",
   "execution_count": 30,
   "id": "cb0c53db-0d53-4800-9f48-5568f8d3a93c",
   "metadata": {},
   "outputs": [
    {
     "name": "stdout",
     "output_type": "stream",
     "text": [
      "None\n",
      "<class 'NoneType'>\n"
     ]
    }
   ],
   "source": [
    "no_data = None\n",
    "\n",
    "print(no_data)\n",
    "print(type(no_data))"
   ]
  },
  {
   "cell_type": "code",
   "execution_count": null,
   "id": "07ce6db7-6a29-44d1-adec-53c1c8ec9382",
   "metadata": {},
   "outputs": [],
   "source": []
  }
 ],
 "metadata": {
  "kernelspec": {
   "display_name": "Python 3 (ipykernel)",
   "language": "python",
   "name": "python3"
  },
  "language_info": {
   "codemirror_mode": {
    "name": "ipython",
    "version": 3
   },
   "file_extension": ".py",
   "mimetype": "text/x-python",
   "name": "python",
   "nbconvert_exporter": "python",
   "pygments_lexer": "ipython3",
   "version": "3.11.7"
  }
 },
 "nbformat": 4,
 "nbformat_minor": 5
}
