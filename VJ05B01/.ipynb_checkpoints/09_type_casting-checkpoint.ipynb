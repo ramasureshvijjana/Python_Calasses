{
 "cells": [
  {
   "cell_type": "markdown",
   "id": "2b357251-7657-41d8-8bb1-2c5043c84eba",
   "metadata": {},
   "source": [
    "# Type Casting"
   ]
  },
  {
   "cell_type": "code",
   "execution_count": 3,
   "id": "e0182a53-63d7-4cea-9256-a0d540d95e42",
   "metadata": {},
   "outputs": [
    {
     "name": "stdout",
     "output_type": "stream",
     "text": [
      "<class 'int'>\n",
      "<class 'int'>\n"
     ]
    }
   ],
   "source": [
    "num_of_students = 10\n",
    "print(type(num_of_students))\n",
    "\n",
    "cast_num_of_students = int(num_of_students)\n",
    "print(type(cast_num_of_students))"
   ]
  },
  {
   "cell_type": "code",
   "execution_count": 4,
   "id": "8210904b-dbd1-4ee3-8284-02ed3c92a2d3",
   "metadata": {},
   "outputs": [
    {
     "name": "stdout",
     "output_type": "stream",
     "text": [
      "10 <class 'int'>\n",
      "10.0 <class 'float'>\n"
     ]
    }
   ],
   "source": [
    "num_of_students = 10\n",
    "print(num_of_students, type(num_of_students))\n",
    "\n",
    "float_num_of_students = float(num_of_students)\n",
    "print(float_num_of_students, type(float_num_of_students))"
   ]
  },
  {
   "cell_type": "code",
   "execution_count": 5,
   "id": "caec93de-bc6e-448f-b353-0e1fc40f7206",
   "metadata": {},
   "outputs": [
    {
     "name": "stdout",
     "output_type": "stream",
     "text": [
      "10 <class 'int'>\n",
      "(10+0j) <class 'complex'>\n"
     ]
    }
   ],
   "source": [
    "num_of_students = 10\n",
    "print(num_of_students, type(num_of_students))\n",
    "\n",
    "complex_num_of_students = complex(num_of_students)\n",
    "print(complex_num_of_students, type(complex_num_of_students))"
   ]
  },
  {
   "cell_type": "code",
   "execution_count": 10,
   "id": "cc081e50-0afd-4e8a-a352-896023997f3b",
   "metadata": {},
   "outputs": [
    {
     "name": "stdout",
     "output_type": "stream",
     "text": [
      "23 <class 'int'>\n",
      "True <class 'bool'>\n"
     ]
    }
   ],
   "source": [
    "num_of_students = 23 # True --- 10, False ---- 0, .00, None\n",
    "print(num_of_students, type(num_of_students))\n",
    "\n",
    "bool_num_of_students = bool(num_of_students)\n",
    "print(bool_num_of_students, type(bool_num_of_students))"
   ]
  },
  {
   "cell_type": "code",
   "execution_count": 11,
   "id": "2ca33bf4-668f-46d1-8e48-e8386e47d282",
   "metadata": {},
   "outputs": [
    {
     "name": "stdout",
     "output_type": "stream",
     "text": [
      "10 <class 'int'>\n",
      "10 <class 'str'>\n"
     ]
    }
   ],
   "source": [
    "num_of_students = 10 \n",
    "print(num_of_students, type(num_of_students))\n",
    "\n",
    "str_num_of_students = str(num_of_students) # '10'\n",
    "print(str_num_of_students, type(str_num_of_students))"
   ]
  },
  {
   "cell_type": "code",
   "execution_count": null,
   "id": "b450bc75-c5ed-4327-a113-4fbd45962f3a",
   "metadata": {},
   "outputs": [],
   "source": []
  }
 ],
 "metadata": {
  "kernelspec": {
   "display_name": "Python 3 (ipykernel)",
   "language": "python",
   "name": "python3"
  },
  "language_info": {
   "codemirror_mode": {
    "name": "ipython",
    "version": 3
   },
   "file_extension": ".py",
   "mimetype": "text/x-python",
   "name": "python",
   "nbconvert_exporter": "python",
   "pygments_lexer": "ipython3",
   "version": "3.11.7"
  }
 },
 "nbformat": 4,
 "nbformat_minor": 5
}
