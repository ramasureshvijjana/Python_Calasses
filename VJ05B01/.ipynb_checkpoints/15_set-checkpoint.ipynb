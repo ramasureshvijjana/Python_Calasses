{
 "cells": [
  {
   "cell_type": "markdown",
   "id": "fdc8f095-981f-4c2b-aa7d-a24d0ac6123e",
   "metadata": {},
   "source": [
    "# Set"
   ]
  },
  {
   "cell_type": "markdown",
   "id": "ee6514e7-a168-47f4-9ecd-f978083890bc",
   "metadata": {},
   "source": [
    "## Declaration: "
   ]
  },
  {
   "cell_type": "code",
   "execution_count": 1,
   "id": "2ec523f8-a14f-4bf0-a8b8-5f196ae8c7db",
   "metadata": {},
   "outputs": [
    {
     "name": "stdout",
     "output_type": "stream",
     "text": [
      "{} <class 'dict'> 1832408070720\n",
      "set() <class 'set'> 1832407300384\n"
     ]
    }
   ],
   "source": [
    "# Not posible\n",
    "set_data_1 = {}\n",
    "print(set_data_1, type(set_data_1), id(set_data_1))\n",
    "\n",
    "set_data_2 = set()\n",
    "print(set_data_2, type(set_data_2), id(set_data_2))"
   ]
  },
  {
   "cell_type": "markdown",
   "id": "11e9fd11-bfd6-4321-9e18-e7e648199949",
   "metadata": {},
   "source": [
    "## Possible ways:"
   ]
  },
  {
   "cell_type": "code",
   "execution_count": 2,
   "id": "a5db00e2-e1f6-415d-841c-83c979ca9dc9",
   "metadata": {},
   "outputs": [
    {
     "name": "stdout",
     "output_type": "stream",
     "text": [
      "{4} <class 'set'> 1832408975840\n"
     ]
    }
   ],
   "source": [
    "set_data = {4}\n",
    "print(set_data, type(set_data), id(set_data))"
   ]
  },
  {
   "cell_type": "code",
   "execution_count": 3,
   "id": "6f5e0ac5-35a4-4615-8a1d-8dc9efdddb14",
   "metadata": {},
   "outputs": [
    {
     "name": "stdout",
     "output_type": "stream",
     "text": [
      "{4} <class 'set'> 1832408976064\n"
     ]
    }
   ],
   "source": [
    "set_data = {4,}\n",
    "print(set_data, type(set_data), id(set_data))"
   ]
  },
  {
   "cell_type": "code",
   "execution_count": 4,
   "id": "3bb00fdb-9d1b-4f2a-9eca-b54213dca6c0",
   "metadata": {},
   "outputs": [
    {
     "name": "stdout",
     "output_type": "stream",
     "text": [
      "{4} <class 'set'> 1832408975840\n"
     ]
    }
   ],
   "source": [
    "set_data = {4,   }\n",
    "print(set_data, type(set_data), id(set_data))"
   ]
  },
  {
   "cell_type": "code",
   "execution_count": 7,
   "id": "64960e8c-1ba3-48c4-a52d-cad4dbf680fd",
   "metadata": {},
   "outputs": [
    {
     "ename": "TypeError",
     "evalue": "unhashable type: 'set'",
     "output_type": "error",
     "traceback": [
      "\u001b[1;31m---------------------------------------------------------------------------\u001b[0m",
      "\u001b[1;31mTypeError\u001b[0m                                 Traceback (most recent call last)",
      "Cell \u001b[1;32mIn[7], line 1\u001b[0m\n\u001b[1;32m----> 1\u001b[0m set_data \u001b[38;5;241m=\u001b[39m {{\u001b[38;5;241m1\u001b[39m,\u001b[38;5;241m2\u001b[39m,\u001b[38;5;241m3\u001b[39m},\u001b[38;5;241m4\u001b[39m, {\u001b[38;5;241m2\u001b[39m,\u001b[38;5;241m4\u001b[39m}   }\n\u001b[0;32m      2\u001b[0m \u001b[38;5;28mprint\u001b[39m(set_data, \u001b[38;5;28mtype\u001b[39m(set_data), \u001b[38;5;28mid\u001b[39m(set_data))\n",
      "\u001b[1;31mTypeError\u001b[0m: unhashable type: 'set'"
     ]
    }
   ],
   "source": [
    "set_data = {{1,2,3},4, {2,4}   }\n",
    "print(set_data, type(set_data), id(set_data))"
   ]
  },
  {
   "cell_type": "markdown",
   "id": "3976862f-d62d-4c97-ba20-cbcbb93dc268",
   "metadata": {},
   "source": [
    "## Properties: "
   ]
  },
  {
   "cell_type": "markdown",
   "id": "8de4cb90-cc45-4c3d-8887-665bb087b443",
   "metadata": {},
   "source": [
    "### Mutable"
   ]
  },
  {
   "cell_type": "code",
   "execution_count": 8,
   "id": "7c96c0f1-caad-432e-8928-ecda0f01667d",
   "metadata": {},
   "outputs": [
    {
     "name": "stdout",
     "output_type": "stream",
     "text": [
      "{2, 3} <class 'set'> 1832422166304\n",
      "{2, 3, 4} <class 'set'> 1832422166304\n"
     ]
    }
   ],
   "source": [
    "set_data_1 = {2,3}\n",
    "print(set_data_1, type(set_data_1), id(set_data_1))\n",
    "set_data_1.add(4)\n",
    "print(set_data_1, type(set_data_1), id(set_data_1))"
   ]
  },
  {
   "cell_type": "code",
   "execution_count": 3,
   "id": "0d7073a6-e38f-4a21-8cf7-d3fa2a1ece8b",
   "metadata": {},
   "outputs": [
    {
     "name": "stdout",
     "output_type": "stream",
     "text": [
      "{2, 3, 23, 5, 7, 8, 89}\n"
     ]
    }
   ],
   "source": [
    "set_data_1 = {2,3,8,5,7,23,89}\n",
    "print(set_data_1)"
   ]
  },
  {
   "cell_type": "code",
   "execution_count": 4,
   "id": "417f3470-77e6-4d08-9180-d166f26c7334",
   "metadata": {},
   "outputs": [
    {
     "ename": "TypeError",
     "evalue": "'set' object is not subscriptable",
     "output_type": "error",
     "traceback": [
      "\u001b[1;31m---------------------------------------------------------------------------\u001b[0m",
      "\u001b[1;31mTypeError\u001b[0m                                 Traceback (most recent call last)",
      "Cell \u001b[1;32mIn[4], line 1\u001b[0m\n\u001b[1;32m----> 1\u001b[0m set_data_1[\u001b[38;5;241m9\u001b[39m:\u001b[38;5;241m0\u001b[39m]\n",
      "\u001b[1;31mTypeError\u001b[0m: 'set' object is not subscriptable"
     ]
    }
   ],
   "source": [
    "set_data_1[9:0]"
   ]
  },
  {
   "cell_type": "code",
   "execution_count": 6,
   "id": "c0a2ad6c-3ce5-4ecb-8814-63c43572fed6",
   "metadata": {},
   "outputs": [
    {
     "name": "stdout",
     "output_type": "stream",
     "text": [
      "{2, 3, 34, 5, 7, 8, 23, 89} <class 'set'> 2257179904480\n",
      "{2, 3, 34, 5, 7, 8, 23, 89} <class 'set'> 2257166907008\n"
     ]
    }
   ],
   "source": [
    "set_data_1 = {2,3,8,5,34,34,7,23,89,89}\n",
    "print(set_data_1, type(set_data_1), id(set_data_1))\n",
    "set_data_2 = {2,3,8,5,34,34,7,23,89,89}\n",
    "print(set_data_2, type(set_data_2), id(set_data_2))"
   ]
  },
  {
   "cell_type": "markdown",
   "id": "19015fff-2d4e-4f86-ab26-47c12552d172",
   "metadata": {},
   "source": [
    "## Functions:"
   ]
  },
  {
   "cell_type": "code",
   "execution_count": 7,
   "id": "b37d2b8b-1deb-4775-95f6-508ccdf7bb5a",
   "metadata": {},
   "outputs": [
    {
     "name": "stdout",
     "output_type": "stream",
     "text": [
      "{2, 3, 23, 5, 7, 8, 89}\n"
     ]
    }
   ],
   "source": [
    "set_data_1 = {2,3,8,5,7,23,89}\n",
    "print(set_data_1)"
   ]
  },
  {
   "cell_type": "code",
   "execution_count": 8,
   "id": "2c2fc543-db1d-4679-9bdf-7f7de59e7c39",
   "metadata": {},
   "outputs": [
    {
     "name": "stdout",
     "output_type": "stream",
     "text": [
      "{2, 3, 23, 5, 4, 7, 8, 89}\n"
     ]
    }
   ],
   "source": [
    "set_data_1.add(4)\n",
    "print(set_data_1)"
   ]
  },
  {
   "cell_type": "code",
   "execution_count": 9,
   "id": "d2b234ef-8589-4727-814d-5b14a516050b",
   "metadata": {},
   "outputs": [
    {
     "name": "stdout",
     "output_type": "stream",
     "text": [
      "{2, 3, 23, 5, 4, 7, 8, 89} <class 'set'> 2257179903808\n",
      "{2, 3, 4, 5, 7, 8, 23, 89} <class 'set'> 2257179903584\n"
     ]
    }
   ],
   "source": [
    "print(set_data_1, type(set_data_1), id(set_data_1))\n",
    "copy_set = set_data_1.copy()\n",
    "print(copy_set, type(copy_set), id(copy_set))"
   ]
  },
  {
   "cell_type": "code",
   "execution_count": 15,
   "id": "7fb00136-ed8d-4f9f-9498-ecea9f1c1ad6",
   "metadata": {},
   "outputs": [
    {
     "name": "stdout",
     "output_type": "stream",
     "text": [
      "{98, 94}\n",
      "{96, 98, 94, 71} {96, 45, 71}\n"
     ]
    }
   ],
   "source": [
    "\n",
    "set_data_1 = {98, 96,71, 94}\n",
    "set_data_2 = {96,71, 45}\n",
    "print(set_data_1.difference(set_data_2)) # selection process\n",
    "print(set_data_1, set_data_2)"
   ]
  },
  {
   "cell_type": "code",
   "execution_count": 14,
   "id": "d42e194a-07b4-4aee-86ad-2f88cc9650dc",
   "metadata": {},
   "outputs": [
    {
     "name": "stdout",
     "output_type": "stream",
     "text": [
      "{98, 94} {96, 45, 71}\n"
     ]
    }
   ],
   "source": [
    "# effect the s1 obj -- \n",
    "set_data_1 = {98, 96,71, 94}\n",
    "set_data_2 = {96,71, 45}\n",
    "set_data_1.difference_update(set_data_2)  # update process\n",
    "print(set_data_1, set_data_2)"
   ]
  },
  {
   "cell_type": "code",
   "execution_count": 16,
   "id": "4d4350f1-f7b4-42bb-a7c1-2b0fb83d1373",
   "metadata": {},
   "outputs": [
    {
     "name": "stdout",
     "output_type": "stream",
     "text": [
      "{96, 45}\n"
     ]
    }
   ],
   "source": [
    "set_data_2.discard(71)\n",
    "print(set_data_2)"
   ]
  },
  {
   "cell_type": "code",
   "execution_count": 17,
   "id": "ef1b14d8-74d4-4f7e-a137-6f958be0bf17",
   "metadata": {},
   "outputs": [
    {
     "name": "stdout",
     "output_type": "stream",
     "text": [
      "{96, 98, 94, 71}\n",
      "{96, 98, 94, 71} {96, 98, 71, 45, 94}\n"
     ]
    }
   ],
   "source": [
    "set_data_1 = {98, 96,71, 94}\n",
    "set_data_2 = {96,71, 45,98, 94}\n",
    "print(set_data_1.intersection(set_data_2))  # selection process\n",
    "print(set_data_1, set_data_2)"
   ]
  },
  {
   "cell_type": "code",
   "execution_count": 25,
   "id": "db3d98e6-7f7d-47e4-9107-0cef0c73abff",
   "metadata": {},
   "outputs": [
    {
     "name": "stdout",
     "output_type": "stream",
     "text": [
      "{96, 98, 94, 71} {96, 98, 71, 45, 94}\n"
     ]
    }
   ],
   "source": [
    "set_data_1 = {98, 96,71, 94,0,1}\n",
    "set_data_2 = {96,71, 45,98, 94}\n",
    "set_data_1.intersection_update(set_data_2)  # update process\n",
    "print(set_data_1, set_data_2)"
   ]
  },
  {
   "cell_type": "code",
   "execution_count": 28,
   "id": "c2c39498-2211-4e21-974f-c0ad30034bf2",
   "metadata": {},
   "outputs": [
    {
     "name": "stdout",
     "output_type": "stream",
     "text": [
      "{71, 45, 94}\n"
     ]
    }
   ],
   "source": [
    "set_data_2.pop()\n",
    "print(set_data_2)"
   ]
  },
  {
   "cell_type": "code",
   "execution_count": 29,
   "id": "3febe4ac-f0a2-44a8-ba5e-4ac16160e881",
   "metadata": {},
   "outputs": [
    {
     "name": "stdout",
     "output_type": "stream",
     "text": [
      "{45, 94}\n"
     ]
    }
   ],
   "source": [
    "set_data_2.remove(71)\n",
    "print(set_data_2)"
   ]
  },
  {
   "cell_type": "code",
   "execution_count": 38,
   "id": "bf81cd4d-11de-49bc-bd19-8c250bd044b9",
   "metadata": {},
   "outputs": [],
   "source": [
    "set_data_1 = {98, 96,71, 94,0,1}\n",
    "set_data_1.discard(2)"
   ]
  },
  {
   "cell_type": "code",
   "execution_count": 39,
   "id": "feda1d6d-aa41-4384-b9c2-f7a2d306d88e",
   "metadata": {},
   "outputs": [
    {
     "data": {
      "text/plain": [
       "{0, 1, 71, 94, 96, 98}"
      ]
     },
     "execution_count": 39,
     "metadata": {},
     "output_type": "execute_result"
    }
   ],
   "source": [
    "set_data_1"
   ]
  },
  {
   "cell_type": "code",
   "execution_count": 40,
   "id": "ec6dfa13-e30e-4553-abcc-7b7fd4a135e2",
   "metadata": {},
   "outputs": [],
   "source": [
    "set_data_1.clear()"
   ]
  },
  {
   "cell_type": "code",
   "execution_count": 41,
   "id": "1db9b01c-fe7d-4fcb-88c6-b864717d3cff",
   "metadata": {},
   "outputs": [
    {
     "data": {
      "text/plain": [
       "set()"
      ]
     },
     "execution_count": 41,
     "metadata": {},
     "output_type": "execute_result"
    }
   ],
   "source": [
    "set_data_1"
   ]
  },
  {
   "cell_type": "code",
   "execution_count": 44,
   "id": "b487dc72-343a-462d-a876-b464b77c97a1",
   "metadata": {},
   "outputs": [
    {
     "name": "stdout",
     "output_type": "stream",
     "text": [
      "{2, 3, 4}\n"
     ]
    }
   ],
   "source": [
    "set_data= {2,3,4}\n",
    "set_data.discard(5)\n",
    "print(set_data)"
   ]
  },
  {
   "cell_type": "code",
   "execution_count": null,
   "id": "3971c099-57ab-4245-a341-063bb220c542",
   "metadata": {},
   "outputs": [],
   "source": []
  }
 ],
 "metadata": {
  "kernelspec": {
   "display_name": "Python 3 (ipykernel)",
   "language": "python",
   "name": "python3"
  },
  "language_info": {
   "codemirror_mode": {
    "name": "ipython",
    "version": 3
   },
   "file_extension": ".py",
   "mimetype": "text/x-python",
   "name": "python",
   "nbconvert_exporter": "python",
   "pygments_lexer": "ipython3",
   "version": "3.11.7"
  }
 },
 "nbformat": 4,
 "nbformat_minor": 5
}
