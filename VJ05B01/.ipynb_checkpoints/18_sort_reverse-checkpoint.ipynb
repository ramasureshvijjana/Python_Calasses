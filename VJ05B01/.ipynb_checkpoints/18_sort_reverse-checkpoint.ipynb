{
 "cells": [
  {
   "cell_type": "markdown",
   "id": "4956a3e3-78a2-47ed-95a1-56793804f2f7",
   "metadata": {},
   "source": [
    "# Sort and Reverse"
   ]
  },
  {
   "cell_type": "code",
   "execution_count": 23,
   "id": "f553a5f5-7e17-47d1-a039-0f99b5764410",
   "metadata": {},
   "outputs": [
    {
     "name": "stdout",
     "output_type": "stream",
     "text": [
      "['a', 'd', 'h', 'm', 'u']\n",
      "['u', 'm', 'h', 'd', 'a']\n",
      "adhmu\n"
     ]
    }
   ],
   "source": [
    "name = \"madhu\"\n",
    "\n",
    "print(sorted(name))\n",
    "print(sorted(name, reverse=True))\n",
    "print(\"\".join(sorted(name)))"
   ]
  },
  {
   "cell_type": "code",
   "execution_count": 14,
   "id": "16965660-bff3-4b52-b62c-3fdc4448b69c",
   "metadata": {},
   "outputs": [
    {
     "name": "stdout",
     "output_type": "stream",
     "text": [
      "['2', '6', 'A', 'D', 'H', 'M', 'U', 'a', 'd', 'h', 'm', 'u']\n",
      "['u', 'm', 'h', 'd', 'a', 'U', 'M', 'H', 'D', 'A', '6', '2']\n"
     ]
    }
   ],
   "source": [
    "name = \"MADHU26madhu\"\n",
    "\n",
    "print(sorted(name))\n",
    "print(sorted(name, reverse=True))"
   ]
  },
  {
   "cell_type": "code",
   "execution_count": 9,
   "id": "995cd195-7e23-4432-ac0e-3244fdc2a317",
   "metadata": {},
   "outputs": [
    {
     "name": "stdout",
     "output_type": "stream",
     "text": [
      "['2', '3', '4', '5']\n",
      "['5', '4', '3', '2']\n"
     ]
    }
   ],
   "source": [
    "name = \"4523\"\n",
    "\n",
    "print(sorted(name))\n",
    "print(sorted(name, reverse=True))"
   ]
  },
  {
   "cell_type": "code",
   "execution_count": 4,
   "id": "c0f2654d-f0c0-47a4-9ee0-72b033817501",
   "metadata": {},
   "outputs": [
    {
     "name": "stdout",
     "output_type": "stream",
     "text": [
      "[2, 3, 6, 8]\n",
      "[8, 6, 3, 2]\n"
     ]
    }
   ],
   "source": [
    "ages = [2,8,3,6]\n",
    "\n",
    "print(sorted(ages))\n",
    "print(sorted(ages, reverse=True))"
   ]
  },
  {
   "cell_type": "code",
   "execution_count": 7,
   "id": "8ae8216a-6749-4672-b687-ea67c3bf35ec",
   "metadata": {},
   "outputs": [
    {
     "name": "stdout",
     "output_type": "stream",
     "text": [
      "['2', '3', '6', '8']\n",
      "['8', '6', '3', '2']\n"
     ]
    }
   ],
   "source": [
    "ages = ['2','8','3','6']\n",
    "\n",
    "print(sorted(ages))\n",
    "print(sorted(ages, reverse=True))"
   ]
  },
  {
   "cell_type": "code",
   "execution_count": 22,
   "id": "cce032c8-a57e-4a68-bb42-cedd858dbbce",
   "metadata": {},
   "outputs": [
    {
     "name": "stdout",
     "output_type": "stream",
     "text": [
      "['Priya', 'RAMA', 'Suresh', 'madhu', 'rama']\n",
      "['rama', 'madhu', 'Suresh', 'RAMA', 'Priya']\n"
     ]
    }
   ],
   "source": [
    "ages = ['rama','madhu','Priya','Suresh', \"RAMA\"]\n",
    "\n",
    "print(sorted(ages))\n",
    "print(sorted(ages, reverse=True))"
   ]
  },
  {
   "cell_type": "code",
   "execution_count": 20,
   "id": "f8eaf009-35d7-4968-b911-f5acf79e377a",
   "metadata": {},
   "outputs": [
    {
     "name": "stdout",
     "output_type": "stream",
     "text": [
      "['1', '9', 'Priya', 'RAMA', 'Suresh', 'madhu', 'rama']\n",
      "['rama', 'madhu', 'Suresh', 'RAMA', 'Priya', '9', '1']\n"
     ]
    }
   ],
   "source": [
    "ages = ['rama','madhu','Priya','Suresh', \"RAMA\", '9', '1']\n",
    "\n",
    "print(sorted(ages))\n",
    "print(sorted(ages, reverse=True))"
   ]
  },
  {
   "cell_type": "code",
   "execution_count": 19,
   "id": "3ec1b1ea-2a2f-411f-8388-0deff6796db7",
   "metadata": {},
   "outputs": [
    {
     "ename": "TypeError",
     "evalue": "'<' not supported between instances of 'int' and 'str'",
     "output_type": "error",
     "traceback": [
      "\u001b[1;31m---------------------------------------------------------------------------\u001b[0m",
      "\u001b[1;31mTypeError\u001b[0m                                 Traceback (most recent call last)",
      "Cell \u001b[1;32mIn[19], line 3\u001b[0m\n\u001b[0;32m      1\u001b[0m ages \u001b[38;5;241m=\u001b[39m [\u001b[38;5;124m'\u001b[39m\u001b[38;5;124mrama\u001b[39m\u001b[38;5;124m'\u001b[39m,\u001b[38;5;124m'\u001b[39m\u001b[38;5;124mmadhu\u001b[39m\u001b[38;5;124m'\u001b[39m,\u001b[38;5;124m'\u001b[39m\u001b[38;5;124mPriya\u001b[39m\u001b[38;5;124m'\u001b[39m,\u001b[38;5;124m'\u001b[39m\u001b[38;5;124mSuresh\u001b[39m\u001b[38;5;124m'\u001b[39m, \u001b[38;5;124m\"\u001b[39m\u001b[38;5;124mRAMA\u001b[39m\u001b[38;5;124m\"\u001b[39m, \u001b[38;5;241m9\u001b[39m, \u001b[38;5;241m1\u001b[39m]\n\u001b[1;32m----> 3\u001b[0m \u001b[38;5;28mprint\u001b[39m(\u001b[38;5;28msorted\u001b[39m(ages))\n\u001b[0;32m      4\u001b[0m \u001b[38;5;28mprint\u001b[39m(\u001b[38;5;28msorted\u001b[39m(ages, reverse\u001b[38;5;241m=\u001b[39m\u001b[38;5;28;01mTrue\u001b[39;00m))\n",
      "\u001b[1;31mTypeError\u001b[0m: '<' not supported between instances of 'int' and 'str'"
     ]
    }
   ],
   "source": [
    "ages = ['rama','madhu','Priya','Suresh', \"RAMA\", 9, 1]\n",
    "\n",
    "print(sorted(ages))\n",
    "print(sorted(ages, reverse=True))"
   ]
  },
  {
   "cell_type": "code",
   "execution_count": 5,
   "id": "be9ec08e-433f-46f3-850b-26442921bc46",
   "metadata": {},
   "outputs": [
    {
     "name": "stdout",
     "output_type": "stream",
     "text": [
      "[2, 3, 6, 8]\n",
      "[8, 6, 3, 2]\n"
     ]
    }
   ],
   "source": [
    "ages = (2,8,3,6)\n",
    "\n",
    "print(sorted(ages))\n",
    "print(sorted(ages, reverse=True))"
   ]
  },
  {
   "cell_type": "code",
   "execution_count": 6,
   "id": "f7eebf25-de51-4f49-8035-2d4e18f9c912",
   "metadata": {},
   "outputs": [
    {
     "name": "stdout",
     "output_type": "stream",
     "text": [
      "[2, 3, 6, 8]\n",
      "[8, 6, 3, 2]\n"
     ]
    }
   ],
   "source": [
    "ages = {2,8,3,6}\n",
    "\n",
    "print(sorted(ages))\n",
    "print(sorted(ages, reverse=True))"
   ]
  },
  {
   "cell_type": "code",
   "execution_count": 24,
   "id": "dc3497e0-ff73-4c86-bc10-80bcf1224972",
   "metadata": {},
   "outputs": [
    {
     "name": "stdout",
     "output_type": "stream",
     "text": [
      "['7', 'Name', 'age']\n",
      "['age', 'Name', '7']\n"
     ]
    }
   ],
   "source": [
    "data = {\"Name\": \"VJ\", \"age\": 26, \"7\": \"id\"}\n",
    "\n",
    "print(sorted(data))\n",
    "print(sorted(data, reverse=True))"
   ]
  },
  {
   "cell_type": "markdown",
   "id": "cb786c1f-e131-4e5d-992b-41cf8a4b7dbd",
   "metadata": {},
   "source": [
    "# Reverse"
   ]
  },
  {
   "cell_type": "code",
   "execution_count": 26,
   "id": "2b6b2f09-f738-4e1a-873a-5376edc8ecc6",
   "metadata": {},
   "outputs": [
    {
     "name": "stdout",
     "output_type": "stream",
     "text": [
      "uhdam\n"
     ]
    }
   ],
   "source": [
    "name = \"madhu\"\n",
    "\n",
    "print(name[::-1])"
   ]
  },
  {
   "cell_type": "code",
   "execution_count": 27,
   "id": "6e2dd7d1-9ad3-4b6a-a6f1-7ccce00d1462",
   "metadata": {},
   "outputs": [
    {
     "name": "stdout",
     "output_type": "stream",
     "text": [
      "[6, 3, 8, 2]\n"
     ]
    }
   ],
   "source": [
    "name = [2,8,3,6]\n",
    "\n",
    "print(name[::-1])"
   ]
  },
  {
   "cell_type": "code",
   "execution_count": 28,
   "id": "6c02ded3-5898-4e4b-8956-9d855a8cb395",
   "metadata": {},
   "outputs": [
    {
     "name": "stdout",
     "output_type": "stream",
     "text": [
      "(6, 3, 8, 2)\n"
     ]
    }
   ],
   "source": [
    "name = (2,8,3,6)\n",
    "\n",
    "print(name[::-1])"
   ]
  },
  {
   "cell_type": "code",
   "execution_count": 29,
   "id": "63355fdd-3d20-48b5-84bd-b8c14a60146a",
   "metadata": {},
   "outputs": [
    {
     "ename": "TypeError",
     "evalue": "'set' object is not subscriptable",
     "output_type": "error",
     "traceback": [
      "\u001b[1;31m---------------------------------------------------------------------------\u001b[0m",
      "\u001b[1;31mTypeError\u001b[0m                                 Traceback (most recent call last)",
      "Cell \u001b[1;32mIn[29], line 3\u001b[0m\n\u001b[0;32m      1\u001b[0m name \u001b[38;5;241m=\u001b[39m {\u001b[38;5;241m2\u001b[39m,\u001b[38;5;241m8\u001b[39m,\u001b[38;5;241m3\u001b[39m,\u001b[38;5;241m6\u001b[39m}\n\u001b[1;32m----> 3\u001b[0m \u001b[38;5;28mprint\u001b[39m(name[::\u001b[38;5;241m-\u001b[39m\u001b[38;5;241m1\u001b[39m])\n",
      "\u001b[1;31mTypeError\u001b[0m: 'set' object is not subscriptable"
     ]
    }
   ],
   "source": [
    "name = {2,8,3,6}\n",
    "\n",
    "print(name[::-1])"
   ]
  },
  {
   "cell_type": "code",
   "execution_count": 30,
   "id": "3808a707-d17d-4e6a-bc60-898e8c7a963e",
   "metadata": {},
   "outputs": [
    {
     "ename": "TypeError",
     "evalue": "unhashable type: 'slice'",
     "output_type": "error",
     "traceback": [
      "\u001b[1;31m---------------------------------------------------------------------------\u001b[0m",
      "\u001b[1;31mTypeError\u001b[0m                                 Traceback (most recent call last)",
      "Cell \u001b[1;32mIn[30], line 3\u001b[0m\n\u001b[0;32m      1\u001b[0m data \u001b[38;5;241m=\u001b[39m {\u001b[38;5;124m\"\u001b[39m\u001b[38;5;124mName\u001b[39m\u001b[38;5;124m\"\u001b[39m: \u001b[38;5;124m\"\u001b[39m\u001b[38;5;124mVJ\u001b[39m\u001b[38;5;124m\"\u001b[39m, \u001b[38;5;124m\"\u001b[39m\u001b[38;5;124mage\u001b[39m\u001b[38;5;124m\"\u001b[39m: \u001b[38;5;241m26\u001b[39m, \u001b[38;5;124m\"\u001b[39m\u001b[38;5;124m7\u001b[39m\u001b[38;5;124m\"\u001b[39m: \u001b[38;5;124m\"\u001b[39m\u001b[38;5;124mid\u001b[39m\u001b[38;5;124m\"\u001b[39m}\n\u001b[1;32m----> 3\u001b[0m \u001b[38;5;28mprint\u001b[39m(data[::\u001b[38;5;241m-\u001b[39m\u001b[38;5;241m1\u001b[39m])\n",
      "\u001b[1;31mTypeError\u001b[0m: unhashable type: 'slice'"
     ]
    }
   ],
   "source": [
    "data = {\"Name\": \"VJ\", \"age\": 26, \"7\": \"id\"}\n",
    "\n",
    "print(data[::-1])"
   ]
  },
  {
   "cell_type": "code",
   "execution_count": 36,
   "id": "c3b68373-f08d-4ed5-8c40-1feca684853e",
   "metadata": {},
   "outputs": [
    {
     "name": "stdout",
     "output_type": "stream",
     "text": [
      "['u', 'h', 'd', 'a', 'm']\n",
      "uhdam\n"
     ]
    }
   ],
   "source": [
    "name = \"madhu\"\n",
    "print(list(reversed(name)))\n",
    "print(\"\".join(list(reversed(name))))"
   ]
  },
  {
   "cell_type": "code",
   "execution_count": 38,
   "id": "89a7b743-7019-4d13-ae1a-704984f720d4",
   "metadata": {},
   "outputs": [
    {
     "name": "stdout",
     "output_type": "stream",
     "text": [
      "[6, 3, 8, 2]\n"
     ]
    }
   ],
   "source": [
    "nums = [2,8,3,6]\n",
    "\n",
    "print(list(reversed(nums)))"
   ]
  },
  {
   "cell_type": "code",
   "execution_count": 41,
   "id": "98193c4c-fdaa-4366-8fe8-f4bba2aa11a8",
   "metadata": {},
   "outputs": [
    {
     "name": "stdout",
     "output_type": "stream",
     "text": [
      "(6, 3, 8, 2)\n",
      "{8, 2, 3, 6}\n"
     ]
    }
   ],
   "source": [
    "nums = (2,8,3,6)\n",
    "\n",
    "print(tuple(reversed(nums)))\n",
    "print(set(reversed(nums)))"
   ]
  },
  {
   "cell_type": "code",
   "execution_count": 42,
   "id": "34ee2bfa-ce1f-422b-ab5e-2462a6c8de7d",
   "metadata": {},
   "outputs": [
    {
     "ename": "TypeError",
     "evalue": "'set' object is not reversible",
     "output_type": "error",
     "traceback": [
      "\u001b[1;31m---------------------------------------------------------------------------\u001b[0m",
      "\u001b[1;31mTypeError\u001b[0m                                 Traceback (most recent call last)",
      "Cell \u001b[1;32mIn[42], line 3\u001b[0m\n\u001b[0;32m      1\u001b[0m nums \u001b[38;5;241m=\u001b[39m {\u001b[38;5;241m2\u001b[39m,\u001b[38;5;241m8\u001b[39m,\u001b[38;5;241m3\u001b[39m,\u001b[38;5;241m6\u001b[39m}\n\u001b[1;32m----> 3\u001b[0m \u001b[38;5;28mprint\u001b[39m(\u001b[38;5;28mtuple\u001b[39m(\u001b[38;5;28mreversed\u001b[39m(nums)))\n\u001b[0;32m      4\u001b[0m \u001b[38;5;28mprint\u001b[39m(\u001b[38;5;28mset\u001b[39m(\u001b[38;5;28mreversed\u001b[39m(nums)))\n",
      "\u001b[1;31mTypeError\u001b[0m: 'set' object is not reversible"
     ]
    }
   ],
   "source": [
    "nums = {2,8,3,6}\n",
    "\n",
    "print(tuple(reversed(nums)))\n",
    "print(set(reversed(nums)))"
   ]
  },
  {
   "cell_type": "code",
   "execution_count": 43,
   "id": "42da5d95-efbb-4fa1-ae2b-b7ca1ee47840",
   "metadata": {},
   "outputs": [
    {
     "name": "stdout",
     "output_type": "stream",
     "text": [
      "('7', 'age', 'Name')\n",
      "{'age', 'Name', '7'}\n"
     ]
    }
   ],
   "source": [
    "data = {\"Name\": \"VJ\", \"age\": 26, \"7\": \"id\"}\n",
    "\n",
    "print(tuple(reversed(data)))\n",
    "print(set(reversed(data)))"
   ]
  }
 ],
 "metadata": {
  "kernelspec": {
   "display_name": "Python 3 (ipykernel)",
   "language": "python",
   "name": "python3"
  },
  "language_info": {
   "codemirror_mode": {
    "name": "ipython",
    "version": 3
   },
   "file_extension": ".py",
   "mimetype": "text/x-python",
   "name": "python",
   "nbconvert_exporter": "python",
   "pygments_lexer": "ipython3",
   "version": "3.11.7"
  }
 },
 "nbformat": 4,
 "nbformat_minor": 5
}
