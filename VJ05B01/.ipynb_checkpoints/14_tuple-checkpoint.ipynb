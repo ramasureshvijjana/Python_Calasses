{
 "cells": [
  {
   "cell_type": "markdown",
   "id": "962e698f-961e-47dc-a1df-52514a56dd15",
   "metadata": {},
   "source": [
    "# Tuple"
   ]
  },
  {
   "cell_type": "markdown",
   "id": "55194560-ad2a-41c4-8094-a0764e5f92c1",
   "metadata": {},
   "source": [
    "##  Declaration:"
   ]
  },
  {
   "cell_type": "code",
   "execution_count": 1,
   "id": "a73f9a04-66d9-451f-b273-38f1824f62d1",
   "metadata": {},
   "outputs": [
    {
     "name": "stdout",
     "output_type": "stream",
     "text": [
      "() <class 'tuple'> 0\n"
     ]
    }
   ],
   "source": [
    "tuple_1 = ()\n",
    "print(tuple_1, type(tuple_1), len(tuple_1))"
   ]
  },
  {
   "cell_type": "code",
   "execution_count": 2,
   "id": "8446ea9b-b374-4ed5-9839-3fd898fad974",
   "metadata": {},
   "outputs": [
    {
     "name": "stdout",
     "output_type": "stream",
     "text": [
      "() <class 'tuple'> 0\n"
     ]
    }
   ],
   "source": [
    "tuple_2 = tuple()\n",
    "print(tuple_2, type(tuple_2), len(tuple_2))"
   ]
  },
  {
   "cell_type": "markdown",
   "id": "8978f916-d800-460f-989f-131c64ad5253",
   "metadata": {},
   "source": [
    "## Possible ways:"
   ]
  },
  {
   "cell_type": "code",
   "execution_count": 3,
   "id": "75fd5de3-4180-4ab7-b5ee-11353935198c",
   "metadata": {},
   "outputs": [
    {
     "name": "stdout",
     "output_type": "stream",
     "text": [
      "(1, 2, 3, 4) <class 'tuple'> 4\n"
     ]
    }
   ],
   "source": [
    "tuple_2 = 1,2,3,4\n",
    "print(tuple_2, type(tuple_2), len(tuple_2))"
   ]
  },
  {
   "cell_type": "code",
   "execution_count": 4,
   "id": "e113e2a8-5122-4bf7-9561-e0c73470c4ec",
   "metadata": {},
   "outputs": [
    {
     "name": "stdout",
     "output_type": "stream",
     "text": [
      "(1,) <class 'tuple'> 1\n"
     ]
    }
   ],
   "source": [
    "tuple_2 = 1,\n",
    "print(tuple_2, type(tuple_2), len(tuple_2))"
   ]
  },
  {
   "cell_type": "code",
   "execution_count": 5,
   "id": "8a042d81-ddea-48c3-a242-b9f177b4b578",
   "metadata": {},
   "outputs": [
    {
     "name": "stdout",
     "output_type": "stream",
     "text": [
      "(1,) <class 'tuple'> 1\n"
     ]
    }
   ],
   "source": [
    "tuple_2 = (1,)\n",
    "print(tuple_2, type(tuple_2), len(tuple_2))"
   ]
  },
  {
   "cell_type": "code",
   "execution_count": 6,
   "id": "dd5de60f-01d6-450d-97df-1e1d07b218c8",
   "metadata": {},
   "outputs": [
    {
     "name": "stdout",
     "output_type": "stream",
     "text": [
      "((1, 2), 6) <class 'tuple'> 2\n"
     ]
    }
   ],
   "source": [
    "tuple_2 = (1,2),6\n",
    "print(tuple_2, type(tuple_2), len(tuple_2))"
   ]
  },
  {
   "cell_type": "markdown",
   "id": "ccb345cc-3485-4167-84f5-55a1e36a562f",
   "metadata": {},
   "source": [
    "## Properties: "
   ]
  },
  {
   "cell_type": "code",
   "execution_count": 7,
   "id": "ef7a67dc-db29-4686-9730-a4ca9892bace",
   "metadata": {},
   "outputs": [
    {
     "name": "stdout",
     "output_type": "stream",
     "text": [
      "(1, 2, 3, 4) <class 'tuple'> 4\n",
      "(2, 3, 4)\n"
     ]
    }
   ],
   "source": [
    "tuple_2 = 1,2,3,4\n",
    "print(tuple_2, type(tuple_2), len(tuple_2))\n",
    "print(tuple_2[1:])"
   ]
  },
  {
   "cell_type": "code",
   "execution_count": 8,
   "id": "6d21b6a0-1e45-498e-b248-ba80dfa25775",
   "metadata": {},
   "outputs": [
    {
     "name": "stdout",
     "output_type": "stream",
     "text": [
      "(1, 2, 3, 4) <class 'tuple'> 4\n",
      "(2, 3)\n"
     ]
    }
   ],
   "source": [
    "tuple_2 = 1,2,3,4\n",
    "print(tuple_2, type(tuple_2), len(tuple_2))\n",
    "print(tuple_2[1:3])"
   ]
  },
  {
   "cell_type": "code",
   "execution_count": 10,
   "id": "483af81e-4e20-43bd-a7c3-2238b732d66b",
   "metadata": {},
   "outputs": [
    {
     "name": "stdout",
     "output_type": "stream",
     "text": [
      "(1, 2, 3, 4, 1, 2, 3, 3, 2, 1) <class 'tuple'> 10 2283334441408\n"
     ]
    }
   ],
   "source": [
    "tuple_2 = 1,2,3,4,1,2,3,3,2,1\n",
    "print(tuple_2, type(tuple_2), len(tuple_2), id(tuple_2))\n"
   ]
  },
  {
   "cell_type": "code",
   "execution_count": 11,
   "id": "02df32a8-d0ce-4665-b75f-05fb170b18d1",
   "metadata": {},
   "outputs": [
    {
     "name": "stdout",
     "output_type": "stream",
     "text": [
      "(1, 2, 3, 4, 1, 2, 3, 3, 2, 1) <class 'tuple'> 10 2283334441920\n"
     ]
    }
   ],
   "source": [
    "tuple_3 = 1,2,3,4,1,2,3,3,2,1\n",
    "print(tuple_3, type(tuple_3), len(tuple_3),id(tuple_3))"
   ]
  },
  {
   "cell_type": "code",
   "execution_count": 12,
   "id": "cc460774-9f6d-4927-a0fd-3a0bc38fddcb",
   "metadata": {},
   "outputs": [
    {
     "name": "stdout",
     "output_type": "stream",
     "text": [
      "(23, 5.4, True, 'Madhu', (1, 2, 3), [5, 4], {3, 6}, {'name': 'VJ'}, (2+5j), None, 10, 573, 341) <class 'tuple'> 13 2283334697168\n"
     ]
    }
   ],
   "source": [
    "tuple_3 = (23, 5.4, True, \"Madhu\", (1,2,3), [5,4], {6,3}, {'name': \"VJ\"}, 2+5j, None, 0O12, 0x23d, 0b101010101)\n",
    "print(tuple_3, type(tuple_3), len(tuple_3),id(tuple_3))"
   ]
  },
  {
   "cell_type": "code",
   "execution_count": 13,
   "id": "a84bd171-f2fa-46ac-bec9-1d91c5497adf",
   "metadata": {},
   "outputs": [
    {
     "name": "stdout",
     "output_type": "stream",
     "text": [
      "3\n"
     ]
    }
   ],
   "source": [
    "tuple_3 = 1,2,3,4,1,2,3,3,2,1\n",
    "print(tuple_3.count(2))"
   ]
  },
  {
   "cell_type": "code",
   "execution_count": 14,
   "id": "aa0c5585-031e-4c66-902e-8a839465bcbc",
   "metadata": {},
   "outputs": [
    {
     "name": "stdout",
     "output_type": "stream",
     "text": [
      "1\n"
     ]
    }
   ],
   "source": [
    "tuple_3 = 1,2,3,4,1,2,3,3,2,1\n",
    "print(tuple_3.index(2))"
   ]
  },
  {
   "cell_type": "code",
   "execution_count": null,
   "id": "5b36144e-480c-4db2-a3c9-988b164395c4",
   "metadata": {},
   "outputs": [],
   "source": []
  }
 ],
 "metadata": {
  "kernelspec": {
   "display_name": "Python 3 (ipykernel)",
   "language": "python",
   "name": "python3"
  },
  "language_info": {
   "codemirror_mode": {
    "name": "ipython",
    "version": 3
   },
   "file_extension": ".py",
   "mimetype": "text/x-python",
   "name": "python",
   "nbconvert_exporter": "python",
   "pygments_lexer": "ipython3",
   "version": "3.11.7"
  }
 },
 "nbformat": 4,
 "nbformat_minor": 5
}
