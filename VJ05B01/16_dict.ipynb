{
 "cells": [
  {
   "cell_type": "markdown",
   "id": "347616a6-02ee-493f-90a9-ebe7eb21231b",
   "metadata": {},
   "source": [
    "# Dict Data Type"
   ]
  },
  {
   "cell_type": "markdown",
   "id": "964eb4c7-4506-40df-923f-11d33764c82b",
   "metadata": {},
   "source": [
    "## Declaration: "
   ]
  },
  {
   "cell_type": "code",
   "execution_count": 1,
   "id": "b0d7cac3-917f-4d5b-8c0a-dcd702000de7",
   "metadata": {},
   "outputs": [
    {
     "name": "stdout",
     "output_type": "stream",
     "text": [
      "{'Name': 'Priya', 'age': 24, 'sal': 2000000} <class 'dict'>\n"
     ]
    }
   ],
   "source": [
    "emp_details = {\"Name\": \"Priya\", \"age\": 24, \"sal\": 2000000}\n",
    "print(emp_details, type(emp_details))"
   ]
  },
  {
   "cell_type": "code",
   "execution_count": 5,
   "id": "572fbbf4-2469-4311-a7ff-9e0f886fed71",
   "metadata": {},
   "outputs": [
    {
     "name": "stdout",
     "output_type": "stream",
     "text": [
      "{} <class 'dict'>\n"
     ]
    }
   ],
   "source": [
    "emp_2_details = dict()#{\"Name\": \"Priya\", \"age\": 24, \"sal\": 2000000}\n",
    "print(emp_2_details, type(emp_2_details))"
   ]
  },
  {
   "cell_type": "code",
   "execution_count": 25,
   "id": "03fde3da-7e8b-49dd-9a7a-dadae4fba75d",
   "metadata": {},
   "outputs": [
    {
     "name": "stdout",
     "output_type": "stream",
     "text": [
      "{'Name': 'VJ', 'age': 27}\n"
     ]
    }
   ],
   "source": [
    "check = dict(Name='VJ', age=27)\n",
    "print(check)"
   ]
  },
  {
   "cell_type": "markdown",
   "id": "94e26bf8-2ded-4a24-812c-d3923ed9f609",
   "metadata": {},
   "source": [
    "## Properties: "
   ]
  },
  {
   "cell_type": "code",
   "execution_count": 8,
   "id": "342a4995-0305-4fb4-993d-74b0975645a9",
   "metadata": {},
   "outputs": [
    {
     "name": "stdout",
     "output_type": "stream",
     "text": [
      "{'Name': 'Priya', 'age': 24, 'sal': 2000000} <class 'dict'> 1947889096576 140709080122888\n",
      "{'Name': 'Priya', 'age': 23, 'sal': 2000000} <class 'dict'> 1947889096576 140709080122856\n"
     ]
    }
   ],
   "source": [
    "emp_details = {\"Name\": \"Priya\", \"age\": 24, \"sal\": 2000000}\n",
    "print(emp_details, type(emp_details), id(emp_details), id(emp_details['age']))\n",
    "\n",
    "emp_details['age'] = 23\n",
    "print(emp_details, type(emp_details), id(emp_details), id(emp_details['age']))"
   ]
  },
  {
   "cell_type": "code",
   "execution_count": 14,
   "id": "80912adc-6d53-480d-b4e4-b6671d023df5",
   "metadata": {},
   "outputs": [
    {
     "name": "stdout",
     "output_type": "stream",
     "text": [
      "{'Name': 'Priya', 'age': 24, 'sal': 2000000} <class 'dict'> 1947889172544 140709080122888 140709080122888\n",
      "{'Name': 'Priya', 'age': 24, 'sal': 2000000} <class 'dict'> 1947889297344\n"
     ]
    }
   ],
   "source": [
    "emp_details = {\"Name\": \"Priya\", \"age\": 24, \"sal\": 2000000}\n",
    "emp_2_details = {\"Name\": \"Priya\", \"age\": 24, \"sal\": 2000000}\n",
    "print(emp_details, type(emp_details), id(emp_details), id(emp_details['age']), id(emp_2_details['age']))\n",
    "print(emp_2_details, type(emp_2_details), id(emp_2_details))\n",
    "\n",
    "\n",
    "# emp_details['age'] = 23\n",
    "# print(emp_details, type(emp_details), id(emp_details), id(emp_details['age']), id(emp_2_details['age']))"
   ]
  },
  {
   "cell_type": "code",
   "execution_count": 18,
   "id": "771016c7-b20b-4a23-98f5-e13e3acee7f5",
   "metadata": {},
   "outputs": [
    {
     "name": "stdout",
     "output_type": "stream",
     "text": [
      "{'Name': 'Priya', 3.6: 24, 2: 2000000} <class 'dict'> 1947889106560\n"
     ]
    }
   ],
   "source": [
    "emp_details = {\"Name\": \"Priya\", 3.6: 24, 2: 2000000}\n",
    "print(emp_details, type(emp_details), id(emp_details))"
   ]
  },
  {
   "cell_type": "code",
   "execution_count": 19,
   "id": "614994d5-c906-4001-84dc-29b92f93d637",
   "metadata": {},
   "outputs": [
    {
     "ename": "TypeError",
     "evalue": "unhashable type: 'list'",
     "output_type": "error",
     "traceback": [
      "\u001b[1;31m---------------------------------------------------------------------------\u001b[0m",
      "\u001b[1;31mTypeError\u001b[0m                                 Traceback (most recent call last)",
      "Cell \u001b[1;32mIn[19], line 1\u001b[0m\n\u001b[1;32m----> 1\u001b[0m emp_details \u001b[38;5;241m=\u001b[39m {\u001b[38;5;124m\"\u001b[39m\u001b[38;5;124mName\u001b[39m\u001b[38;5;124m\"\u001b[39m: \u001b[38;5;124m\"\u001b[39m\u001b[38;5;124mPriya\u001b[39m\u001b[38;5;124m\"\u001b[39m, \u001b[38;5;241m3.6\u001b[39m: \u001b[38;5;241m24\u001b[39m, [\u001b[38;5;241m4\u001b[39m,\u001b[38;5;241m6\u001b[39m]: \u001b[38;5;241m2000000\u001b[39m}\n\u001b[0;32m      2\u001b[0m \u001b[38;5;28mprint\u001b[39m(emp_details, \u001b[38;5;28mtype\u001b[39m(emp_details), \u001b[38;5;28mid\u001b[39m(emp_details))\n",
      "\u001b[1;31mTypeError\u001b[0m: unhashable type: 'list'"
     ]
    }
   ],
   "source": [
    "emp_details = {\"Name\": \"Priya\", 3.6: 24, [4,6]: 2000000}\n",
    "print(emp_details, type(emp_details), id(emp_details))"
   ]
  },
  {
   "cell_type": "code",
   "execution_count": 20,
   "id": "efed50a8-985a-4948-9ada-dc1ef3446ffa",
   "metadata": {},
   "outputs": [
    {
     "name": "stdout",
     "output_type": "stream",
     "text": [
      "{'Name': 'Priya', 3.6: 24, (4, 6): 2000000} <class 'dict'> 1947889492096\n"
     ]
    }
   ],
   "source": [
    "emp_details = {\"Name\": \"Priya\", 3.6: 24, (4,6): 2000000}\n",
    "print(emp_details, type(emp_details), id(emp_details))"
   ]
  },
  {
   "cell_type": "code",
   "execution_count": 21,
   "id": "6548b1c7-71a5-4308-9f0e-02cd2fa81522",
   "metadata": {},
   "outputs": [
    {
     "name": "stdout",
     "output_type": "stream",
     "text": [
      "{'Name': 'Priya', 3.6: 24, None: 2000000} <class 'dict'> 1947889133760\n"
     ]
    }
   ],
   "source": [
    "emp_details = {\"Name\": \"Priya\", 3.6: 24, None: 2000000}\n",
    "print(emp_details, type(emp_details), id(emp_details))"
   ]
  },
  {
   "cell_type": "code",
   "execution_count": 22,
   "id": "312e22e8-223b-4772-aaa6-aa3438b82339",
   "metadata": {},
   "outputs": [
    {
     "data": {
      "text/plain": [
       "2000000"
      ]
     },
     "execution_count": 22,
     "metadata": {},
     "output_type": "execute_result"
    }
   ],
   "source": [
    "emp_details[None]"
   ]
  },
  {
   "cell_type": "markdown",
   "id": "b56ee6a7-a071-4c86-8188-942bf97d6329",
   "metadata": {},
   "source": [
    "## Dict Functions:"
   ]
  },
  {
   "cell_type": "code",
   "execution_count": 1,
   "id": "be771ee2-a688-4144-9ef2-1c58c051ec8c",
   "metadata": {},
   "outputs": [
    {
     "name": "stdout",
     "output_type": "stream",
     "text": [
      "{'Name': 'Priya', 'age': 24, 'sal': 2000000} <class 'dict'> 2067306185536\n"
     ]
    }
   ],
   "source": [
    "emp_details = {\"Name\": \"Priya\", \"age\": 24, \"sal\": 2000000}\n",
    "print(emp_details, type(emp_details), id(emp_details))"
   ]
  },
  {
   "cell_type": "code",
   "execution_count": 2,
   "id": "6b82e464-28ab-48c9-a77c-cc0ea35e6a89",
   "metadata": {},
   "outputs": [
    {
     "name": "stdout",
     "output_type": "stream",
     "text": [
      "{'Name': 'Priya', 'age': 24, 'sal': 2000000} <class 'dict'> 2067306185920\n"
     ]
    }
   ],
   "source": [
    "emp_details_2 = emp_details.copy()\n",
    "print(emp_details_2, type(emp_details_2), id(emp_details_2))"
   ]
  },
  {
   "cell_type": "code",
   "execution_count": 3,
   "id": "d6476a58-b7a3-4399-9c57-4310b9215c92",
   "metadata": {},
   "outputs": [
    {
     "name": "stdout",
     "output_type": "stream",
     "text": [
      "{'Name': 'Madhu', 'age': 24, 'sal': 2000000} <class 'dict'> 2067306185920\n",
      "{'Name': 'Priya', 'age': 24, 'sal': 2000000} <class 'dict'> 2067306185536\n"
     ]
    }
   ],
   "source": [
    "emp_details_2['Name'] = \"Madhu\"\n",
    "print(emp_details_2, type(emp_details_2), id(emp_details_2))\n",
    "print(emp_details, type(emp_details), id(emp_details))"
   ]
  },
  {
   "cell_type": "code",
   "execution_count": 10,
   "id": "2cea1d9c-144c-42d7-837e-1c22117a1411",
   "metadata": {},
   "outputs": [
    {
     "name": "stdout",
     "output_type": "stream",
     "text": [
      "{}\n",
      "{'money': None, 'cost': None, 'item': None}\n"
     ]
    }
   ],
   "source": [
    "none_dict = dict()\n",
    "print(none_dict)\n",
    "\n",
    "seq_keys = [\"money\", \"cost\", \"item\"]\n",
    "\n",
    "none_dict = none_dict.fromkeys(seq_keys)\n",
    "print(none_dict)"
   ]
  },
  {
   "cell_type": "code",
   "execution_count": 14,
   "id": "13b97fdb-ccae-4688-aaf3-377e2140e2a2",
   "metadata": {},
   "outputs": [
    {
     "name": "stdout",
     "output_type": "stream",
     "text": [
      "{}\n",
      "{'money': 0, 'cost': 0, 'item': 0}\n"
     ]
    }
   ],
   "source": [
    "none_dict = dict()\n",
    "print(none_dict)\n",
    "\n",
    "seq_keys = [\"money\", \"cost\", \"item\"]\n",
    "\n",
    "none_dict = none_dict.fromkeys(seq_keys, 0)\n",
    "print(none_dict)"
   ]
  },
  {
   "cell_type": "code",
   "execution_count": 18,
   "id": "cf1ed8eb-49e0-400a-8e56-d70f58efe731",
   "metadata": {},
   "outputs": [
    {
     "name": "stdout",
     "output_type": "stream",
     "text": [
      "{}\n",
      "{'R': 2.25, 'Y': 2.25, 'B': 2.25}\n"
     ]
    }
   ],
   "source": [
    "none_dict = dict()\n",
    "print(none_dict)\n",
    "\n",
    "# Setting color strengths with default value.\n",
    "none_dict = none_dict.fromkeys(\"RYBR\", 2.25)\n",
    "print(none_dict)"
   ]
  },
  {
   "cell_type": "code",
   "execution_count": 43,
   "id": "554b4406-3c0f-497a-84ea-8d6355dd8613",
   "metadata": {},
   "outputs": [
    {
     "name": "stdout",
     "output_type": "stream",
     "text": [
      "0     7\n",
      "1     9\n",
      "2     8\n",
      "3     9\n",
      "4     2\n",
      "5    22\n",
      "6     0\n",
      "7     8\n",
      "8     8\n",
      "dtype: int64 <class 'pandas.core.series.Series'>\n",
      "The statistical report at input side: {'mean': None, 'median': None, 'mode': None, 'max': None, 'min': None}\n",
      "The final statistical reports are: {'mean': 8.11111111111111, 'median': 8.0, 'mode': 0    8\n",
      "dtype: int64, 'max': 22, 'min': 0}\n"
     ]
    },
    {
     "name": "stdin",
     "output_type": "stream",
     "text": [
      "Enter the list of statistical keys with spaces: mean media max\n"
     ]
    },
    {
     "name": "stdout",
     "output_type": "stream",
     "text": [
      "8.11111111111111\n"
     ]
    },
    {
     "ename": "KeyError",
     "evalue": "'media'",
     "output_type": "error",
     "traceback": [
      "\u001b[1;31m---------------------------------------------------------------------------\u001b[0m",
      "\u001b[1;31mKeyError\u001b[0m                                  Traceback (most recent call last)",
      "Cell \u001b[1;32mIn[43], line 24\u001b[0m\n\u001b[0;32m     22\u001b[0m req_value \u001b[38;5;241m=\u001b[39m \u001b[38;5;28minput\u001b[39m(\u001b[38;5;124m\"\u001b[39m\u001b[38;5;124mEnter the list of statistical keys with spaces:\u001b[39m\u001b[38;5;124m\"\u001b[39m)\u001b[38;5;241m.\u001b[39msplit()\n\u001b[0;32m     23\u001b[0m \u001b[38;5;28;01mfor\u001b[39;00m key \u001b[38;5;129;01min\u001b[39;00m req_value:\n\u001b[1;32m---> 24\u001b[0m     \u001b[38;5;28mprint\u001b[39m(statistical_reports[key])\n",
      "\u001b[1;31mKeyError\u001b[0m: 'media'"
     ]
    }
   ],
   "source": [
    "import pandas as pd\n",
    "\n",
    "statistical_reports = dict()\n",
    "\n",
    "data = [7, 9, 8, 9, 2, 22, 0, 8, 8]\n",
    "data = pd.Series(data)\n",
    "print(data, type(data))\n",
    "\n",
    "report_keys = ['mean', \"median\", 'mode', 'max', 'min']\n",
    "statistical_reports = statistical_reports.fromkeys(report_keys)\n",
    "print(f\"The statistical report at input side: {statistical_reports}\")\n",
    "\n",
    "# Pipeline starting point.\n",
    "# caliculating mean\n",
    "statistical_reports['mean'] = data.mean()\n",
    "statistical_reports['median'] = data.median()\n",
    "statistical_reports['mode'] = data.mode()\n",
    "statistical_reports['max'] = data.max()\n",
    "statistical_reports['min'] = data.min()\n",
    "print(f\"The final statistical reports are: {statistical_reports}\")\n",
    "\n",
    "req_value = input(\"Enter the list of statistical keys with spaces:\").split()\n",
    "for key in req_value:\n",
    "    #print(statistical_reports[key])\n",
    "    print(statistical_reports.get(key, f\"ERROR: The specified '{key}' key is not existed\"))"
   ]
  },
  {
   "cell_type": "code",
   "execution_count": 29,
   "id": "5cb5b6d4-f386-47c2-8085-ff229d2ad2a7",
   "metadata": {},
   "outputs": [
    {
     "data": {
      "text/plain": [
       "8.11111111111111"
      ]
     },
     "execution_count": 29,
     "metadata": {},
     "output_type": "execute_result"
    }
   ],
   "source": [
    "statistical_reports.get(\"mean\")"
   ]
  },
  {
   "cell_type": "code",
   "execution_count": 30,
   "id": "7c059f85-701a-4c2b-803f-a2ea29db05f4",
   "metadata": {},
   "outputs": [],
   "source": [
    "statistical_reports.get(\"meanr\")"
   ]
  },
  {
   "cell_type": "code",
   "execution_count": 32,
   "id": "dd42ae2a-139a-4e57-815e-fcc6e40a488c",
   "metadata": {},
   "outputs": [
    {
     "data": {
      "text/plain": [
       "'Error: Key is not existed'"
      ]
     },
     "execution_count": 32,
     "metadata": {},
     "output_type": "execute_result"
    }
   ],
   "source": [
    "statistical_reports.get(\"meanr\", \"Error: Key is not existed\")"
   ]
  },
  {
   "cell_type": "code",
   "execution_count": 35,
   "id": "c833f0db-f3aa-4038-979e-3b898e4c1408",
   "metadata": {},
   "outputs": [
    {
     "data": {
      "text/plain": [
       "8.11111111111111"
      ]
     },
     "execution_count": 35,
     "metadata": {},
     "output_type": "execute_result"
    }
   ],
   "source": [
    "statistical_reports.get(\"mean\", \"Error: Key is not existed\")"
   ]
  },
  {
   "cell_type": "code",
   "execution_count": 33,
   "id": "42108d77-4537-4b34-9c24-f50d4082869b",
   "metadata": {},
   "outputs": [
    {
     "data": {
      "text/plain": [
       "8.11111111111111"
      ]
     },
     "execution_count": 33,
     "metadata": {},
     "output_type": "execute_result"
    }
   ],
   "source": [
    "statistical_reports[\"mean\"]"
   ]
  },
  {
   "cell_type": "code",
   "execution_count": 34,
   "id": "9814b30e-26f4-4532-b0c0-550598bb7815",
   "metadata": {},
   "outputs": [
    {
     "ename": "KeyError",
     "evalue": "'meanr'",
     "output_type": "error",
     "traceback": [
      "\u001b[1;31m---------------------------------------------------------------------------\u001b[0m",
      "\u001b[1;31mKeyError\u001b[0m                                  Traceback (most recent call last)",
      "Cell \u001b[1;32mIn[34], line 1\u001b[0m\n\u001b[1;32m----> 1\u001b[0m statistical_reports[\u001b[38;5;124m\"\u001b[39m\u001b[38;5;124mmeanr\u001b[39m\u001b[38;5;124m\"\u001b[39m]\n",
      "\u001b[1;31mKeyError\u001b[0m: 'meanr'"
     ]
    }
   ],
   "source": [
    "statistical_reports[\"meanr\"]"
   ]
  },
  {
   "cell_type": "code",
   "execution_count": 1,
   "id": "a2589afd-0b35-4192-873e-a0c0852b9933",
   "metadata": {},
   "outputs": [
    {
     "name": "stdout",
     "output_type": "stream",
     "text": [
      "dict_items([('Name', 'Priya'), ('age', 24), ('sal', 2000000)])\n"
     ]
    }
   ],
   "source": [
    "emp_details = {\"Name\": \"Priya\", \"age\": 24, \"sal\": 2000000}\n",
    "print(emp_details.items())"
   ]
  },
  {
   "cell_type": "code",
   "execution_count": 2,
   "id": "c6d5c3d8-cd1c-444e-8fd1-ee7d1f0175e7",
   "metadata": {},
   "outputs": [
    {
     "ename": "TypeError",
     "evalue": "'dict_items' object is not subscriptable",
     "output_type": "error",
     "traceback": [
      "\u001b[1;31m---------------------------------------------------------------------------\u001b[0m",
      "\u001b[1;31mTypeError\u001b[0m                                 Traceback (most recent call last)",
      "Cell \u001b[1;32mIn[2], line 1\u001b[0m\n\u001b[1;32m----> 1\u001b[0m \u001b[38;5;28mprint\u001b[39m(emp_details\u001b[38;5;241m.\u001b[39mitems()[\u001b[38;5;241m0\u001b[39m])\n",
      "\u001b[1;31mTypeError\u001b[0m: 'dict_items' object is not subscriptable"
     ]
    }
   ],
   "source": [
    "print(emp_details.items()[0])"
   ]
  },
  {
   "cell_type": "code",
   "execution_count": 4,
   "id": "8b10dc06-2764-44bb-8663-2ec046cf70b0",
   "metadata": {},
   "outputs": [
    {
     "name": "stdout",
     "output_type": "stream",
     "text": [
      "Name Priya\n",
      "age 24\n",
      "sal 2000000\n"
     ]
    }
   ],
   "source": [
    "for key, value in emp_details.items():\n",
    "    print(key, value)"
   ]
  },
  {
   "cell_type": "code",
   "execution_count": 5,
   "id": "a47cb7f6-7887-4af9-84be-478dd8acbeab",
   "metadata": {},
   "outputs": [
    {
     "name": "stdout",
     "output_type": "stream",
     "text": [
      "dict_keys(['Name', 'age', 'sal'])\n"
     ]
    }
   ],
   "source": [
    "print(emp_details.keys())"
   ]
  },
  {
   "cell_type": "code",
   "execution_count": 7,
   "id": "b119854c-f552-4fb8-a581-bc441e9d509e",
   "metadata": {},
   "outputs": [
    {
     "data": {
      "text/plain": [
       "False"
      ]
     },
     "execution_count": 7,
     "metadata": {},
     "output_type": "execute_result"
    }
   ],
   "source": [
    "'name' in emp_details.keys()"
   ]
  },
  {
   "cell_type": "code",
   "execution_count": 8,
   "id": "7200d3ac-48c7-4a98-8b41-72f159cd3b82",
   "metadata": {},
   "outputs": [
    {
     "name": "stdout",
     "output_type": "stream",
     "text": [
      "dict_values(['Priya', 24, 2000000])\n"
     ]
    }
   ],
   "source": [
    "print(emp_details.values())"
   ]
  },
  {
   "cell_type": "code",
   "execution_count": 13,
   "id": "8edc3e3e-86ab-4d16-aa87-dd1ee05a4339",
   "metadata": {},
   "outputs": [
    {
     "name": "stdout",
     "output_type": "stream",
     "text": [
      "{'age': 24, 'sal': 2000000}\n"
     ]
    }
   ],
   "source": [
    "emp_details = {\"Name\": \"Priya\", \"age\": 24, \"sal\": 2000000}\n",
    "emp_details.pop(\"Name\")\n",
    "print(emp_details)"
   ]
  },
  {
   "cell_type": "code",
   "execution_count": 10,
   "id": "185aa422-65f3-4df7-b57f-e22319a66a4c",
   "metadata": {},
   "outputs": [
    {
     "ename": "KeyError",
     "evalue": "'Name'",
     "output_type": "error",
     "traceback": [
      "\u001b[1;31m---------------------------------------------------------------------------\u001b[0m",
      "\u001b[1;31mKeyError\u001b[0m                                  Traceback (most recent call last)",
      "Cell \u001b[1;32mIn[10], line 1\u001b[0m\n\u001b[1;32m----> 1\u001b[0m emp_details\u001b[38;5;241m.\u001b[39mpop(\u001b[38;5;124m\"\u001b[39m\u001b[38;5;124mName\u001b[39m\u001b[38;5;124m\"\u001b[39m)\n\u001b[0;32m      2\u001b[0m \u001b[38;5;28mprint\u001b[39m(emp_details)\n",
      "\u001b[1;31mKeyError\u001b[0m: 'Name'"
     ]
    }
   ],
   "source": [
    "emp_details.pop(\"Name\")\n",
    "print(emp_details)"
   ]
  },
  {
   "cell_type": "code",
   "execution_count": 19,
   "id": "1fa9904a-7d69-4447-a6ac-7fa89403d433",
   "metadata": {},
   "outputs": [
    {
     "name": "stdout",
     "output_type": "stream",
     "text": [
      "{'age': 24, 'sal': 2000000}\n",
      "Key not found\n"
     ]
    }
   ],
   "source": [
    "key = \"Name\"\n",
    "print(emp_details)\n",
    "print(emp_details.pop(key, \"Key not found\"))"
   ]
  },
  {
   "cell_type": "code",
   "execution_count": 26,
   "id": "e1ff9b7e-13ce-44b9-8754-10d4f78b96c5",
   "metadata": {},
   "outputs": [
    {
     "name": "stdout",
     "output_type": "stream",
     "text": [
      "{'age': 24, 'sal': 2000000}\n",
      "('sal', 2000000)\n",
      "{'age': 24}\n"
     ]
    }
   ],
   "source": [
    "print(emp_details)\n",
    "print(emp_details.popitem())\n",
    "print(emp_details)"
   ]
  },
  {
   "cell_type": "code",
   "execution_count": 28,
   "id": "83ab947d-2f56-4e8f-b21f-a01b938f42b5",
   "metadata": {},
   "outputs": [
    {
     "name": "stdout",
     "output_type": "stream",
     "text": [
      "{'age': 24}\n",
      "{'age': 24, 'Name': 'Priya'}\n"
     ]
    }
   ],
   "source": [
    "print(emp_details)\n",
    "emp_details[\"Name\"] = \"Priya\"\n",
    "print(emp_details)"
   ]
  },
  {
   "cell_type": "code",
   "execution_count": 29,
   "id": "bf7de69d-4b1e-4b08-b21b-6585910f4921",
   "metadata": {},
   "outputs": [
    {
     "name": "stdout",
     "output_type": "stream",
     "text": [
      "{'age': 24, 'Name': 'Madhu'}\n"
     ]
    }
   ],
   "source": [
    "emp_details[\"Name\"] = \"Madhu\"\n",
    "print(emp_details)"
   ]
  },
  {
   "cell_type": "code",
   "execution_count": 31,
   "id": "36d8f61d-610a-4d05-ac79-20e7c7e31bc7",
   "metadata": {},
   "outputs": [
    {
     "name": "stdout",
     "output_type": "stream",
     "text": [
      "Madhu\n",
      "{'age': 24, 'Name': 'Madhu'}\n"
     ]
    }
   ],
   "source": [
    "print(emp_details.setdefault(\"Name\", \"VJ\"))\n",
    "print(emp_details)"
   ]
  },
  {
   "cell_type": "code",
   "execution_count": 32,
   "id": "66c69e39-d5ee-439f-9d49-6fa7cab0c011",
   "metadata": {},
   "outputs": [
    {
     "name": "stdout",
     "output_type": "stream",
     "text": [
      "VJ\n",
      "{'age': 24, 'Name': 'Madhu', 'Friend': 'VJ'}\n"
     ]
    }
   ],
   "source": [
    "print(emp_details.setdefault(\"Friend\", \"VJ\"))\n",
    "print(emp_details)\n"
   ]
  },
  {
   "cell_type": "code",
   "execution_count": 35,
   "id": "caa1520d-2de9-444d-bf90-4997570fb51c",
   "metadata": {},
   "outputs": [
    {
     "name": "stdout",
     "output_type": "stream",
     "text": [
      "{'age': 24, 'Name': 'Madhu', 'Friend': 'VJ', 'pincode': 533211}\n"
     ]
    }
   ],
   "source": [
    "new_details = [(\"pincode\", 533211)]\n",
    "emp_details.update(new_details)\n",
    "print(emp_details)"
   ]
  },
  {
   "cell_type": "code",
   "execution_count": 36,
   "id": "9e6cdf42-6d35-4104-804b-872d64c6b882",
   "metadata": {},
   "outputs": [
    {
     "name": "stdout",
     "output_type": "stream",
     "text": [
      "{'age': 24, 'Name': 'Madhu', 'Friend': 'Kiran', 'pincode': 533211}\n"
     ]
    }
   ],
   "source": [
    "new_details = [(\"Friend\", \"Kiran\")]\n",
    "emp_details.update(new_details)\n",
    "print(emp_details)"
   ]
  },
  {
   "cell_type": "code",
   "execution_count": null,
   "id": "ef5259fb-d535-4496-b536-6328a52e4e1e",
   "metadata": {},
   "outputs": [],
   "source": []
  }
 ],
 "metadata": {
  "kernelspec": {
   "display_name": "Python 3 (ipykernel)",
   "language": "python",
   "name": "python3"
  },
  "language_info": {
   "codemirror_mode": {
    "name": "ipython",
    "version": 3
   },
   "file_extension": ".py",
   "mimetype": "text/x-python",
   "name": "python",
   "nbconvert_exporter": "python",
   "pygments_lexer": "ipython3",
   "version": "3.11.7"
  }
 },
 "nbformat": 4,
 "nbformat_minor": 5
}
