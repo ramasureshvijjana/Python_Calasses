{
 "cells": [
  {
   "cell_type": "markdown",
   "id": "4c065528-7ef0-4349-aabf-04a15977f264",
   "metadata": {},
   "source": [
    "# Operators"
   ]
  },
  {
   "cell_type": "markdown",
   "id": "4fbc7e4b-5d87-44ef-914a-b7ab02fb989f",
   "metadata": {},
   "source": [
    "## 1. Arthametic Operators"
   ]
  },
  {
   "cell_type": "code",
   "execution_count": 1,
   "id": "814165cf-73ef-4202-8134-8b5ed1747348",
   "metadata": {},
   "outputs": [
    {
     "name": "stdout",
     "output_type": "stream",
     "text": [
      "32000\n"
     ]
    }
   ],
   "source": [
    "sal_jan = 15000\n",
    "sal_feb = 17000\n",
    "\n",
    "print(sal_jan + sal_feb)"
   ]
  },
  {
   "cell_type": "code",
   "execution_count": 2,
   "id": "fae4696a-9842-4c08-bd87-f5e009413cfc",
   "metadata": {},
   "outputs": [
    {
     "name": "stdout",
     "output_type": "stream",
     "text": [
      "-2000\n"
     ]
    }
   ],
   "source": [
    "sal_jan = 15000\n",
    "sal_feb = 17000\n",
    "\n",
    "print(sal_jan - sal_feb)"
   ]
  },
  {
   "cell_type": "code",
   "execution_count": 3,
   "id": "76f67146-b3d4-49ca-8c57-be0f59770fd1",
   "metadata": {},
   "outputs": [
    {
     "name": "stdout",
     "output_type": "stream",
     "text": [
      "6.5\n"
     ]
    }
   ],
   "source": [
    "age = 26\n",
    "stages = 4\n",
    "\n",
    "print(age / stages)"
   ]
  },
  {
   "cell_type": "code",
   "execution_count": 4,
   "id": "260689f7-7397-4669-8018-a900db4650c2",
   "metadata": {},
   "outputs": [
    {
     "name": "stdout",
     "output_type": "stream",
     "text": [
      "6\n"
     ]
    }
   ],
   "source": [
    "age = 26\n",
    "stages = 4\n",
    "\n",
    "print(age // stages)"
   ]
  },
  {
   "cell_type": "code",
   "execution_count": 6,
   "id": "65b216d3-fed5-4a3d-a331-c99f810167b4",
   "metadata": {},
   "outputs": [
    {
     "name": "stdout",
     "output_type": "stream",
     "text": [
      "1\n"
     ]
    }
   ],
   "source": [
    "age = 26\n",
    "stages = 4\n",
    "\n",
    "print(age % stages)"
   ]
  },
  {
   "cell_type": "code",
   "execution_count": 7,
   "id": "e4a7aa53-6b5f-4a4e-8c2a-e4eb66f6eae0",
   "metadata": {},
   "outputs": [
    {
     "name": "stdout",
     "output_type": "stream",
     "text": [
      "45000\n"
     ]
    }
   ],
   "source": [
    "sal = 15000\n",
    "incriment_factor = 3\n",
    "\n",
    "print(sal * incriment_factor)"
   ]
  },
  {
   "cell_type": "code",
   "execution_count": 1,
   "id": "0754660d-5329-41ae-8b47-1635c93c1d55",
   "metadata": {},
   "outputs": [
    {
     "name": "stdout",
     "output_type": "stream",
     "text": [
      "10715086071862673209484250490600018105614048117055336074437503883703510511249361224931983788156958581275946729175531468251871452856923140435984577574698574803934567774824230985421074605062371141877954182153046474983581941267398767559165543946077062914571196477686542167660429831652624386837205668069376\n"
     ]
    }
   ],
   "source": [
    "base_num = 2\n",
    "power = 1000\n",
    "\n",
    "print(base_num ** power) # 2 * 2* 2 *2"
   ]
  },
  {
   "cell_type": "markdown",
   "id": "ab6f3a38-7e2e-4be8-8f8f-881420c8848c",
   "metadata": {},
   "source": [
    "## 2.Compersion operatos"
   ]
  },
  {
   "cell_type": "code",
   "execution_count": 3,
   "id": "dd6ba205-17d8-4089-a3a7-c0f7e68d5622",
   "metadata": {},
   "outputs": [
    {
     "name": "stdout",
     "output_type": "stream",
     "text": [
      "Is he eligible for vote: False \n"
     ]
    }
   ],
   "source": [
    "age = 12\n",
    "vote_cutoff = 18\n",
    "\n",
    "print(f\"Is he eligible for vote: {age > vote_cutoff} \")"
   ]
  },
  {
   "cell_type": "code",
   "execution_count": 4,
   "id": "39469f19-623c-4670-88e5-fef514f7745e",
   "metadata": {},
   "outputs": [
    {
     "name": "stdout",
     "output_type": "stream",
     "text": [
      "Is he kid: False \n"
     ]
    }
   ],
   "source": [
    "age = 11\n",
    "kid_cutoff = 10\n",
    "\n",
    "print(f\"Is he kid: {age < kid_cutoff} \")"
   ]
  },
  {
   "cell_type": "code",
   "execution_count": 8,
   "id": "56edee0c-1911-4af2-ae4f-c2b39497d7b5",
   "metadata": {},
   "outputs": [
    {
     "name": "stdout",
     "output_type": "stream",
     "text": [
      "Is he eligible for vote: True \n"
     ]
    }
   ],
   "source": [
    "age = 18\n",
    "vote_cutoff = 18\n",
    "\n",
    "print(f\"Is he eligible for vote: {age >= vote_cutoff} \")"
   ]
  },
  {
   "cell_type": "code",
   "execution_count": 11,
   "id": "cdcdf97d-8260-42f4-b0db-a8da019511c3",
   "metadata": {},
   "outputs": [
    {
     "name": "stdout",
     "output_type": "stream",
     "text": [
      "Is he kid: True \n"
     ]
    }
   ],
   "source": [
    "age = 10\n",
    "kid_cutoff = 10\n",
    "\n",
    "print(f\"Is he kid: {age <= kid_cutoff} \")"
   ]
  },
  {
   "cell_type": "markdown",
   "id": "d4672c71-7ab1-4332-904b-56aae84cdbee",
   "metadata": {},
   "source": [
    "## 3. Assignment Oerators"
   ]
  },
  {
   "cell_type": "code",
   "execution_count": 18,
   "id": "e4968ebb-bb19-42af-b004-da9eb0ced17c",
   "metadata": {},
   "outputs": [
    {
     "name": "stdout",
     "output_type": "stream",
     "text": [
      "20\n"
     ]
    }
   ],
   "source": [
    "age = 20\n",
    "print(age)"
   ]
  },
  {
   "cell_type": "code",
   "execution_count": 19,
   "id": "ef1ba9e9-989f-400e-82a0-568f0d61ab88",
   "metadata": {},
   "outputs": [
    {
     "name": "stdout",
     "output_type": "stream",
     "text": [
      "23\n"
     ]
    }
   ],
   "source": [
    "age += 3 # age = age + 3\n",
    "\n",
    "print(age)"
   ]
  },
  {
   "cell_type": "code",
   "execution_count": 20,
   "id": "fb75fdc9-5905-4ff3-a20a-81ce9eaf27d8",
   "metadata": {},
   "outputs": [
    {
     "name": "stdout",
     "output_type": "stream",
     "text": [
      "20\n",
      "<class 'int'>\n"
     ]
    }
   ],
   "source": [
    "age -= 3 # age = age - 3\n",
    "\n",
    "print(age)\n",
    "print(type(age))"
   ]
  },
  {
   "cell_type": "code",
   "execution_count": 21,
   "id": "9dc6ba3b-de48-4b81-931c-814a4306eb5e",
   "metadata": {},
   "outputs": [
    {
     "name": "stdout",
     "output_type": "stream",
     "text": [
      "10.0\n",
      "<class 'float'>\n"
     ]
    }
   ],
   "source": [
    "age /= 2 # age = age / 2\n",
    "\n",
    "print(age)\n",
    "print(type(age))"
   ]
  },
  {
   "cell_type": "code",
   "execution_count": 22,
   "id": "f48aaf56-297f-4655-97e2-b30f055232f4",
   "metadata": {},
   "outputs": [
    {
     "name": "stdout",
     "output_type": "stream",
     "text": [
      "3.0\n"
     ]
    }
   ],
   "source": [
    "age //= 3 # age = age // 3\n",
    "\n",
    "print(age)"
   ]
  },
  {
   "cell_type": "markdown",
   "id": "c7662bc7-af72-4280-8eb0-6eb47cb4f4c3",
   "metadata": {},
   "source": [
    "## 4. ogical Operators"
   ]
  },
  {
   "cell_type": "code",
   "execution_count": 26,
   "id": "7e146f2f-ea14-4803-bd62-ab9bc3468a57",
   "metadata": {},
   "outputs": [
    {
     "name": "stdout",
     "output_type": "stream",
     "text": [
      "Is he young boy: False\n"
     ]
    }
   ],
   "source": [
    "age = 30\n",
    "min_young_age_cutoff = 20\n",
    "max_young_age_cutoff = 29\n",
    "\n",
    "print(f\"Is he young boy: {age >= min_young_age_cutoff and age <= max_young_age_cutoff}\")"
   ]
  },
  {
   "cell_type": "code",
   "execution_count": 31,
   "id": "b6dd7d1f-3bd8-4db6-99c7-d3cd476c9816",
   "metadata": {},
   "outputs": [
    {
     "name": "stdin",
     "output_type": "stream",
     "text": [
      "Enter User name:  vj\n",
      "Enter password:  rrr\n"
     ]
    },
    {
     "name": "stdout",
     "output_type": "stream",
     "text": [
      "Go to next page: True\n"
     ]
    }
   ],
   "source": [
    "user_name = input(\"Enter User name: \") # vj\n",
    "password = input(\"Enter password: \") # rrr\n",
    "\n",
    "print(f\"Go to next page: {user_name == 'vj' or password ==  'rrr'}\")"
   ]
  },
  {
   "cell_type": "code",
   "execution_count": 35,
   "id": "b23f44eb-8367-4b48-9323-3d8f750e9419",
   "metadata": {},
   "outputs": [
    {
     "name": "stdout",
     "output_type": "stream",
     "text": [
      "Is he young boy: True\n"
     ]
    }
   ],
   "source": [
    "age = 30\n",
    "min_young_age_cutoff = 20\n",
    "max_young_age_cutoff = 29\n",
    "\n",
    "print(f\"Is he young boy: { not (age >= min_young_age_cutoff and  age <= max_young_age_cutoff)}\")"
   ]
  },
  {
   "cell_type": "code",
   "execution_count": 36,
   "id": "7b279293-e502-4a0d-a6e0-d07728cd9166",
   "metadata": {},
   "outputs": [
    {
     "name": "stdin",
     "output_type": "stream",
     "text": [
      "Enter User name:  vj\n",
      "Enter password:  rrr\n"
     ]
    },
    {
     "name": "stdout",
     "output_type": "stream",
     "text": [
      "Go to next page: False\n"
     ]
    }
   ],
   "source": [
    "user_name = input(\"Enter User name: \") # vj\n",
    "password = input(\"Enter password: \") # rrr\n",
    "\n",
    "print(f\"Go to next page: {not (user_name == 'vj' or password ==  'rrr')}\")"
   ]
  },
  {
   "cell_type": "code",
   "execution_count": 56,
   "id": "1ecdd8b5-e81c-49b6-bb30-3da4c830d9a6",
   "metadata": {},
   "outputs": [
    {
     "name": "stdin",
     "output_type": "stream",
     "text": [
      "Enter Age:  29\n"
     ]
    },
    {
     "name": "stdout",
     "output_type": "stream",
     "text": [
      "Is kid : False\n",
      "Is teanager: False\n",
      "Is younger: True\n",
      "Is old False\n"
     ]
    }
   ],
   "source": [
    "age = int(input(\"Enter Age: \"))\n",
    "max_kid_cutoff = 10\n",
    "max_teanage_cutoff = 19\n",
    "max_young_cutoff = 29\n",
    "\n",
    "print(f\"\"\"Is kid : {age >= 0 and age <= max_kid_cutoff}\n",
    "Is teanager: {age > max_kid_cutoff and age <= max_teanage_cutoff}\n",
    "Is younger: {age > max_teanage_cutoff and age <= max_young_cutoff}\n",
    "Is old {age > max_young_cutoff}\"\"\")\n"
   ]
  },
  {
   "cell_type": "code",
   "execution_count": null,
   "id": "a292161e-4224-4b44-87aa-52996c0cf5d4",
   "metadata": {},
   "outputs": [],
   "source": [
    "user_name = input(\"Enter User name: \") # vj\n",
    "password = input(\"Enter password: \") # rrr\n",
    "\n",
    "Go to username reset page: {} \n",
    "Go to password reset page: {}\n",
    "Is login success: {}\n",
    "This is an error: {}"
   ]
  }
 ],
 "metadata": {
  "kernelspec": {
   "display_name": "Python 3 (ipykernel)",
   "language": "python",
   "name": "python3"
  },
  "language_info": {
   "codemirror_mode": {
    "name": "ipython",
    "version": 3
   },
   "file_extension": ".py",
   "mimetype": "text/x-python",
   "name": "python",
   "nbconvert_exporter": "python",
   "pygments_lexer": "ipython3",
   "version": "3.11.7"
  }
 },
 "nbformat": 4,
 "nbformat_minor": 5
}
