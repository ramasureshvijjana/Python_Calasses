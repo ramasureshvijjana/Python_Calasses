{
 "cells": [
  {
   "cell_type": "markdown",
   "id": "3ca8f9e7-8e91-42dc-ae18-ad5feeb0d52d",
   "metadata": {},
   "source": [
    "# 1. Pass"
   ]
  },
  {
   "cell_type": "code",
   "execution_count": 2,
   "id": "d3c8dc8d-e184-4150-b64c-171c694ffab3",
   "metadata": {},
   "outputs": [
    {
     "name": "stdout",
     "output_type": "stream",
     "text": [
      "11\n",
      "Befor pass\n",
      "Befor pass\n",
      "15\n",
      "14\n",
      "13\n",
      "18\n"
     ]
    }
   ],
   "source": [
    "student_ages = [11,15,14,13,18]\n",
    "\n",
    "for student_ages_value in student_ages:\n",
    "    if student_ages_value == 15:\n",
    "        print(\"Befor pass\")\n",
    "        pass\n",
    "        print(\"Befor pass\")\n",
    "    print(student_ages_value)"
   ]
  },
  {
   "cell_type": "code",
   "execution_count": 4,
   "id": "543e6cfd-633b-4dfb-96eb-a525a42470b2",
   "metadata": {},
   "outputs": [
    {
     "name": "stdout",
     "output_type": "stream",
     "text": [
      "11\n",
      "15\n",
      "14\n",
      "13\n",
      "18\n"
     ]
    }
   ],
   "source": [
    "student_ages = [11,15,14,13,18]\n",
    "\n",
    "for student_ages_value in student_ages:\n",
    "    if student_ages_value == 15:\n",
    "        pass\n",
    "    print(student_ages_value)"
   ]
  },
  {
   "cell_type": "markdown",
   "id": "2ae28f8b-74c1-4583-a858-467023a2e187",
   "metadata": {},
   "source": [
    "## 2. Break"
   ]
  },
  {
   "cell_type": "code",
   "execution_count": 5,
   "id": "e0e3e9ae-605e-4cba-91d1-50fcc0c4412c",
   "metadata": {},
   "outputs": [
    {
     "name": "stdout",
     "output_type": "stream",
     "text": [
      "11\n",
      "15\n"
     ]
    }
   ],
   "source": [
    "student_ages = [11,15,14,13,18]\n",
    "\n",
    "for student_ages_value in student_ages:\n",
    "    if student_ages_value == 14:\n",
    "        break\n",
    "    print(student_ages_value)\n",
    "# 14 breaks the loop and will come to here"
   ]
  },
  {
   "cell_type": "code",
   "execution_count": 6,
   "id": "24109d92-41c5-46c9-9c04-217c818599f4",
   "metadata": {},
   "outputs": [
    {
     "name": "stdout",
     "output_type": "stream",
     "text": [
      "11\n",
      "15\n",
      "14\n",
      "13\n",
      "18\n",
      "Loop ended\n"
     ]
    }
   ],
   "source": [
    "student_ages = [11,15,14,13,18]\n",
    "\n",
    "for student_ages_value in student_ages:\n",
    "    if student_ages_value == 20:\n",
    "        break\n",
    "    print(student_ages_value)\n",
    "else:\n",
    "    print(\"Loop ended\")\n",
    "# 14 breaks the loop and will come to here"
   ]
  },
  {
   "cell_type": "code",
   "execution_count": 7,
   "id": "1be59146-a7bf-4ade-977b-4075a8985c84",
   "metadata": {},
   "outputs": [
    {
     "name": "stdout",
     "output_type": "stream",
     "text": [
      "11\n",
      "15\n"
     ]
    }
   ],
   "source": [
    "student_ages = [11,15,14,13,18]\n",
    "\n",
    "for student_ages_value in student_ages:\n",
    "    if student_ages_value == 14:\n",
    "        break\n",
    "    print(student_ages_value)\n",
    "else:\n",
    "    print(\"Loop ended\")\n",
    "# 14 breaks the loop and will come to here"
   ]
  },
  {
   "cell_type": "code",
   "execution_count": 12,
   "id": "967d8a4e-11fb-4666-bce9-3578a53638c4",
   "metadata": {},
   "outputs": [
    {
     "name": "stdout",
     "output_type": "stream",
     "text": [
      "age\n",
      "11\n",
      "age\n",
      "15\n",
      "age\n",
      "age\n",
      "13\n",
      "age\n",
      "18\n",
      "Loop ended\n"
     ]
    }
   ],
   "source": [
    "student_ages = [11,15,14,13,18]\n",
    "\n",
    "for student_ages_value in student_ages:\n",
    "    print(\"age\")\n",
    "    if student_ages_value == 14:\n",
    "        continue\n",
    "    print(student_ages_value)\n",
    "    # 1000\n",
    "else:\n",
    "    print(\"Loop ended\")\n",
    "# 14 breaks the loop and will come to here"
   ]
  },
  {
   "cell_type": "code",
   "execution_count": null,
   "id": "4ea504d7-f71f-45b6-8aea-c159bcf3f250",
   "metadata": {},
   "outputs": [],
   "source": []
  }
 ],
 "metadata": {
  "kernelspec": {
   "display_name": "Python 3 (ipykernel)",
   "language": "python",
   "name": "python3"
  },
  "language_info": {
   "codemirror_mode": {
    "name": "ipython",
    "version": 3
   },
   "file_extension": ".py",
   "mimetype": "text/x-python",
   "name": "python",
   "nbconvert_exporter": "python",
   "pygments_lexer": "ipython3",
   "version": "3.11.7"
  }
 },
 "nbformat": 4,
 "nbformat_minor": 5
}
