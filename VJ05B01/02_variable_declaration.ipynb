{
 "cells": [
  {
   "cell_type": "markdown",
   "id": "4e765fb0-b639-4497-b0c8-1c4e76c45e1e",
   "metadata": {},
   "source": [
    "# Variable Declaration"
   ]
  },
  {
   "cell_type": "code",
   "execution_count": 6,
   "id": "1eb0536b-9087-4e93-929c-1f3de65416d6",
   "metadata": {},
   "outputs": [
    {
     "name": "stdout",
     "output_type": "stream",
     "text": [
      "140737230521416\n"
     ]
    }
   ],
   "source": [
    "rupees = 10\n",
    "print( id(rupees) )\n"
   ]
  },
  {
   "cell_type": "code",
   "execution_count": 7,
   "id": "b16dfcab-9439-44cb-accb-b0c096a15531",
   "metadata": {},
   "outputs": [
    {
     "name": "stdout",
     "output_type": "stream",
     "text": [
      "10\n"
     ]
    }
   ],
   "source": [
    "print(rupees)"
   ]
  },
  {
   "cell_type": "code",
   "execution_count": 8,
   "id": "b926a191-e53e-4ad2-bfd4-885a351a97b8",
   "metadata": {},
   "outputs": [
    {
     "name": "stdout",
     "output_type": "stream",
     "text": [
      "2653395335856\n",
      "Hyderabad\n"
     ]
    }
   ],
   "source": [
    "address = \"Hyderabad\"\n",
    "print( id(address) )\n",
    "print(address)"
   ]
  },
  {
   "cell_type": "code",
   "execution_count": 9,
   "id": "729b3e18-3f07-4d03-ab31-823bd155ce87",
   "metadata": {},
   "outputs": [
    {
     "name": "stdout",
     "output_type": "stream",
     "text": [
      "140737230521736 2653395438576\n",
      "20 VJ\n"
     ]
    }
   ],
   "source": [
    "rupees = 20\n",
    "name = \"VJ\"\n",
    "print( id(rupees), id(name))\n",
    "print(rupees, name)"
   ]
  },
  {
   "cell_type": "code",
   "execution_count": 10,
   "id": "42888b6a-408e-4bdc-b4a3-34f708085369",
   "metadata": {},
   "outputs": [
    {
     "name": "stdout",
     "output_type": "stream",
     "text": [
      "20\n",
      "140737230521736\n"
     ]
    }
   ],
   "source": [
    "rupees = 20\n",
    "print(rupees)\n",
    "print(id(rupees))"
   ]
  },
  {
   "cell_type": "code",
   "execution_count": 11,
   "id": "8104d3b6-e5d1-4314-9e77-6d30183c632b",
   "metadata": {},
   "outputs": [
    {
     "name": "stdout",
     "output_type": "stream",
     "text": [
      "10\n",
      "140737230521416\n"
     ]
    }
   ],
   "source": [
    "rupees = 10\n",
    "print(rupees)\n",
    "print(id(rupees))"
   ]
  },
  {
   "cell_type": "code",
   "execution_count": 12,
   "id": "80309e54-8b46-4ddf-86aa-62d535435323",
   "metadata": {},
   "outputs": [
    {
     "name": "stdout",
     "output_type": "stream",
     "text": [
      "20\n",
      "140737230521736\n"
     ]
    }
   ],
   "source": [
    "rupees = 20\n",
    "print(rupees)\n",
    "print(id(rupees))"
   ]
  },
  {
   "cell_type": "code",
   "execution_count": 13,
   "id": "90fe62a2-9390-4852-a4fc-be8c8ff6f1f9",
   "metadata": {},
   "outputs": [
    {
     "name": "stdout",
     "output_type": "stream",
     "text": [
      "140737230521928 140737230521928\n"
     ]
    }
   ],
   "source": [
    "age_1, age_2 = 26, 26\n",
    "\n",
    "print( id(age_1), id(age_2))"
   ]
  },
  {
   "cell_type": "code",
   "execution_count": 21,
   "id": "35f89c99-2a2f-4d05-a2c1-7d885e7a23fb",
   "metadata": {},
   "outputs": [
    {
     "name": "stdout",
     "output_type": "stream",
     "text": [
      "VJ VJ\n",
      "2653395438576 2653395438576\n"
     ]
    }
   ],
   "source": [
    "name_1 = name_2 = \"VJ\"\n",
    "print(name_1, name_2)\n",
    "print( id(name_1), id(name_2))"
   ]
  },
  {
   "cell_type": "code",
   "execution_count": 22,
   "id": "574011fd-399f-4b86-8ce6-52c997eaea9e",
   "metadata": {},
   "outputs": [
    {
     "ename": "SyntaxError",
     "evalue": "invalid decimal literal (837409495.py, line 1)",
     "output_type": "error",
     "traceback": [
      "\u001b[1;36m  Cell \u001b[1;32mIn[22], line 1\u001b[1;36m\u001b[0m\n\u001b[1;33m    1age = 26\u001b[0m\n\u001b[1;37m    ^\u001b[0m\n\u001b[1;31mSyntaxError\u001b[0m\u001b[1;31m:\u001b[0m invalid decimal literal\n"
     ]
    }
   ],
   "source": [
    "1age = 26"
   ]
  },
  {
   "cell_type": "code",
   "execution_count": 24,
   "id": "853da145-7da8-4e72-a4cb-79db2deba6f4",
   "metadata": {},
   "outputs": [
    {
     "ename": "SyntaxError",
     "evalue": "invalid syntax (795442124.py, line 1)",
     "output_type": "error",
     "traceback": [
      "\u001b[1;36m  Cell \u001b[1;32mIn[24], line 1\u001b[1;36m\u001b[0m\n\u001b[1;33m    $age = 26\u001b[0m\n\u001b[1;37m    ^\u001b[0m\n\u001b[1;31mSyntaxError\u001b[0m\u001b[1;31m:\u001b[0m invalid syntax\n"
     ]
    }
   ],
   "source": [
    "$age = 26"
   ]
  },
  {
   "cell_type": "code",
   "execution_count": 25,
   "id": "bbe8c234-4857-4e6c-8949-875d16f812d5",
   "metadata": {},
   "outputs": [],
   "source": [
    "Age = 26"
   ]
  },
  {
   "cell_type": "code",
   "execution_count": 26,
   "id": "c02a5e4c-1d8f-48e2-afbb-14a3ad2350f3",
   "metadata": {},
   "outputs": [
    {
     "ename": "SyntaxError",
     "evalue": "invalid syntax (2231462377.py, line 1)",
     "output_type": "error",
     "traceback": [
      "\u001b[1;36m  Cell \u001b[1;32mIn[26], line 1\u001b[1;36m\u001b[0m\n\u001b[1;33m    sur name = \"VJ\"\u001b[0m\n\u001b[1;37m        ^\u001b[0m\n\u001b[1;31mSyntaxError\u001b[0m\u001b[1;31m:\u001b[0m invalid syntax\n"
     ]
    }
   ],
   "source": [
    "sur name = \"VJ\""
   ]
  },
  {
   "cell_type": "code",
   "execution_count": 27,
   "id": "896c6a02-34d4-4d11-834e-950ab2ed5273",
   "metadata": {},
   "outputs": [],
   "source": [
    "sur_name = \"VJ\""
   ]
  },
  {
   "cell_type": "code",
   "execution_count": 29,
   "id": "a0104a6f-2ef3-4a09-8afe-fc66a21e99e2",
   "metadata": {},
   "outputs": [
    {
     "name": "stdout",
     "output_type": "stream",
     "text": [
      "<class 'tuple'>\n"
     ]
    }
   ],
   "source": [
    "age_1 = 23,45,67\n",
    "\n",
    "print(type(age_1))"
   ]
  },
  {
   "cell_type": "code",
   "execution_count": null,
   "id": "c138ea64-3fe4-4f79-b160-2b74720286da",
   "metadata": {},
   "outputs": [],
   "source": []
  }
 ],
 "metadata": {
  "kernelspec": {
   "display_name": "Python 3 (ipykernel)",
   "language": "python",
   "name": "python3"
  },
  "language_info": {
   "codemirror_mode": {
    "name": "ipython",
    "version": 3
   },
   "file_extension": ".py",
   "mimetype": "text/x-python",
   "name": "python",
   "nbconvert_exporter": "python",
   "pygments_lexer": "ipython3",
   "version": "3.11.7"
  }
 },
 "nbformat": 4,
 "nbformat_minor": 5
}
