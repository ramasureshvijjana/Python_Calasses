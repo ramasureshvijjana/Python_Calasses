{
 "cells": [
  {
   "cell_type": "markdown",
   "id": "4487ae7f",
   "metadata": {},
   "source": [
    "# Variable Declaration"
   ]
  },
  {
   "cell_type": "markdown",
   "id": "fd80dad3",
   "metadata": {},
   "source": [
    "## Override a Variable"
   ]
  },
  {
   "cell_type": "code",
   "execution_count": 2,
   "id": "af191eb9",
   "metadata": {},
   "outputs": [
    {
     "name": "stdout",
     "output_type": "stream",
     "text": [
      "10\n"
     ]
    }
   ],
   "source": [
    "x = 10\n",
    "print( x)"
   ]
  },
  {
   "cell_type": "code",
   "execution_count": 3,
   "id": "cb5e8be6",
   "metadata": {},
   "outputs": [
    {
     "name": "stdout",
     "output_type": "stream",
     "text": [
      "VJ\n"
     ]
    }
   ],
   "source": [
    "name = \"VJ\"\n",
    "print(name)"
   ]
  },
  {
   "cell_type": "code",
   "execution_count": 6,
   "id": "7abd9443",
   "metadata": {},
   "outputs": [
    {
     "name": "stdout",
     "output_type": "stream",
     "text": [
      "kiran 26\n",
      "2734930797296 140710888618560\n"
     ]
    }
   ],
   "source": [
    "name, age = \"kiran\", 26\n",
    "print(name, age)\n",
    "print(id(name), id(age))"
   ]
  },
  {
   "cell_type": "code",
   "execution_count": 7,
   "id": "6a33b16e",
   "metadata": {},
   "outputs": [
    {
     "name": "stdout",
     "output_type": "stream",
     "text": [
      "2734930797296 2734930797296\n"
     ]
    }
   ],
   "source": [
    "x, y = \"kiran\", \"kiran\"\n",
    "print(id(x), id(y))"
   ]
  },
  {
   "cell_type": "code",
   "execution_count": 3,
   "id": "fd4d1aab",
   "metadata": {},
   "outputs": [
    {
     "name": "stdout",
     "output_type": "stream",
     "text": [
      "x is 10 \n",
      "It's data type is <class 'int'> \n",
      "x location is 140710873282624\n"
     ]
    }
   ],
   "source": [
    "x = 10\n",
    "print(f\"x is {x} \\nIt's data type is {type(x)} \\nx location is {id(x)}\")"
   ]
  },
  {
   "cell_type": "code",
   "execution_count": 10,
   "id": "d453f5fe",
   "metadata": {},
   "outputs": [
    {
     "name": "stdout",
     "output_type": "stream",
     "text": [
      "Suresh VJ Suresh VJ\n",
      "2734930812848 2734930812848\n"
     ]
    }
   ],
   "source": [
    "x = y = \"Suresh VJ\"\n",
    "print(x, y)\n",
    "print(id(x), id(y))"
   ]
  },
  {
   "cell_type": "code",
   "execution_count": 4,
   "id": "385c40c2",
   "metadata": {},
   "outputs": [
    {
     "name": "stdout",
     "output_type": "stream",
     "text": [
      "x is 20 \n",
      "It's data type is <class 'int'> \n",
      "x location is 140710873282944\n"
     ]
    }
   ],
   "source": [
    "x = 20\n",
    "print(f\"x is {x} \\nIt's data type is {type(x)} \\nx location is {id(x)}\")"
   ]
  },
  {
   "cell_type": "code",
   "execution_count": 5,
   "id": "986ddc2c",
   "metadata": {},
   "outputs": [
    {
     "name": "stdout",
     "output_type": "stream",
     "text": [
      "x is 20 \n",
      "It's data type is <class 'int'> \n",
      "x location is 140710873282944\n",
      "x is 20 \n",
      "It's data type is <class 'int'> \n",
      "x location is 140710873282944\n"
     ]
    }
   ],
   "source": [
    "x = y = 20\n",
    "print(f\"x is {x} \\nIt's data type is {type(x)} \\nx location is {id(x)}\")\n",
    "print(f\"x is {y} \\nIt's data type is {type(y)} \\nx location is {id(y)}\")"
   ]
  },
  {
   "cell_type": "code",
   "execution_count": 6,
   "id": "5f22337b",
   "metadata": {},
   "outputs": [
    {
     "name": "stdout",
     "output_type": "stream",
     "text": [
      "x is 20 \n",
      "It's data type is <class 'int'> \n",
      "x location is 140710873282944\n",
      "x is 30 \n",
      "It's data type is <class 'str'> \n",
      "x location is 1552791404016\n"
     ]
    }
   ],
   "source": [
    "x, y = 20, \"30\"\n",
    "print(f\"x is {x} \\nIt's data type is {type(x)} \\nx location is {id(x)}\")\n",
    "print(f\"x is {y} \\nIt's data type is {type(y)} \\nx location is {id(y)}\")"
   ]
  },
  {
   "cell_type": "code",
   "execution_count": 7,
   "id": "9546e480",
   "metadata": {},
   "outputs": [
    {
     "name": "stdout",
     "output_type": "stream",
     "text": [
      "x is 20 \n",
      "It's data type is <class 'int'> \n",
      "x location is 140710873282944\n",
      "x is 20 \n",
      "It's data type is <class 'int'> \n",
      "x location is 140710873282944\n"
     ]
    }
   ],
   "source": [
    "x, y = 20, 20\n",
    "print(f\"x is {x} \\nIt's data type is {type(x)} \\nx location is {id(x)}\")\n",
    "print(f\"x is {y} \\nIt's data type is {type(y)} \\nx location is {id(y)}\")"
   ]
  },
  {
   "cell_type": "code",
   "execution_count": 11,
   "id": "4a764b70",
   "metadata": {},
   "outputs": [
    {
     "ename": "SyntaxError",
     "evalue": "invalid syntax (<ipython-input-11-536f89d12af1>, line 1)",
     "output_type": "error",
     "traceback": [
      "\u001b[1;36m  File \u001b[1;32m\"<ipython-input-11-536f89d12af1>\"\u001b[1;36m, line \u001b[1;32m1\u001b[0m\n\u001b[1;33m    1a = 23\u001b[0m\n\u001b[1;37m     ^\u001b[0m\n\u001b[1;31mSyntaxError\u001b[0m\u001b[1;31m:\u001b[0m invalid syntax\n"
     ]
    }
   ],
   "source": [
    "1a = 23"
   ]
  },
  {
   "cell_type": "code",
   "execution_count": 12,
   "id": "c3c8dfa3",
   "metadata": {},
   "outputs": [
    {
     "ename": "SyntaxError",
     "evalue": "invalid syntax (<ipython-input-12-702027aeeb03>, line 1)",
     "output_type": "error",
     "traceback": [
      "\u001b[1;36m  File \u001b[1;32m\"<ipython-input-12-702027aeeb03>\"\u001b[1;36m, line \u001b[1;32m1\u001b[0m\n\u001b[1;33m    &3 = 23\u001b[0m\n\u001b[1;37m    ^\u001b[0m\n\u001b[1;31mSyntaxError\u001b[0m\u001b[1;31m:\u001b[0m invalid syntax\n"
     ]
    }
   ],
   "source": [
    "&3 = 23"
   ]
  },
  {
   "cell_type": "code",
   "execution_count": 14,
   "id": "462512ba",
   "metadata": {},
   "outputs": [
    {
     "name": "stdout",
     "output_type": "stream",
     "text": [
      "23\n"
     ]
    }
   ],
   "source": [
    "Age = 23\n",
    "print(Age)"
   ]
  },
  {
   "cell_type": "code",
   "execution_count": 15,
   "id": "19b60671",
   "metadata": {},
   "outputs": [
    {
     "ename": "SyntaxError",
     "evalue": "invalid syntax (<ipython-input-15-6618d790d361>, line 1)",
     "output_type": "error",
     "traceback": [
      "\u001b[1;36m  File \u001b[1;32m\"<ipython-input-15-6618d790d361>\"\u001b[1;36m, line \u001b[1;32m1\u001b[0m\n\u001b[1;33m    sur name = \"undru\"\u001b[0m\n\u001b[1;37m        ^\u001b[0m\n\u001b[1;31mSyntaxError\u001b[0m\u001b[1;31m:\u001b[0m invalid syntax\n"
     ]
    }
   ],
   "source": [
    "sur name = \"undru\""
   ]
  },
  {
   "cell_type": "code",
   "execution_count": 18,
   "id": "417d97c8",
   "metadata": {},
   "outputs": [
    {
     "name": "stdout",
     "output_type": "stream",
     "text": [
      "Kiran kumar\n"
     ]
    }
   ],
   "source": [
    "_name = \"Kiran\"\n",
    "_ = \"kumar\"\n",
    "print(_name, _)"
   ]
  },
  {
   "cell_type": "code",
   "execution_count": 20,
   "id": "54667476",
   "metadata": {},
   "outputs": [],
   "source": [
    "PROJECT_NAME = \"Mobile Testing\""
   ]
  },
  {
   "cell_type": "code",
   "execution_count": 21,
   "id": "8315d665",
   "metadata": {},
   "outputs": [
    {
     "name": "stdout",
     "output_type": "stream",
     "text": [
      "Mobile Testing\n"
     ]
    }
   ],
   "source": [
    "print(PROJECT_NAME)"
   ]
  },
  {
   "cell_type": "code",
   "execution_count": 22,
   "id": "971044fd",
   "metadata": {},
   "outputs": [
    {
     "name": "stdout",
     "output_type": "stream",
     "text": [
      "testing\n"
     ]
    }
   ],
   "source": [
    "PROJECT_NAME = \"testing\"\n",
    "print(PROJECT_NAME)"
   ]
  },
  {
   "cell_type": "code",
   "execution_count": null,
   "id": "44899dc3",
   "metadata": {},
   "outputs": [],
   "source": []
  }
 ],
 "metadata": {
  "kernelspec": {
   "display_name": "Python 3",
   "language": "python",
   "name": "python3"
  },
  "language_info": {
   "codemirror_mode": {
    "name": "ipython",
    "version": 3
   },
   "file_extension": ".py",
   "mimetype": "text/x-python",
   "name": "python",
   "nbconvert_exporter": "python",
   "pygments_lexer": "ipython3",
   "version": "3.8.3"
  }
 },
 "nbformat": 4,
 "nbformat_minor": 5
}
